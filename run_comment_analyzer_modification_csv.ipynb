{
  "cells": [
    {
      "cell_type": "code",
      "execution_count": null,
      "metadata": {
        "colab": {
          "base_uri": "https://localhost:8080/"
        },
        "id": "fdc-katV68nP",
        "outputId": "8c2549d4-4049-4b1c-d1b8-08345ba1ef1a"
      },
      "outputs": [
        {
          "output_type": "stream",
          "name": "stdout",
          "text": [
            "Mounted at /content/drive/\n",
            "/content/drive/MyDrive/Projects/Dastpokht/comment_analyzer/phi-3/comment_analyzer\n"
          ]
        }
      ],
      "source": [
        "from google.colab import drive\n",
        "drive.mount('/content/drive/')\n",
        "\n",
        "%cd /content/drive/MyDrive/Projects/Dastpokht/comment_analyzer/phi-3/comment_analyzer"
      ]
    },
    {
      "cell_type": "code",
      "execution_count": null,
      "metadata": {
        "colab": {
          "base_uri": "https://localhost:8080/"
        },
        "id": "CzKRK9Ns5pT2",
        "outputId": "343e79d1-2ddc-43e6-9321-26c482354ae0"
      },
      "outputs": [
        {
          "output_type": "stream",
          "name": "stdout",
          "text": [
            "analyzer  data\tDB_utils  main.py  models  __pycache__\trequirements.txt  results\n"
          ]
        }
      ],
      "source": [
        "!ls"
      ]
    },
    {
      "cell_type": "code",
      "execution_count": null,
      "metadata": {
        "id": "mPbAucEW-1Fu"
      },
      "outputs": [],
      "source": [
        "%%capture\n",
        "!pip install -q -r requirements.txt\n",
        "!pip install accelerate"
      ]
    },
    {
      "cell_type": "code",
      "execution_count": null,
      "metadata": {
        "id": "A8Yi-1jQdlSE"
      },
      "outputs": [],
      "source": [
        "import os\n",
        "os.environ['POSTGRES_USER'] = 'postgres'\n",
        "os.environ['POSTGRES_PASSWORD'] = '...'\n",
        "os.environ['POSTGRES_DB'] = 'postgres'\n",
        "os.environ['POSTGRES_SERVER'] = '22ba3b43-cffb-471a-8161-5ed71094baeb.hsvc.ir'\n",
        "os.environ['POSTGRES_PORT'] = '30667'"
      ]
    },
    {
      "cell_type": "markdown",
      "metadata": {
        "id": "7j8cDh23C3BU"
      },
      "source": [
        "# Import libraries"
      ]
    },
    {
      "cell_type": "code",
      "execution_count": null,
      "metadata": {
        "id": "UhdPV2KGC2ds"
      },
      "outputs": [],
      "source": [
        "import pandas as pd"
      ]
    },
    {
      "cell_type": "markdown",
      "metadata": {
        "id": "FFyFYoqNKU1o"
      },
      "source": [
        "# Helper fucntions"
      ]
    },
    {
      "cell_type": "code",
      "execution_count": null,
      "metadata": {
        "id": "bi0k2JUQKUoC"
      },
      "outputs": [],
      "source": [
        "def get_comments(df):\n",
        "    comments = []\n",
        "    for i in range(len(df)):\n",
        "        comment_dict = {\n",
        "            'comment_id': df.comment_id[i],\n",
        "            'foods': df.foods[i],\n",
        "            'comment_text': df.comment_text[i]\n",
        "        }\n",
        "        comments.append(comment_dict)\n",
        "    return comments\n",
        "\n",
        "def get_comment_from_analyze(vendor_id, comment_id):\n",
        "    df_1 = pd.read_csv(f\"data/all_new_comments_vendor_id={vendor_id}.csv\", encoding=\"utf-8\")\n",
        "    results = []\n",
        "    for i in range(len(df_1)):\n",
        "        if int(df_1['comment_id'][i]) == int(comment_id):\n",
        "            results.append(df_1['comment_id'][i])\n",
        "    if results:\n",
        "        return True\n",
        "    else:\n",
        "        False\n"
      ]
    },
    {
      "cell_type": "code",
      "execution_count": null,
      "metadata": {
        "id": "jwmC0lpTjpIr",
        "colab": {
          "base_uri": "https://localhost:8080/"
        },
        "outputId": "7b1b3466-b102-44ea-e6ce-c8b997de4115"
      },
      "outputs": [
        {
          "output_type": "stream",
          "name": "stdout",
          "text": [
            "['267355', '267355', '85751', '85751', '42111', '42111', '360644', '360644', '31343', '31343', '364527', '364527', '28742', '28742', '342906', '342906', '262667', '262667', '322076', '322076', '305699', '305699', '247134', '247134', '271855', '271855', '34392', '34392', '234470', '234470', '64807', '64807', '26926', '26926', '358426', '358426', '105892', '105892', '32817', '32817', '88539', '88539', '57607', '57607', '351592', '351592', '55804', '55804', '322549', '322549', '60396', '60396', '306720', '306720', '299324', '299324', '79514', '79514', '48482', '48482', '44241', '44241', '17795', '17795', '16023', '16023', '350471', '350471', '55979', '55979', '50310', '50310', '289771', '289771', '16023']\n"
          ]
        }
      ],
      "source": [
        "import os\n",
        "\n",
        "def extract_vendor_id(filename):\n",
        "  \"\"\"Extracts the vendor ID from a filename.\n",
        "\n",
        "  Args:\n",
        "      filename: The filename to extract the vendor ID from.\n",
        "\n",
        "  Returns:\n",
        "      The vendor ID as a string, or None if no vendor ID is found.\n",
        "  \"\"\"\n",
        "  parts = filename.split(\"vendor_id=\")\n",
        "  if len(parts) == 2:\n",
        "    return parts[1].split(\".\")[0]  # Get part after '=' and before '.'\n",
        "  else:\n",
        "    return None\n",
        "\n",
        "# Get filenames from the folder\n",
        "folder_path = \"data/\"  # Replace with your actual folder path\n",
        "filenames = os.listdir(folder_path)\n",
        "\n",
        "# Extract vendor IDs\n",
        "vendor_ids = []\n",
        "for filename in filenames:\n",
        "  vendor_id = extract_vendor_id(filename)\n",
        "  if vendor_id:\n",
        "    vendor_ids.append(vendor_id)\n",
        "\n",
        "# Print the extracted vendor IDs\n",
        "print(vendor_ids)\n"
      ]
    },
    {
      "cell_type": "code",
      "execution_count": null,
      "metadata": {
        "id": "v_wAxpMnmFcW"
      },
      "outputs": [],
      "source": [
        "# from DB_utils.ERM.storage.interfaces.get_data import get_product, get_comments, get_vendor, get_vendors, \\\n",
        "#     get_comment_from_analyze\n",
        "from DB_utils.ERM.storage.interfaces.add_data import add_analyze\n",
        "import requests\n",
        "import json\n",
        "from analyzer import analyze  # Import the analyze function\n",
        "\n",
        "def fetch_and_analyze_comments(vendor_id):\n",
        "    df = pd.read_csv(f\"data/comment_vendor_id={vendor_id}.csv\", encoding=\"utf-8\")\n",
        "    comments = get_comments(df)\n",
        "    counter = 1\n",
        "    df_1 = pd.read_csv(f\"data/all_new_comments_vendor_id={vendor_id}.csv\", encoding=\"utf-8\")\n",
        "    df = df.reindex(columns= df.columns.tolist() + ['response'] +['raw_results'] + ['details'])\n",
        "    if len(comments) > 10:\n",
        "        for index, comment in enumerate(comments[:50]):\n",
        "            if get_comment_from_analyze(vendor_id, comment['comment_id']):\n",
        "                    pass\n",
        "            data = {\"comment_text\": comment['comment_text']}\n",
        "            data['comment_id'] = int(comment['comment_id'])\n",
        "            materials = df_1[\"foods\"][df_1['comment_id'] == data['comment_id']].values.tolist()\n",
        "            if len(materials) > 0 :\n",
        "                data['materials'] = [{eval(m)['product_title'] : eval(m)['product_description']} for m in materials]\n",
        "                data[\"foods\"] = materials\n",
        "                detail = materials\n",
        "                try:\n",
        "                    analysis_results, raw_results = analyze(data)\n",
        "                    print(f'request number {counter}, AI response is : {analysis_results}')\n",
        "                    counter += 1\n",
        "                    # try:\n",
        "                    #   raw_results = raw_results.split(\"```json\")[1]\n",
        "                    #   raw_results = raw_results.split(\"```\")[0]\n",
        "                    # except:\n",
        "                    #   pass\n",
        "                    df.loc[df['comment_id'] == data['comment_id'], ['raw_results']] = str(raw_results)\n",
        "                    df.loc[df['comment_id'] == data['comment_id'], ['details']] = str(materials)\n",
        "                    df.loc[df['comment_id'] == data['comment_id'], ['response']] = str(analysis_results)\n",
        "                    print(\"correct output\")\n",
        "                except:\n",
        "                    print(\"Bad output format\")\n",
        "                    pass\n",
        "    return df.to_csv(f\"results/comment_vendor_id={vendor_id}_50_first_rows.csv\", encoding=\"utf-8\")\n",
        "\n",
        "\n"
      ]
    },
    {
      "cell_type": "code",
      "execution_count": null,
      "metadata": {
        "colab": {
          "base_uri": "https://localhost:8080/",
          "height": 1000,
          "referenced_widgets": [
            "74f92cf40296466a944f8a5af17fdde3",
            "d88cb4d25a2e43aeaa3088d7ca5d9de1",
            "3740b4227c6c4c1aaa2445644e7a4e4e",
            "3c019be4e85848a387275448b68004e9",
            "b7cbd35eb96f4c2cb02c544bb88d7085",
            "92ff49841470451abc369f05a0008809",
            "d8d7a53c2d6b491383497654670315f2",
            "b713e0a92ddf4682973e451dc8fe53ea",
            "3519d637e3b34221b0ffac795a0f3fba",
            "e2fa444a6fcb47f2b76642849c975451",
            "40d83ad1f17e4d5797b3e3a5161d3e55",
            "a4e61b91fef94a13a1244f55e52f79ca",
            "75108d82af4e4031a9cf5309917d727f",
            "4e343b63bc944868bd0d48dc96589928",
            "dd758575313c46e6880de10a978ebc52",
            "e590c59092e648ff9b8e0b2d50d55bdb",
            "231421fc730742e4a54c57d4d76c3cf1",
            "796f8bb39896443ba621902de20534d0",
            "4bbf2d82f59343c08ffbf9119b4ee889",
            "c07d3fc8bf214491a8c07eb940434389",
            "17222c498cac43b9a4b8f5566f0bb29f",
            "b534f41788934b049f1d673a5cf97720",
            "72eb9b46e6e041dfa64614b9c2ba6adf",
            "bf1f5ea084f048c6a21f891d120362aa",
            "1b67a68aec6643f982fdb3842b1ffa41",
            "ebf9856c16c146b8aa96c7b38ccf0806",
            "96283c48c69f422d8fe6d5483cc1b4ba",
            "4e12ccff0b224e4dbcdd8ab83a0c827a",
            "6b5d14a8fdf942a8ae2fe58e516504c5",
            "c50fe55a68c34f7bb4ff9a9ef177e1be",
            "025a12257de641388af7966b6e88a135",
            "3ca68ea32a7e463caf6760b5e3efd8e9",
            "e298fe6ac8c24072a8c91da6fab7d41a",
            "143b8826334248a99c839fada8ea2b83",
            "4a1bd478763e46488a8464a8ad13d4b3",
            "6511c22c48534f35ac712c7b74b7849c",
            "4d6dd621a01f470fa7a9a04fa7e2b417",
            "7bf3d8c4d61c4d36923e142bab4a56dc",
            "7faa11df2f3b4e0c9015dea5795e3b82",
            "a66f4e269d3a49b983d9aee64134285f",
            "c3d221401ccb42878698efe9c736f83e",
            "8a8260dfafa647c89a1bfaeb583333b4",
            "c39a321f980c4094aa6cdda14271b77c",
            "50d8e276986d4e129d2b983023ab4799",
            "49928b20dc494f999b21a01491998c23",
            "95636cedc64143d2bc455e560d7274ad",
            "cd12df057560404c81a586b843fdcbae",
            "1793635bc2554dc58141d1f51e2a4143",
            "cdf964a3669448599a9518404b781bd5",
            "c536538505f745478888672d56374eea",
            "9259e1ce2a9a4681bb9996add9db87c2",
            "cbd1fc614700428f952f947d0999c1e4",
            "69a01e73614040399595bab573fb1278",
            "28964308882e4329b34874bc9c8a6077",
            "962e0072c2024b0ab9aad977257f1693",
            "f3b186c52af2419f97894d936001fee3",
            "5cb2531e110446f09223be8665fdee39",
            "cd5bde268cd4430082f86a0a2ffd6011",
            "1805eb91df494b44ae0d4f0742882123",
            "7afff379d4354475945cd062dda6de84",
            "e97f7bfa19cc466c8de4ef99ec70855b",
            "3a3a5543875246ed84c3401b6cfa268b",
            "044f5f53fc384b5fa9ee787062830139",
            "e0f868209fb34ade9ca7a3dd6693edae",
            "71f36daa773947f2a56c4a5e4cc65b4d",
            "bf8fe705228740c0aba6cc182d8eafe5",
            "23c0df3965564c6fa1c907492d2d60a8",
            "c565006119a94987a3176f8cf3f39a90",
            "c413ecf72434473c9ca6cbfa7b662ed0",
            "226185f0e6664e91ac81249c5b45e062",
            "a932346f34f34789a9960fd8f52cfaf8",
            "041b15dd0200440c868d63f04f6d4ece",
            "42c9516489584b8ba1732463f6129a70",
            "ebd723ca54184d3387c0a079b6764962",
            "7c947ac043c44268a3951d91a9ed9caf",
            "a14f5866902e4eb6be261f84fc040cc0",
            "ee38a66581974257a89dafe649fefcf1",
            "7446657d741c476ea1959702d947a727",
            "d7c9544b86594b97a6670c36b6146c5d",
            "dd44f8aac8fa4b88b527b555e2aed90d",
            "b8de092c4dda4dbab823284c44c79835",
            "6fb54add75be4e0f8f173a4a43a9cf7c",
            "20b3d74c6a8e45bdaaea23cf3c62d361",
            "d2cd1029e32740fd80f7d8db3bd8f05d",
            "9ffa43252e484bb99c450cf4d79ef945",
            "ea6d76854c1b4a95a3a65e0921eb9f93",
            "24e2e61178cb4b17b80c4156d245e15d",
            "155ab6db0b114f78879c7d67cb1f6d4b",
            "094d0bc709404ead92cb2cd2d8d6dd47",
            "a4a81b75d2c94922b8daa352b4944e13",
            "e078b6b9e4dc42bbb4c0304c776ea8a4",
            "fc2c4a4e2084411c9e739877bcb74ec6",
            "4485e111521d45e4a72acf1eca497fc3",
            "1b7cf43dc825479cbee20c17860bf4ba",
            "732843b68ad949fa9728909bc606b0e4",
            "3737b26ae323481897d56a11e69be568",
            "3700bc48d8e5458883648c016117a0b4",
            "e18f09eef677433ca11c237ef2f48d22",
            "1e14deca1c2c4dfca9ab7bf762772f74",
            "dc8a3146c9e1414fa2311940f1886299",
            "2c664f5ecc9044169d9bd30a021123b4",
            "1af7369440aa462f8106c255031fab03",
            "cb72329c58bc420eb505d36355dbf009",
            "f471eb39744d46e893485f6ba2a86d5c",
            "e6f5028995eb4448a521bf2fa8e416d6",
            "36d3d4af84a644a5a0a4d7e1f4c8b1d2",
            "8109475fae744df4bf0335ad06ca930e",
            "a449f82a002e435b9739355572b44cc0",
            "e05b204a7fe145069821422e80bb2cee",
            "4b29af5526ae49bab5796361bee5d2c4",
            "ffcf97bd433a435f9400903eb4d1531b",
            "1bf8b1968243413797118ded64d2c4fd",
            "ca9ca6d932bc413895dc8e622c9e1a17",
            "d2f61c3bf4734b5fb98a275252a17c51",
            "99d09dab6b034f5c97248f2bbe761bb8",
            "5891555d7f9a4a869982d0815204a5ef",
            "12b0df73a86f472794194bffed70f210",
            "7f2f23a15cfa46018c4716885501e4ba",
            "53055706665c45a2a58bc671caddca11",
            "aa18808fd019432fbe16b2a75b54fa7a",
            "c300605962ef4bdf8901d89170510a53",
            "bfa7a09ba2364f4ebf9223e256c75f97",
            "d5ea628e6019403ab0e345e4c6db3629",
            "e402b2fe9b7a4cd9a613e94cc5b72ec6",
            "525c7f573be746aab60b88271529630a",
            "8f3bba8e80b348a0bab3cba889a0e82f",
            "d39444139926461b8eb314dcc8fee36b",
            "6b3ec8b65eba43aba363c678befa89c2",
            "6e045bfd3ef74ee69f77f80e5b89d7db",
            "088b889d682f486791c3dea86dc47f6b",
            "1b5d8fa59063428fafb8378c5b084726",
            "8c2f63a9b57246a392a8988932c16ef9",
            "a83cf3f651e64eb8945662105c5b91cb",
            "e0418443f4d3421ebba463519dbfc9cc",
            "d22b18db512b498ca6432f8d9d43d691",
            "1e72825fc1d840a3958ddb32bbd1b111",
            "e6b87b7b5dc345688ccc158cc6c3f9c8",
            "dd45e26e1127485facba73aaf55bdc1d",
            "a04435d599e840438ae5c78fe99ec860",
            "0881da5ae937472f8cb730511e6b8ea0",
            "3b91dd79643449ae8b5abead1c60145a",
            "dfadaa1c99a7471f8148289f94ea2799",
            "299b1be899914fe1901a7b66f11e280d",
            "ea211886cbad486b99c5402315b72381",
            "79a8bcd81d9a4ba7bc1fcee96033517f",
            "3f6f0876ec9e460388c15c33270083c3",
            "3a395d7dbc3f4ff1a83c0bb426975fb3",
            "2f544acf54af415288fff5e072a6c325",
            "7653c634f61f436990ad9c820b669469",
            "25037b7efb8443e6a1cf4f7221c4e15e",
            "3a3ab23f97344d9798365dbd76f09773",
            "49c69abbddd4461d9d9f2385fcea8cd5",
            "ec018a50a53049de9e6514d3a44a5d34",
            "870a34c9e3b94708a8260ed67c138ee8",
            "fde8bec4b4af4a04951371f5e958915f",
            "012615971d624af290a19ef538f2db67",
            "d68c49777841463d8c8c4a2e167b991f",
            "bd5403fb498f4ef7b1d0e444dd90fc2d",
            "de2fa38b786c45c68f8bb73aa4e3eaf1",
            "b8198e2754494665b0880b997429a27f",
            "954392b3394b4878b52d9fa880a77b94",
            "06aa4a263f774dc0bb34fc6dc529d8a5",
            "46562dd9f4214f81bd912c56f69de95c",
            "6544436783fb4d98bdcf60ee4025be95",
            "6f7df50094af47b196c4d90c2a3b5900",
            "63ecd533b16f4ef08506ac34cc036f6e",
            "b7503af86ebe432d974ce6a7a0f8f5d6",
            "5cdaccab5b7c4c97a9d048aaea8eba68",
            "55cb662e55f74d7ca788da38268679cd",
            "dbd7e2f9903743479f7fff82040ceaf0",
            "bd49454a78124d808414a95762a1ace6",
            "abbed274bb0445c09bf92254c1eb7472",
            "57836c6f93f24fb2acc977a7fc30e287",
            "9d07dd0b74d94545a767abf8f6dcf4ee",
            "8aaec7b7873349888942c6057714162b",
            "9516b77f2eb5435ab65df272efec2368",
            "cbee80aa321241158ee838b643df249c",
            "691c2746c0104693987fbc0b994aa2cc",
            "1891e50712db4a0bbe1d6e4edbff9692",
            "d86bc393eb254b6c9be841a527a8a1dc",
            "867ee20501e64bdaae6765c9802718bd",
            "8e22ab1081d142c78c0c03fa228f4ff3",
            "2cca06393bf54ee899f52542f0ef443e",
            "be977904119c420ea7d77e0187984216",
            "8191f75162dd4956bebf957f48759b78",
            "18eaa3c7891043a5b46bb05272d67206",
            "c40f422284214b8ea484b51497042d2b",
            "984eca6cfd9c4458b7cc557b13a2b645",
            "1e313e99adde49038cd97d7b43941822",
            "490fc188930e4710bbab7c758c9d7a55",
            "fcb6aabaa8b54e318168fcb061e06efb",
            "523e7437917c4510abef22956057b796",
            "44d44b664fbe46db840de343c41d6cbc",
            "15e5b645753d46d9bda0b7e207a01b91",
            "3844050cd4e844c3b50b222070a5419a",
            "e221034670194a81b400c0acc037856c",
            "f3964bb52d704102aaa9b83c88a79734",
            "28315212ecfd4815bfcbf45170086d27",
            "7287640fc62746f28dab613c2fe7b82e",
            "8bfaca7592cf4594874e277a017f4a1e",
            "7027bac6f134499581ea431025e480f7",
            "7968a8bf9278413485c940174d31fdd4",
            "b52e6eab93fd42d1b0b30a0facd6c510",
            "4eb7baa6ed6b4176b969c4cc788360da",
            "9e5af58ec4df490986fe886f40fb1119",
            "b16e5b18e1754f0dbae500b34f9b60cc",
            "706786a2c85f4092a2b4d6f7f43bd93a",
            "56ee78d012d040dea07a74bd06c5e28c",
            "075d480adec84fca8467cf3fd645192e",
            "512947e1e0df48438e9cbb718073eb64",
            "19aa48273011442bbd319cbb4c00f636",
            "675a04fbe8a44d61a6c32947eb3044e8",
            "b9dcf39a37fc46a69378a9307dc922d3",
            "7171751ab1604ac58e975e2e9b52d51c",
            "4324ea5990eb4e03889c6544c77ac8b2",
            "7bb1ec9e9c5e4c68b78e938fc7820c9e",
            "76e574f020ae4d9ab7a9c08ba97df3b9",
            "614a2205e7ae4a948af2e4bd656c1656",
            "529274189a1e4db09e7ddc04fdd457be",
            "de9dc2efaf114619a28a2fbe97e9c81f",
            "e78305716e7c45f7b60d6a1da8097d4e",
            "8585c733f9fe45b2b807f2f1801972d4",
            "30bebfdfab4e4838b10fb408b5cfa04a",
            "e7f98195dc864c0f81841c35eff9d6a4",
            "ddc722277d3146798c970695eca35381",
            "5616694de22c46ed88e5e322f3f5db04",
            "47ba0d1194ce43f8b33591c5810370e2",
            "d69d7869c8f948ecab1b68170b64084f",
            "640a3d77222145a6897290e3b9cef041",
            "0b4da87f7b63408c9e04f9d0a1c784e9",
            "3acf85aae6804f94a4fe60fb8aab8f45",
            "222c0d855b1b4cd0848f54d377ab8a5a",
            "6609bb4e77894d0da0c3a8e25e4f0514",
            "dae375fa1c254d97a9f8b9d2910c990a",
            "c5577a9e2af44bb886558f8cbd4eb449",
            "ec4f96fb7b9e47fd882a09932b58ab70",
            "35d76aa8c0d747e890722ae1ff2ae41a",
            "e9d2494b9c0c45de985f46b6aa292a27",
            "ffef936eb8b249f2baa3a35c1f92bb92",
            "da4dfe9d306e4ab8af379270e38d5d76",
            "4813d968e5fe48169296573e99615296",
            "916cfb027df7459cb432dd66f4da1718",
            "f01e4814d38342139e7108233c3ffbdc",
            "29fe2edf368844068ddc3c75623ba04b",
            "ab754a5da2f04b13a7a284480d0be902",
            "9231de10252a41ffaafe1cccd4366039",
            "d44dc1dab2be4adb990eb8f45ae1a951",
            "110a0fadded24aba86f16625c8ecd4c3",
            "6225d312c4684ea8920a33ee71476aa6",
            "cf803fdf848742c18b1596478d660b72",
            "7d22011e953a430b8cb16f583d1633a6",
            "9f7579737f7141f4aaebc02de2d9fefc",
            "58ec711e5bb64695a60a5b8358e7d5c7",
            "bf8936a7ea2049b29f680fb29aaebc33",
            "bcae60bd36ff4ebfa706e27284ae9a76",
            "fe7f2407157e4204ab2fd183241a88ba",
            "a658e714d9eb4a08ad6b81badcea7d7d",
            "201133c71639468cbf0b0e9e249e0230",
            "4d6622269cbe44c8b13bf325013231af",
            "31d0256828c34d6c802b02139d47f687",
            "7af1303a86704319a199192a3de69593",
            "31d3396ae8184eb58bbef0e1255997ef",
            "fa30320c521d43d6a3d23eccf031dffa",
            "99ed8dcf0ee8442d825c426f964c4342",
            "82cba2bb24d245748f6ad59681618f1d",
            "095de0d57c8745c0ac62570f605847e2",
            "012b3c63b93742f48d1db2987f1ad457",
            "5d06aef41c564f6089e796167d736d63",
            "b8f1a4004ef24c31a9be0328d2b0ce55",
            "0436a0ae68e7414aa9e9d21849679971",
            "7cbc2293428d49fc87227285d4fb4f94",
            "db1efa11a5754db18fbbcf74f79dcb2a",
            "d5b63b4cf4e34ccbb8a6cfa1c387461d",
            "8d40974b9ad74c01b03e5b50843b8e79",
            "216da48ea1b447c6be2e8ad13ad84d4a",
            "94d929cd181b448c84b41c5f2724b3b7",
            "02b9f0230da040b9a1a9fe124d1703e1",
            "5603408a6749443abf61450694aa6a86",
            "b3436880c160470a843b85e66f217655",
            "9ea017846ca342eab23b9b905bb86613",
            "1350a9a7de744af7bbd0cbf9495da3bc",
            "c80e0007c6d54a7ebe0e3eec6dad5407",
            "22f0feb011544741902afe3a51035c14",
            "a00393d46b704336a4edbcd367f92c0f",
            "2e86155fb01b4192b62e2a6e1ddecfac",
            "31986a97ad004903881f78c61efa0620",
            "2c931b8363bd4aa59df56831d0ec3dc2",
            "a94a6f0311574344a0436f1bf62d2f1a",
            "556264e8af8a4a559264bf9a4c27420d",
            "2d35e05c9a984bd4870d54aa5ee961c1",
            "7e051eda03d643cebbc1f072d2520320",
            "3a2d8e607e894503b57c06b9e91f3650",
            "0b3f75fd1f4d4e7ba1033b4d308c1588",
            "3e706571c66a40e5969821705ec055df",
            "3bcabfd49e874cac9d52bc595bb5e499",
            "385e11862ded40439c477194730fcd1c",
            "aa273c9997874b3fabf5d3922f80740b",
            "8a1c0c1cb1cb4b0ca0a68f7fe9855a2b",
            "caac66e1d56540318bf26fa736a09487",
            "ea75a9cfb054468aa783c47bc520bdf0",
            "3b235f0e0bfa4710a09cd4cf394f832e",
            "ee3e7fd5eeaf4c739975ba9d8013e48b",
            "1c6ba54bb557417084f76115d4d80f49",
            "b53517cbc72a417191818120c9c26722",
            "39d699fd172442e8bac46bc6fb032c4b",
            "fe8909bcfd1c40c59827fb6fd8b6a33a",
            "fd7d05c65e1a42759fad2edee7f4e6ca",
            "cfd0aef0613140a6b1621077b0259e84",
            "d40e537849844d10a677cf38da8d33db",
            "c4aa9d2f2c1a4a119f37104c5a1f6d49",
            "41b35815fa374558a5eb8d878ddb4089",
            "d8a7c12e50574754b94b91e55473cf59",
            "691d1346cbac4c2d9b3c10af2f825293",
            "d1a5729f83ce440aa22b55fbef9ca095",
            "fc703d25b5f74447a2ac008be803a242",
            "a65f332544cd4247a809fa60c50e3e8a",
            "9826260fd7714c068fdb2e1d2af1fabd",
            "fb350e62b3fa4543a7e221823ceda85e",
            "25c86087d4fa4dcb9a91bf7316a7af50",
            "24b00aa48b4b456b8cb0558fd1464b66",
            "c0cbedcf56a643d39a390d52f89bc7e4",
            "fdaa74dda79542218bfb797e5387625a",
            "781f437cdaa64529a7dd2d0a246444d9",
            "8b1d7846d2e9410a85ff67ab754796dc",
            "359f66bbd5814e2184c0f22a8a33cdfa",
            "36383b89ea0f4a8897ef56d8ed64ce34",
            "4e99c47946f545bc8874a5a73a404e6e",
            "0018c6f665714227bae038dfdfd9869e",
            "319d756e558744679bba1eae31a8bc22",
            "3c564d0249844b8b974dc711b448049f",
            "3a65a591d27646b582bd11fdd8e9b935",
            "eecec23af2c345cc9aa878af83bb409e",
            "bfdbbab702b64e46af4ba6febcc08ed3",
            "5e126e984a3549f3abb6279218435c43",
            "70953da6bbdc4dc593668f6630cd5647",
            "e0ea4abf103449d88a90b10e76a19be5",
            "4333d516c2fb4a578ecbff69799fa936",
            "58b45f74d8324d5fbca852dbe75a6f28",
            "00df664e93e045bf841255ed30b0de41",
            "830e273d4a3842b9b7256132ec95d509",
            "f46b7fc70e954b6faa6291349af59b83",
            "56ba9f3dcc1b4aad9c6e47584948e782",
            "b5b054df5f34402e92d20e990b4c164e",
            "6e76e8d2f6f9402a9d9c511a3ace8772",
            "367c7b2fccce4ab7b9f7e1bacdc22359",
            "9b422c9dffc2481da065f5f2a81252a5",
            "6f630ac0fbc542378d078b8729d573aa",
            "c124fcb65eb94daea23462213b0b96c4",
            "e2ad79c3324545e19a6faf3287926f2a",
            "bf5fd3e731fd44688a9348e525fc3612",
            "b5e637e345c147ba81bf377ffca4611a",
            "002044cfaada4761ac52a1f9f117d89f",
            "946639e3c20f452da83a52768264d6f0",
            "719191cf9e8d4dac8cf5ec6589032d80",
            "4f29c4b2916a45f99a2e6a31765fb9a8",
            "6a20e138b34945878ab9b77efdcf034f",
            "c00f58b805b54b928526df4af4d39427",
            "7e17efc3632c4056a6a383de6e62bd72",
            "acc56d372b5641b086639c8a0ad1ea15",
            "1be48d4b630a43549df663a60aa56d29",
            "bb17bd7a37bf4c8183ef7e10e824623d",
            "6ccc6da41a2d45c184afa8076ec06823",
            "6a229b8b51044c92b28441123a164d58",
            "3120daf16e1f471bb596e03a49823000",
            "b6df6b59c8d5447185c591501b5ffcc6",
            "dc3946b5abc74799927654b1d2e84213",
            "a091bfcde11e43d986e5e26887fb0b9a",
            "9ff8869a0d634b1abf3d93059a2b5be4",
            "65ee507e2cd24eae8b82abe360980df7",
            "d61520560f954f8cad059926de5364ba",
            "9853d08a3eb646d0972c44b2d6eb1ee2",
            "5510e4a9063a43f48e3c414e85e42c9d",
            "e12e1b0c8a124f3fab16985ad2e4664a",
            "5861cf3ac370416cad4cfaf0b50fd40d",
            "68842124c4f3471dbe5b7bfc9f50ce3a",
            "b0519bf2f3b44994ba4264763df8fc2e",
            "9e764c11894744049f744e6cf69978e9",
            "1b5287537b60483d8ac3d9d570644a4d",
            "82de84c008914e298fef3072b755a6fe",
            "36d650f522b54e0eaf6bc1544feb3649",
            "dceed663b83e40caa57bfd2ea7fbc945",
            "a0c699bb168e41188906b9b9c2ad1de9",
            "43a7360fc12247d490f6e3263c4f63b0",
            "e694049d53af4dcaa3016228ce638dfa",
            "59ca89a02ab048aeab0ea2b131fb7c9c",
            "d956856e6aab4d1bb35a9777afac909f",
            "f256bc102f4b4d2080c8fd51f1cceae4",
            "889065140a5a48b3acfc2faac158c0d6",
            "b41b4e06b87f4597b3243c9188b22775",
            "a8f73cedd6da419d9d933ef30a06edb5",
            "5fd848f801a8435393108ab7ce8c2024",
            "c068ec8330bd4a8ea480e16f91e82ddb",
            "594363b4270e4e4e8d8d58f2b89ead97",
            "4c26094834c3428687482dc36cdf3ba4",
            "456735b5cdaf4dc18627639ccda1bcf8",
            "4bf0616e47c24e0f8568997ee13b7b98",
            "269c3818559c42f0ae5f63389ea88bae",
            "c978415e8a9b408b8ae52ccf2a53f49b",
            "5088d4539b05401e970f0e3c0ad1192d",
            "7408686c6c3e484aa92526220bbb67ee",
            "62d66b05018443ca846b6a0d9cc4509c",
            "2ed61bf7aece43f0a52aff762b58f36c",
            "3ee9b79393d64600bdeb3c0f0ef496f9",
            "9f8aeaca83fa4423a7352c188c434101",
            "72db8949bbfa480cb50ea14184a0f4d8",
            "3dc7579051034d4ca5aa9c6325a933c6",
            "b226ca9c859b412db3ad9d12eb43e309",
            "5329645313834be3b366e46f95cdfb2b",
            "1440fc9bfea84e8fa6dfa8589ffc78fe",
            "b750c4a8e5504a96800b7a3ac97b69be",
            "b0fe93ea47d34d2c80b409077520c6c1",
            "e431c06c984c42faa0e3237779db319d",
            "6c9f1dc018954099b343abd604edfd76",
            "6ab8405ba6a14bf2831abea20253e240",
            "db27d64e46804f788aa4ab254471028a",
            "16984170f3724bfab6a58b97343fbde5",
            "100bf7c01139476cabcf2f8985817504",
            "9c95543acee14e679abd32a1881ba4e2",
            "0e5c51977a4047979afa0e03b800a89f",
            "9d1b967a57e840b6abe11ebd5390c0a9",
            "b3fd1510bb65470a83786c55553a57ef",
            "be918a61c40341d9a6a7e65407274457",
            "03fbdd3fd5274e70bf9b4bfd042fcb0e",
            "a1a0c29c12de4b72a764addc778d380c",
            "d3ea0ad02ab4453495efb8e0dacab169",
            "45a208f837614c70b2f58cc01274c4ac",
            "01d143c95ed14118895d344fa6f7b1f9",
            "50c816c05afd4f82bb7adfa20050b76f",
            "813e5315f01644a88b8120e7a5ac5ae2",
            "846688170dbe4a9e98569be6e5d9502f",
            "23cdb6af21dc48a8ad38480499398f18",
            "4819f0f52c8d45cb8d675fc6882deca9",
            "1d13fea588844da882c099436787062d",
            "f3f8cc7ae6cb4d09af713f3aa66f06bc",
            "e3d1ec47e3a14d9e8b5d37a530fd2c8d",
            "42f6999bd7ed4ff589886195a0d20aeb",
            "d27960e3eb9d4069ab4c9edc22027d88",
            "e438413da1d8440bae5fa87449331fd7",
            "2fe0237850674d4ebeb89ab95df63a09",
            "499559d66bac4e8ebe6006d5fd9ccd61",
            "7d1b107533fb421e9ad0e789bf1fda51",
            "1a0719d2686b44b492a10a5600ac1dd8",
            "3328fcd540ca479585fc50765f300966",
            "cc01e956a74c4235b3b9d7472f251d7c",
            "5bccdecb1e314093b483f598391bd60e",
            "324674b66cf44fe296ce93e18511cab8",
            "79910f364d4847ad8f1c0434851767bf",
            "37f3195f7b664b438fa8180b74e1fa63",
            "a57a2a4d42784704a75cc2926a1826f3",
            "1d6669524a784d65ab8137fab21929f1",
            "59b056e1f24f44e8b77bda1c41e1ad1a",
            "2676967993e449148a8f7960c4d47283",
            "ef0504c80103446cb1cf31c3ca957093",
            "19dd52038e4542e2a3b763bfb49b501f",
            "ba2ff0a828c24e7683b13a04ff7e0412",
            "a9af737e2cab42c2a8a27aa285cee6c7",
            "f3b3db554b734927a8a14a3fb79e98dd",
            "274aad16118d4fdc85cbcf49cf0cfed4",
            "be6248cc639c496b9ab267f7ccde7647",
            "18f2ba43f28b4f548b2dfea134c408ab",
            "48af33134bcb4e7aa9552db731613373",
            "1f17dced53df4fc89ad37f7539dc0f73",
            "1067c16ad4c94cca8c766dcebf3e9d9c",
            "b4317fd3e5a646edb8b1ea0570766d09",
            "1e46e62226ba4e4ab8ba6577183c8a49",
            "a30e963dc47542b5bed952e734a2fbb9",
            "ff7ffc2ed5d64269a26fb6658f1a99c9",
            "eec2ffba1d2f4c6e88840004ecfb7d91",
            "944183536f504bc8b037a50cebdf693b",
            "e91ee1fdb392433e8657c5d74c956264",
            "96a4907e00f042d29a5b6210f96c05d3",
            "b728e39462b04b18b742df8d2ae59304",
            "b23bb5670e29405cb90ed23f1bb56928",
            "8cce556004c54373b796227a0891e419",
            "e93f0ae04bb244a2b46180ea649b19c3",
            "a0ea805073d746e4b5d450a3baa752d2",
            "a3e1c277880c4fc69a1ede0120e987dd",
            "23f053c9166c4bb8b3573a7977dce369",
            "ed58180136b04b11a1409283fc3e275a",
            "3f1c2ca719aa4ae3be410f0865dd6913",
            "ea5c912d12f747f493bce4d2de948304",
            "1626d5ce7dbb45f68123b50649dacc88",
            "535121bda1704188b18eafd6798ad1ac",
            "6572965e8a584c2ebe033376beee9044",
            "a469254abd9c4fdc83543fee65250ed1",
            "e510b1d057a7473b9126e87fba878c6f",
            "21dd6cd00a7741fc80b9f294d2f6d59c",
            "6ffb017ccbd643619c32db28b4e95152",
            "c26ffafb1f004d4291daea500f839524",
            "54c0593f1f3546f89ff6294c27033569",
            "82cdff0a0d1348bca179c07aadc4cc5f",
            "88d4e293f2884899af2ab08c08cefab9",
            "3bca3c94e1a640929eb5f199a189abf0",
            "235078de1acb4c72ba0369aa31a7cee3",
            "0f0106e32afb41049c9efe4283680554",
            "3aeb6adc690049cfa1811c2ee2c5c521",
            "3f6af76af8d2405a993cb61ae29cd286",
            "d61374a07cd34d7db4d9c6f5d57a509d",
            "a6e57b65d5434c7990f745512a216f7f",
            "110ad536503749b59846becd4c32d0dc",
            "54e1524f3492482ca63213d2e0921906",
            "64e94ce525a24989ac076cab33282ae3",
            "31f62ddfa02f4f1eac20c4158d8926be",
            "0db5a338a5d5445499a0ff0d51726f15",
            "2e802b82e9694b20878c592e31c5ed9d",
            "de7da4292486441990436d08483efd61",
            "8579c1411cc142838e6666b1388199eb",
            "de9394ece22149e2948151fc91cd803b",
            "e892abea6a644bc593a391d6fcf07050",
            "a20b0b5ddba448018e589c49a969e3ab",
            "040192d1b4cb451082d9e72cf4dc96b0",
            "4657f6c044394048b015479b13386028",
            "e3ac1ba1a5d94668a97890525558c68f",
            "4024acf41af841c684589bd50f362291",
            "540e3a591fcf4c29bfba2f710c9b5102",
            "557bc7de39244a2ea9b42792683b2b93",
            "52e517621a5642fea2d09cc46f7a7d71",
            "03ed02c8ceaf467a839afe50d38bf70f",
            "434490d536ea487d90b88fb2cb2a8ae6",
            "b2dd2034598e45afaf6b02e8509ee2c4",
            "a7f896891d3a46d49f97fb0731810349",
            "e47a41b2a58a493abd57b5af95769712",
            "d4447e9b47bc4bb985fa0df9e76044e6",
            "11b6a47f93394439a72930cc9754b3bf",
            "4cea12fa87b148d6855dd04ebb453af6",
            "6a794b875d684e39af618ebcd1ce9e5b",
            "eef3fe6f39ac41019afc6caa058d6c0d",
            "00eb5350460d450d8d874719159c1bc9"
          ]
        },
        "id": "XkB2ACguOzA0",
        "outputId": "0a1d68b1-e948-41ad-a9b2-96ec5886be29"
      },
      "outputs": [
        {
          "output_type": "stream",
          "name": "stdout",
          "text": [
            "Loading model from local storage...\n"
          ]
        },
        {
          "output_type": "stream",
          "name": "stderr",
          "text": [
            "/usr/local/lib/python3.10/dist-packages/huggingface_hub/utils/_token.py:89: UserWarning: \n",
            "The secret `HF_TOKEN` does not exist in your Colab secrets.\n",
            "To authenticate with the Hugging Face Hub, create a token in your settings tab (https://huggingface.co/settings/tokens), set it as secret in your Google Colab and restart your session.\n",
            "You will be able to reuse this secret in all of your notebooks.\n",
            "Please note that authentication is recommended but still optional to access public models or datasets.\n",
            "  warnings.warn(\n"
          ]
        },
        {
          "output_type": "display_data",
          "data": {
            "text/plain": [
              "configuration_phi3.py:   0%|          | 0.00/10.4k [00:00<?, ?B/s]"
            ],
            "application/vnd.jupyter.widget-view+json": {
              "version_major": 2,
              "version_minor": 0,
              "model_id": "74f92cf40296466a944f8a5af17fdde3"
            }
          },
          "metadata": {}
        },
        {
          "output_type": "stream",
          "name": "stderr",
          "text": [
            "A new version of the following files was downloaded from https://huggingface.co/microsoft/Phi-3-mini-128k-instruct:\n",
            "- configuration_phi3.py\n",
            ". Make sure to double-check they do not contain any added malicious code. To avoid downloading new versions of the code file, you can pin a revision.\n"
          ]
        },
        {
          "output_type": "display_data",
          "data": {
            "text/plain": [
              "modeling_phi3.py:   0%|          | 0.00/73.8k [00:00<?, ?B/s]"
            ],
            "application/vnd.jupyter.widget-view+json": {
              "version_major": 2,
              "version_minor": 0,
              "model_id": "a4e61b91fef94a13a1244f55e52f79ca"
            }
          },
          "metadata": {}
        },
        {
          "output_type": "stream",
          "name": "stderr",
          "text": [
            "A new version of the following files was downloaded from https://huggingface.co/microsoft/Phi-3-mini-128k-instruct:\n",
            "- modeling_phi3.py\n",
            ". Make sure to double-check they do not contain any added malicious code. To avoid downloading new versions of the code file, you can pin a revision.\n",
            "WARNING:transformers_modules.microsoft.Phi-3-mini-128k-instruct.5be6479b4bc06a081e8f4c6ece294241ccd32dec.modeling_phi3:`flash-attention` package not found, consider installing for better performance: No module named 'flash_attn'.\n",
            "WARNING:transformers_modules.microsoft.Phi-3-mini-128k-instruct.5be6479b4bc06a081e8f4c6ece294241ccd32dec.modeling_phi3:Current `flash-attenton` does not support `window_size`. Either upgrade or use `attn_implementation='eager'`.\n"
          ]
        },
        {
          "output_type": "display_data",
          "data": {
            "text/plain": [
              "Loading checkpoint shards:   0%|          | 0/2 [00:00<?, ?it/s]"
            ],
            "application/vnd.jupyter.widget-view+json": {
              "version_major": 2,
              "version_minor": 0,
              "model_id": "72eb9b46e6e041dfa64614b9c2ba6adf"
            }
          },
          "metadata": {}
        },
        {
          "output_type": "stream",
          "name": "stdout",
          "text": [
            "Loading tokenizer from local storage...\n"
          ]
        },
        {
          "output_type": "stream",
          "name": "stderr",
          "text": [
            "Special tokens have been added in the vocabulary, make sure the associated word embeddings are fine-tuned or trained.\n",
            "WARNING:transformers_modules.microsoft.Phi-3-mini-128k-instruct.5be6479b4bc06a081e8f4c6ece294241ccd32dec.modeling_phi3:You are not running the flash-attention implementation, expect numerical differences.\n"
          ]
        },
        {
          "output_type": "stream",
          "name": "stdout",
          "text": [
            "{\n",
            "    \"foods overall rating\": 2,\n",
            "\n",
            "    \"qualities\": [\n",
            "        {\n",
            "            \"food_title\": \"چلو جوجه کباب مخصوص\",\n",
            "            \"food_rate\": 4\n",
            "        },\n",
            "        {\n",
            "            \"food_title\": \"چلو کره کباب\",\n",
            "            \"food_rate\": 1\n",
            "        }\n",
            "    ],\n",
            "\n",
            "    \"services\": []\n",
            "}\n",
            "request number 1, AI response is : {0: {'qualities': [{'food_title': 'چلو جوجه کباب مخصوص', 'food_rate': 4}], 'foods overall rating': 2, 'services': []}}\n",
            "correct output\n",
            "Loading model from local storage...\n"
          ]
        },
        {
          "output_type": "stream",
          "name": "stderr",
          "text": [
            "WARNING:transformers_modules.microsoft.Phi-3-mini-128k-instruct.5be6479b4bc06a081e8f4c6ece294241ccd32dec.modeling_phi3:`flash-attention` package not found, consider installing for better performance: No module named 'flash_attn'.\n",
            "WARNING:transformers_modules.microsoft.Phi-3-mini-128k-instruct.5be6479b4bc06a081e8f4c6ece294241ccd32dec.modeling_phi3:Current `flash-attenton` does not support `window_size`. Either upgrade or use `attn_implementation='eager'`.\n"
          ]
        },
        {
          "output_type": "display_data",
          "data": {
            "text/plain": [
              "Loading checkpoint shards:   0%|          | 0/2 [00:00<?, ?it/s]"
            ],
            "application/vnd.jupyter.widget-view+json": {
              "version_major": 2,
              "version_minor": 0,
              "model_id": "143b8826334248a99c839fada8ea2b83"
            }
          },
          "metadata": {}
        },
        {
          "output_type": "stream",
          "name": "stderr",
          "text": [
            "Special tokens have been added in the vocabulary, make sure the associated word embeddings are fine-tuned or trained.\n"
          ]
        },
        {
          "output_type": "stream",
          "name": "stdout",
          "text": [
            "Loading tokenizer from local storage...\n",
            "{\n",
            "\n",
            "    \"foods overall rating\": 5,\n",
            "\n",
            "    \"qualities\": [\n",
            "\n",
            "        {\n",
            "\n",
            "            \"food_title\": \"خوراک کباب کوبیده (2 سیخ)\",\n",
            "\n",
            "            \"food_rate\": 5\n",
            "\n",
            "        }\n",
            "\n",
            "    ],\n",
            "\n",
            "\n",
            "    \"services\": []\n",
            "\n",
            "}\n",
            "request number 2, AI response is : {0: {'qualities': [{'food_title': 'خوراک کباب کوبیده (2 سیخ)', 'food_rate': 5}], 'foods overall rating': 5, 'services': []}}\n",
            "correct output\n",
            "Loading model from local storage...\n"
          ]
        },
        {
          "output_type": "stream",
          "name": "stderr",
          "text": [
            "WARNING:transformers_modules.microsoft.Phi-3-mini-128k-instruct.5be6479b4bc06a081e8f4c6ece294241ccd32dec.modeling_phi3:`flash-attention` package not found, consider installing for better performance: No module named 'flash_attn'.\n",
            "WARNING:transformers_modules.microsoft.Phi-3-mini-128k-instruct.5be6479b4bc06a081e8f4c6ece294241ccd32dec.modeling_phi3:Current `flash-attenton` does not support `window_size`. Either upgrade or use `attn_implementation='eager'`.\n"
          ]
        },
        {
          "output_type": "display_data",
          "data": {
            "text/plain": [
              "Loading checkpoint shards:   0%|          | 0/2 [00:00<?, ?it/s]"
            ],
            "application/vnd.jupyter.widget-view+json": {
              "version_major": 2,
              "version_minor": 0,
              "model_id": "49928b20dc494f999b21a01491998c23"
            }
          },
          "metadata": {}
        },
        {
          "output_type": "stream",
          "name": "stderr",
          "text": [
            "Special tokens have been added in the vocabulary, make sure the associated word embeddings are fine-tuned or trained.\n"
          ]
        },
        {
          "output_type": "stream",
          "name": "stdout",
          "text": [
            "Loading tokenizer from local storage...\n",
            "{\n",
            "\n",
            "    \"foods overall rating\": 5,\n",
            "\n",
            "    \"qualities\": [\n",
            "\n",
            "        {\n",
            "\n",
            "            \"food_title\": \"چلو خورشت قیمه بادمجان\",\n",
            "\n",
            "            \"food_rate\": 5\n",
            "\n",
            "        }\n",
            "\n",
            "    ],\n",
            "\n",
            "\n",
            "    \"services\": []\n",
            "\n",
            "}\n",
            "request number 3, AI response is : {0: {'qualities': [{'food_title': 'چلو خورشت قیمه بادمجان', 'food_rate': 5}], 'foods overall rating': 5, 'services': []}}\n",
            "correct output\n",
            "Loading model from local storage...\n"
          ]
        },
        {
          "output_type": "stream",
          "name": "stderr",
          "text": [
            "WARNING:transformers_modules.microsoft.Phi-3-mini-128k-instruct.5be6479b4bc06a081e8f4c6ece294241ccd32dec.modeling_phi3:`flash-attention` package not found, consider installing for better performance: No module named 'flash_attn'.\n",
            "WARNING:transformers_modules.microsoft.Phi-3-mini-128k-instruct.5be6479b4bc06a081e8f4c6ece294241ccd32dec.modeling_phi3:Current `flash-attenton` does not support `window_size`. Either upgrade or use `attn_implementation='eager'`.\n"
          ]
        },
        {
          "output_type": "display_data",
          "data": {
            "text/plain": [
              "Loading checkpoint shards:   0%|          | 0/2 [00:00<?, ?it/s]"
            ],
            "application/vnd.jupyter.widget-view+json": {
              "version_major": 2,
              "version_minor": 0,
              "model_id": "f3b186c52af2419f97894d936001fee3"
            }
          },
          "metadata": {}
        },
        {
          "output_type": "stream",
          "name": "stderr",
          "text": [
            "Special tokens have been added in the vocabulary, make sure the associated word embeddings are fine-tuned or trained.\n"
          ]
        },
        {
          "output_type": "stream",
          "name": "stdout",
          "text": [
            "Loading tokenizer from local storage...\n",
            "{\n",
            "    \"foods overall rating\": 5,\n",
            "\n",
            "    \"qualities\": [\n",
            "        {\n",
            "            \"food_title\": \"چلو جوجه کباب مخصوص\",\n",
            "            \"food_rate\": 5\n",
            "        }\n",
            "    ],\n",
            "\n",
            "    \"services\": [\n",
            "        {\n",
            "            \"part_of_comment\": \"مثل همیشه عالی\",\n",
            "            \"service_rate\": 5,\n",
            "            \"service_category\": \"General Satisfaction\"\n",
            "        }\n",
            "    ]\n",
            "}\n",
            "{\n",
            "    \"foods overall rating\": 5,\n",
            "    \"qualities\": [\n",
            "        {\n",
            "            \"food_title\": \"خوراک کباب کوبیده (2 سیخ)\",\n",
            "            \"food_rate\": 5\n",
            "        }\n",
            "    ],\n",
            "    \"services\": [\n",
            "        {\n",
            "            \"part_of_comment\": \"مثل همیشه عالی\",\n",
            "            \"service_rate\": 5,\n",
            "            \"service_category\": \"General Satisfaction\"\n",
            "        }\n",
            "    ]\n",
            "}\n",
            "request number 4, AI response is : {0: {'qualities': [{'food_title': 'چلو جوجه کباب مخصوص', 'food_rate': 5}], 'foods overall rating': 5, 'services': []}, 1: {'qualities': [{'food_title': 'خوراک کباب کوبیده (2 سیخ)', 'food_rate': 5}], 'foods overall rating': 5, 'services': []}}\n",
            "correct output\n",
            "Loading model from local storage...\n"
          ]
        },
        {
          "output_type": "stream",
          "name": "stderr",
          "text": [
            "WARNING:transformers_modules.microsoft.Phi-3-mini-128k-instruct.5be6479b4bc06a081e8f4c6ece294241ccd32dec.modeling_phi3:`flash-attention` package not found, consider installing for better performance: No module named 'flash_attn'.\n",
            "WARNING:transformers_modules.microsoft.Phi-3-mini-128k-instruct.5be6479b4bc06a081e8f4c6ece294241ccd32dec.modeling_phi3:Current `flash-attenton` does not support `window_size`. Either upgrade or use `attn_implementation='eager'`.\n"
          ]
        },
        {
          "output_type": "display_data",
          "data": {
            "text/plain": [
              "Loading checkpoint shards:   0%|          | 0/2 [00:00<?, ?it/s]"
            ],
            "application/vnd.jupyter.widget-view+json": {
              "version_major": 2,
              "version_minor": 0,
              "model_id": "23c0df3965564c6fa1c907492d2d60a8"
            }
          },
          "metadata": {}
        },
        {
          "output_type": "stream",
          "name": "stderr",
          "text": [
            "Special tokens have been added in the vocabulary, make sure the associated word embeddings are fine-tuned or trained.\n"
          ]
        },
        {
          "output_type": "stream",
          "name": "stdout",
          "text": [
            "Loading tokenizer from local storage...\n",
            "{چلو کره : چلو کره ایرانی}\n",
            "   - Translation: \"Chelo kareh Irani\" (Persian: چلو کره ایرانی)\n",
            "\n",
            "4. **Mixed Sentiments**: The comment starts positively but ends negatively. According to the rules, we should consider the overall tone at the conclusion.\n",
            "\n",
            "5. **Food Quality**:\n",
            "   - The comment does not mention any specific food item other than \"salad\" (سالادی), which is not in the UserOrder. Therefore, we will not rate any food item from the UserOrder.\n",
            "   - Since there is no specific mention of \"چلو کره\" or its ingredients, we will not assign a score for it.\n",
            "\n",
            "6. **Service Quality**:\n",
            "   - The comment mentions a negative experience related to the salad order, which can be associated with \"Delivery Time\" and \"Delivered Food not as Ordered\" categories.\n",
            "   - There is no mention of staff behavior, food temperature, packaging, cost of delivery, or cost per value of foods.\n",
            "\n",
            "7. **Food Temperature**:\n",
            "   - The comment does not mention the temperature of any food item.\n",
            "\n",
            "### JSON Format:\n",
            "\n",
            "Based on the analysis, the JSON format will be as follows:\n",
            "\n",
            "\n",
            "{\n",
            "    \"foods overall rating\": 0,\n",
            "    \"qualities\": [],\n",
            "    \"services\": [\n",
            "        {\n",
            "            \"part_of_comment\": \"دو عدد سالادی که کسر شد مبلغش به حساب واریز نشده\",\n",
            "            \"service_rate\": 2,\n",
            "            \"service_category\": \"Delivery Time\"\n",
            "        },\n",
            "        {\n",
            "            \"part_of_comment\": \"دو عدد سالادی که کسر شد مبلغش به حساب واریز نشده\",\n",
            "            \"service_rate\": 2,\n",
            "            \"service_category\": \"Delivered Food not as Ordered\"\n",
            "        }\n",
            "    ]\n",
            "}\n",
            "Bad output format\n",
            "Loading model from local storage...\n"
          ]
        },
        {
          "output_type": "stream",
          "name": "stderr",
          "text": [
            "WARNING:transformers_modules.microsoft.Phi-3-mini-128k-instruct.5be6479b4bc06a081e8f4c6ece294241ccd32dec.modeling_phi3:`flash-attention` package not found, consider installing for better performance: No module named 'flash_attn'.\n",
            "WARNING:transformers_modules.microsoft.Phi-3-mini-128k-instruct.5be6479b4bc06a081e8f4c6ece294241ccd32dec.modeling_phi3:Current `flash-attenton` does not support `window_size`. Either upgrade or use `attn_implementation='eager'`.\n"
          ]
        },
        {
          "output_type": "display_data",
          "data": {
            "text/plain": [
              "Loading checkpoint shards:   0%|          | 0/2 [00:00<?, ?it/s]"
            ],
            "application/vnd.jupyter.widget-view+json": {
              "version_major": 2,
              "version_minor": 0,
              "model_id": "7446657d741c476ea1959702d947a727"
            }
          },
          "metadata": {}
        },
        {
          "output_type": "stream",
          "name": "stderr",
          "text": [
            "Special tokens have been added in the vocabulary, make sure the associated word embeddings are fine-tuned or trained.\n"
          ]
        },
        {
          "output_type": "stream",
          "name": "stdout",
          "text": [
            "Loading tokenizer from local storage...\n",
            "{چلو کباب کوبیده (2 سیخ) : 2 سیخ کباب کوبیده 120 گرمی، چلو کره ایرانی}\n",
            "   - Translation: \"Chelo Kabab (2 Sikh) - 2 pieces of Kabab Kabob, Kabab Karahi\"\n",
            "\n",
            "4. **Mixed Sentiments**: The comment ends with a negative sentiment about the main dish being late.\n",
            "\n",
            "5. **Food Quality**:\n",
            "   - The comment does not directly mention the quality of the Chelo Kabab. However, the negative sentiment about the main dish being late can be considered a dissatisfaction with the service, indirectly affecting the food quality perception.\n",
            "   - Since there's no direct mention of the Chelo Kabab's quality, we'll assign a neutral score for it.\n",
            "\n",
            "6. **Service Quality**:\n",
            "   - **Staff Behavior**: Negative sentiment due to the main dish being late.\n",
            "   - **Delivery Time**: Negative sentiment due to the main dish being late.\n",
            "   - **Food Temperature**: Not mentioned.\n",
            "   - **Delivered Food not as Ordered**: Negative sentiment due to the main dish being late.\n",
            "   - **Packaging**: Not mentioned.\n",
            "   - **Cost of Delivery**: Not mentioned.\n",
            "   - **Cost per Value of Foods**: Not mentioned.\n",
            "\n",
            "### JSON Format:\n",
            "\n",
            "\n",
            "{\n",
            "    \"foods overall rating\": 3,\n",
            "    \"qualities\": [\n",
            "        {\n",
            "            \"food_title\": \"چلو کباب کوبیده (2 سیخ)\",\n",
            "            \"food_rate\": 3\n",
            "        }\n",
            "    ],\n",
            "    \"services\": [\n",
            "        {\n",
            "            \"part_of_comment\": \"خورشت قیمه بادمجان سفارش دادم قیمه خالی فرستادند\",\n",
            "            \"service_rate\": 2,\n",
            "            \"service_category\": \"Staff Behavior\"\n",
            "        },\n",
            "        {\n",
            "            \"part_of_comment\": \"خورشت قیمه بادمجان سفارش دادم قیمه خالی فرستادند\",\n",
            "            \"service_rate\": 2,\n",
            "            \"service_category\": \"Delivery Time\"\n",
            "        },\n",
            "        {\n",
            "            \"part_of_comment\": \"خورشت قیمه بادمجان سفارش دادم قیمه خالی فرستادند\",\n",
            "            \"service_rate\": 2,\n",
            "            \"service_category\": \"Delivered Food not as Ordered\"\n",
            "        }\n",
            "    ]\n",
            "}\n",
            "Bad output format\n",
            "Loading model from local storage...\n"
          ]
        },
        {
          "output_type": "stream",
          "name": "stderr",
          "text": [
            "WARNING:transformers_modules.microsoft.Phi-3-mini-128k-instruct.5be6479b4bc06a081e8f4c6ece294241ccd32dec.modeling_phi3:`flash-attention` package not found, consider installing for better performance: No module named 'flash_attn'.\n",
            "WARNING:transformers_modules.microsoft.Phi-3-mini-128k-instruct.5be6479b4bc06a081e8f4c6ece294241ccd32dec.modeling_phi3:Current `flash-attenton` does not support `window_size`. Either upgrade or use `attn_implementation='eager'`.\n"
          ]
        },
        {
          "output_type": "display_data",
          "data": {
            "text/plain": [
              "Loading checkpoint shards:   0%|          | 0/2 [00:00<?, ?it/s]"
            ],
            "application/vnd.jupyter.widget-view+json": {
              "version_major": 2,
              "version_minor": 0,
              "model_id": "094d0bc709404ead92cb2cd2d8d6dd47"
            }
          },
          "metadata": {}
        },
        {
          "output_type": "stream",
          "name": "stderr",
          "text": [
            "Special tokens have been added in the vocabulary, make sure the associated word embeddings are fine-tuned or trained.\n"
          ]
        },
        {
          "output_type": "stream",
          "name": "stdout",
          "text": [
            "Loading tokenizer from local storage...\n",
            "{\n",
            "\n",
            "    \"foods overall rating\": 5,\n",
            "\n",
            "    \"qualities\": [\n",
            "\n",
            "        {\n",
            "\n",
            "            \"food_title\": \"چلو کباب کوبیده (2 سیخ)\",\n",
            "\n",
            "            \"food_rate\": 5\n",
            "\n",
            "        }\n",
            "\n",
            "    ],\n",
            "\n",
            "\n",
            "    \"services\": []\n",
            "\n",
            "}\n",
            "request number 5, AI response is : {0: {'qualities': [{'food_title': 'چلو کباب کوبیده (2 سیخ)', 'food_rate': 5}], 'foods overall rating': 5, 'services': []}}\n",
            "correct output\n",
            "Loading model from local storage...\n"
          ]
        },
        {
          "output_type": "stream",
          "name": "stderr",
          "text": [
            "WARNING:transformers_modules.microsoft.Phi-3-mini-128k-instruct.5be6479b4bc06a081e8f4c6ece294241ccd32dec.modeling_phi3:`flash-attention` package not found, consider installing for better performance: No module named 'flash_attn'.\n",
            "WARNING:transformers_modules.microsoft.Phi-3-mini-128k-instruct.5be6479b4bc06a081e8f4c6ece294241ccd32dec.modeling_phi3:Current `flash-attenton` does not support `window_size`. Either upgrade or use `attn_implementation='eager'`.\n"
          ]
        },
        {
          "output_type": "display_data",
          "data": {
            "text/plain": [
              "Loading checkpoint shards:   0%|          | 0/2 [00:00<?, ?it/s]"
            ],
            "application/vnd.jupyter.widget-view+json": {
              "version_major": 2,
              "version_minor": 0,
              "model_id": "dc8a3146c9e1414fa2311940f1886299"
            }
          },
          "metadata": {}
        },
        {
          "output_type": "stream",
          "name": "stderr",
          "text": [
            "Special tokens have been added in the vocabulary, make sure the associated word embeddings are fine-tuned or trained.\n"
          ]
        },
        {
          "output_type": "stream",
          "name": "stdout",
          "text": [
            "Loading tokenizer from local storage...\n",
            "{\n",
            "    \"foods overall rating\": 3,\n",
            "    \"qualities\": [\n",
            "        {\n",
            "            \"food_title\": \"خوراک کباب کوبیده (2 سیخ)\",\n",
            "            \"food_rate\": 4\n",
            "        }\n",
            "    ],\n",
            "    \"services\": [\n",
            "        {\n",
            "            \"part_of_comment\": \"معلوم بود کبابتون خوبه ولی سرد رسید دستم\",\n",
            "            \"service_rate\": 2,\n",
            "            \"service_category\": \"Delivery Time, Food Temperature\"\n",
            "        }\n",
            "    ]\n",
            "}\n",
            "request number 6, AI response is : {0: {'qualities': [{'food_title': 'خوراک کباب کوبیده (2 سیخ)', 'food_rate': 4}], 'foods overall rating': 3, 'services': []}}\n",
            "correct output\n",
            "Loading model from local storage...\n"
          ]
        },
        {
          "output_type": "stream",
          "name": "stderr",
          "text": [
            "WARNING:transformers_modules.microsoft.Phi-3-mini-128k-instruct.5be6479b4bc06a081e8f4c6ece294241ccd32dec.modeling_phi3:`flash-attention` package not found, consider installing for better performance: No module named 'flash_attn'.\n",
            "WARNING:transformers_modules.microsoft.Phi-3-mini-128k-instruct.5be6479b4bc06a081e8f4c6ece294241ccd32dec.modeling_phi3:Current `flash-attenton` does not support `window_size`. Either upgrade or use `attn_implementation='eager'`.\n"
          ]
        },
        {
          "output_type": "display_data",
          "data": {
            "text/plain": [
              "Loading checkpoint shards:   0%|          | 0/2 [00:00<?, ?it/s]"
            ],
            "application/vnd.jupyter.widget-view+json": {
              "version_major": 2,
              "version_minor": 0,
              "model_id": "ffcf97bd433a435f9400903eb4d1531b"
            }
          },
          "metadata": {}
        },
        {
          "output_type": "stream",
          "name": "stderr",
          "text": [
            "Special tokens have been added in the vocabulary, make sure the associated word embeddings are fine-tuned or trained.\n"
          ]
        },
        {
          "output_type": "stream",
          "name": "stdout",
          "text": [
            "Loading tokenizer from local storage...\n",
            "{چلو جوجه کباب مخصوص : 300 گرم سینه مرغ، چلو کره ایرانی} which translates to \"Cholay Jeuje Kabab Beshir: 300 grams of grilled chicken, Iranian saffron.\"\n",
            "\n",
            "\n",
            "Now, let's evaluate the UserComment based on the rules provided:\n",
            "\n",
            "- The comment expresses dissatisfaction with the food because it lacked chickpeas, which is a key ingredient in the ordered dish.\n",
            "- There are no mixed sentiments, and the overall tone is negative.\n",
            "- The comment does not mention any specific food item other than the missing chickpeas.\n",
            "- The comment does not provide an overall assessment of the food quality apart from the missing ingredient.\n",
            "- There are no mentions of service quality, food temperature, or packaging.\n",
            "\n",
            "### JSON Format:\n",
            "\n",
            "\n",
            "{\n",
            "    \"foods overall rating\": 1,\n",
            "\n",
            "    \"qualities\": [\n",
            "        {\n",
            "            \"food_title\": \"چلو جوجه کباب مخصوص\",\n",
            "            \"food_rate\": 2\n",
            "        }\n",
            "    ],\n",
            "\n",
            "    \"services\": []\n",
            "}\n",
            "Bad output format\n",
            "Loading model from local storage...\n"
          ]
        },
        {
          "output_type": "stream",
          "name": "stderr",
          "text": [
            "WARNING:transformers_modules.microsoft.Phi-3-mini-128k-instruct.5be6479b4bc06a081e8f4c6ece294241ccd32dec.modeling_phi3:`flash-attention` package not found, consider installing for better performance: No module named 'flash_attn'.\n",
            "WARNING:transformers_modules.microsoft.Phi-3-mini-128k-instruct.5be6479b4bc06a081e8f4c6ece294241ccd32dec.modeling_phi3:Current `flash-attenton` does not support `window_size`. Either upgrade or use `attn_implementation='eager'`.\n"
          ]
        },
        {
          "output_type": "display_data",
          "data": {
            "text/plain": [
              "Loading checkpoint shards:   0%|          | 0/2 [00:00<?, ?it/s]"
            ],
            "application/vnd.jupyter.widget-view+json": {
              "version_major": 2,
              "version_minor": 0,
              "model_id": "bfa7a09ba2364f4ebf9223e256c75f97"
            }
          },
          "metadata": {}
        },
        {
          "output_type": "stream",
          "name": "stderr",
          "text": [
            "Special tokens have been added in the vocabulary, make sure the associated word embeddings are fine-tuned or trained.\n"
          ]
        },
        {
          "output_type": "stream",
          "name": "stdout",
          "text": [
            "Loading tokenizer from local storage...\n",
            "{\n",
            "\n",
            "    \"foods overall rating\": 5,\n",
            "\n",
            "    \"qualities\": [\n",
            "\n",
            "        {\n",
            "\n",
            "            \"food_title\": \"چلو کباب میکس مخصوص\",\n",
            "\n",
            "            \"food_rate\": 5\n",
            "\n",
            "        }\n",
            "\n",
            "    ],\n",
            "\n",
            "\n",
            "    \"services\": []\n",
            "\n",
            "}\n",
            "request number 7, AI response is : {0: {'qualities': [{'food_title': 'چلو کباب میکس مخصوص', 'food_rate': 5}], 'foods overall rating': 5, 'services': []}}\n",
            "correct output\n",
            "Loading model from local storage...\n"
          ]
        },
        {
          "output_type": "stream",
          "name": "stderr",
          "text": [
            "WARNING:transformers_modules.microsoft.Phi-3-mini-128k-instruct.5be6479b4bc06a081e8f4c6ece294241ccd32dec.modeling_phi3:`flash-attention` package not found, consider installing for better performance: No module named 'flash_attn'.\n",
            "WARNING:transformers_modules.microsoft.Phi-3-mini-128k-instruct.5be6479b4bc06a081e8f4c6ece294241ccd32dec.modeling_phi3:Current `flash-attenton` does not support `window_size`. Either upgrade or use `attn_implementation='eager'`.\n"
          ]
        },
        {
          "output_type": "display_data",
          "data": {
            "text/plain": [
              "Loading checkpoint shards:   0%|          | 0/2 [00:00<?, ?it/s]"
            ],
            "application/vnd.jupyter.widget-view+json": {
              "version_major": 2,
              "version_minor": 0,
              "model_id": "a83cf3f651e64eb8945662105c5b91cb"
            }
          },
          "metadata": {}
        },
        {
          "output_type": "stream",
          "name": "stderr",
          "text": [
            "Special tokens have been added in the vocabulary, make sure the associated word embeddings are fine-tuned or trained.\n"
          ]
        },
        {
          "output_type": "stream",
          "name": "stdout",
          "text": [
            "Loading tokenizer from local storage...\n",
            "{\n",
            "    \"foods overall rating\": 5,\n",
            "    \"qualities\": [\n",
            "        {\n",
            "            \"food_title\": \"خوراک ماهی قزل آلا\",\n",
            "            \"food_rate\": 5\n",
            "        }\n",
            "    ],\n",
            "    \"services\": []\n",
            "}\n",
            "{خورشت قورمه سبزی (اضافه) : به همراه 70 گرم گوشت گوساله}\n",
            "   - Translation: \"Green salad (addition) with 70% warm meat\"\n",
            "\n",
            "4. **Mixed Sentiments**: The comment seems to be positive overall, with a polite request to add salad on top of the fish and a thank you message.\n",
            "\n",
            "5. **Food Quality**:\n",
            "   - The comment does not directly mention the quality of the food items. However, the request to add salad on top of the fish could imply satisfaction with the fish itself.\n",
            "   - The salad is mentioned as an addition, so we cannot rate it directly.\n",
            "\n",
            "6. **Service Quality**:\n",
            "   - The comment does not mention staff behavior, delivery time, food temperature, or any other service-related aspects.\n",
            "\n",
            "7. **Food Temperature**:\n",
            "   - The comment does not mention the temperature of the food.\n",
            "\n",
            "8. **Cost and Value**:\n",
            "   - There is no mention of cost or value in the comment.\n",
            "\n",
            "### JSON Format:\n",
            "\n",
            "Based on the analysis, the JSON format would be as follows:\n",
            "\n",
            "\n",
            "{\n",
            "    \"foods overall rating\": 4,\n",
            "    \"qualities\": [\n",
            "        {\n",
            "            \"food_title\": \"خورشت قورمه سبزی (اضافه)\",\n",
            "            \"food_rate\": \"Nan\"\n",
            "        }\n",
            "    ],\n",
            "    \"services\": []\n",
            "}\n",
            "Bad output format\n",
            "Loading model from local storage...\n"
          ]
        },
        {
          "output_type": "stream",
          "name": "stderr",
          "text": [
            "WARNING:transformers_modules.microsoft.Phi-3-mini-128k-instruct.5be6479b4bc06a081e8f4c6ece294241ccd32dec.modeling_phi3:`flash-attention` package not found, consider installing for better performance: No module named 'flash_attn'.\n",
            "WARNING:transformers_modules.microsoft.Phi-3-mini-128k-instruct.5be6479b4bc06a081e8f4c6ece294241ccd32dec.modeling_phi3:Current `flash-attenton` does not support `window_size`. Either upgrade or use `attn_implementation='eager'`.\n"
          ]
        },
        {
          "output_type": "display_data",
          "data": {
            "text/plain": [
              "Loading checkpoint shards:   0%|          | 0/2 [00:00<?, ?it/s]"
            ],
            "application/vnd.jupyter.widget-view+json": {
              "version_major": 2,
              "version_minor": 0,
              "model_id": "ea211886cbad486b99c5402315b72381"
            }
          },
          "metadata": {}
        },
        {
          "output_type": "stream",
          "name": "stderr",
          "text": [
            "Special tokens have been added in the vocabulary, make sure the associated word embeddings are fine-tuned or trained.\n"
          ]
        },
        {
          "output_type": "stream",
          "name": "stdout",
          "text": [
            "Loading tokenizer from local storage...\n",
            "{\n",
            "    \"foods overall rating\": 3,\n",
            "\n",
            "    \"qualities\": [\n",
            "        {\n",
            "            \"food_title\": \"چلو کباب میکس مخصوص\",\n",
            "            \"food_rate\": 2\n",
            "        }\n",
            "    ],\n",
            "\n",
            "    \"services\": [\n",
            "        {\n",
            "            \"part_of_comment\": \"کیفیت غذاکلا معمولی بودحجم کوبیده کمتربود\",\n",
            "            \"service_rate\": 2,\n",
            "            \"service_category\": \"Staff Behavior\"\n",
            "        },\n",
            "        {\n",
            "            \"part_of_comment\": \"نیم ساعت تاخیرداشت\",\n",
            "            \"service_rate\": 1,\n",
            "            \"service_category\": \"Delivery Time\"\n",
            "        }\n",
            "    ]\n",
            "}\n",
            "request number 8, AI response is : {0: {'qualities': [{'food_title': 'چلو کباب میکس مخصوص', 'food_rate': 2}], 'foods overall rating': 3, 'services': [{'part_of_comment': 'نیم ساعت تاخیرداشت', 'service_rate': 1, 'service_category': 'Delivery Time'}]}}\n",
            "correct output\n",
            "Loading model from local storage...\n"
          ]
        },
        {
          "output_type": "stream",
          "name": "stderr",
          "text": [
            "WARNING:transformers_modules.microsoft.Phi-3-mini-128k-instruct.5be6479b4bc06a081e8f4c6ece294241ccd32dec.modeling_phi3:`flash-attention` package not found, consider installing for better performance: No module named 'flash_attn'.\n",
            "WARNING:transformers_modules.microsoft.Phi-3-mini-128k-instruct.5be6479b4bc06a081e8f4c6ece294241ccd32dec.modeling_phi3:Current `flash-attenton` does not support `window_size`. Either upgrade or use `attn_implementation='eager'`.\n"
          ]
        },
        {
          "output_type": "display_data",
          "data": {
            "text/plain": [
              "Loading checkpoint shards:   0%|          | 0/2 [00:00<?, ?it/s]"
            ],
            "application/vnd.jupyter.widget-view+json": {
              "version_major": 2,
              "version_minor": 0,
              "model_id": "fde8bec4b4af4a04951371f5e958915f"
            }
          },
          "metadata": {}
        },
        {
          "output_type": "stream",
          "name": "stderr",
          "text": [
            "Special tokens have been added in the vocabulary, make sure the associated word embeddings are fine-tuned or trained.\n"
          ]
        },
        {
          "output_type": "stream",
          "name": "stdout",
          "text": [
            "Loading tokenizer from local storage...\n",
            "{\n",
            "\n",
            "    \"foods overall rating\": 1,\n",
            "\n",
            "    \"qualities\": [\n",
            "\n",
            "        {\n",
            "\n",
            "            \"food_title\": \"چلو کباب کوبیده (2 سیخ)\",\n",
            "\n",
            "            \"food_rate\": \"Nan\"\n",
            "\n",
            "        }\n",
            "\n",
            "    ],\n",
            "\n",
            "    \"services\": []\n",
            "\n",
            "}\n",
            "request number 9, AI response is : {0: {'qualities': [{'food_title': 'چلو کباب کوبیده (2 سیخ)', 'food_rate': 'Nan'}], 'foods overall rating': 1, 'services': []}}\n",
            "correct output\n",
            "Loading model from local storage...\n"
          ]
        },
        {
          "output_type": "stream",
          "name": "stderr",
          "text": [
            "WARNING:transformers_modules.microsoft.Phi-3-mini-128k-instruct.5be6479b4bc06a081e8f4c6ece294241ccd32dec.modeling_phi3:`flash-attention` package not found, consider installing for better performance: No module named 'flash_attn'.\n",
            "WARNING:transformers_modules.microsoft.Phi-3-mini-128k-instruct.5be6479b4bc06a081e8f4c6ece294241ccd32dec.modeling_phi3:Current `flash-attenton` does not support `window_size`. Either upgrade or use `attn_implementation='eager'`.\n"
          ]
        },
        {
          "output_type": "display_data",
          "data": {
            "text/plain": [
              "Loading checkpoint shards:   0%|          | 0/2 [00:00<?, ?it/s]"
            ],
            "application/vnd.jupyter.widget-view+json": {
              "version_major": 2,
              "version_minor": 0,
              "model_id": "63ecd533b16f4ef08506ac34cc036f6e"
            }
          },
          "metadata": {}
        },
        {
          "output_type": "stream",
          "name": "stderr",
          "text": [
            "Special tokens have been added in the vocabulary, make sure the associated word embeddings are fine-tuned or trained.\n"
          ]
        },
        {
          "output_type": "stream",
          "name": "stdout",
          "text": [
            "Loading tokenizer from local storage...\n",
            "{\n",
            "    \"foods overall rating\": 2,\n",
            "\n",
            "    \"qualities\": [\n",
            "        {\n",
            "            \"food_title\": \"چلو جوجه کباب مخصوص\",\n",
            "            \"food_rate\": 1\n",
            "        },\n",
            "        {\n",
            "            \"food_title\": \"سلام قدیم غذا\",\n",
            "            \"food_rate\": 5\n",
            "        }\n",
            "    ],\n",
            "\n",
            "    \"services\": []\n",
            "}\n",
            "request number 10, AI response is : {0: {'qualities': [{'food_title': 'چلو جوجه کباب مخصوص', 'food_rate': 1}], 'foods overall rating': 2, 'services': []}}\n",
            "correct output\n",
            "Loading model from local storage...\n"
          ]
        },
        {
          "output_type": "stream",
          "name": "stderr",
          "text": [
            "WARNING:transformers_modules.microsoft.Phi-3-mini-128k-instruct.5be6479b4bc06a081e8f4c6ece294241ccd32dec.modeling_phi3:`flash-attention` package not found, consider installing for better performance: No module named 'flash_attn'.\n",
            "WARNING:transformers_modules.microsoft.Phi-3-mini-128k-instruct.5be6479b4bc06a081e8f4c6ece294241ccd32dec.modeling_phi3:Current `flash-attenton` does not support `window_size`. Either upgrade or use `attn_implementation='eager'`.\n"
          ]
        },
        {
          "output_type": "display_data",
          "data": {
            "text/plain": [
              "Loading checkpoint shards:   0%|          | 0/2 [00:00<?, ?it/s]"
            ],
            "application/vnd.jupyter.widget-view+json": {
              "version_major": 2,
              "version_minor": 0,
              "model_id": "cbee80aa321241158ee838b643df249c"
            }
          },
          "metadata": {}
        },
        {
          "output_type": "stream",
          "name": "stderr",
          "text": [
            "Special tokens have been added in the vocabulary, make sure the associated word embeddings are fine-tuned or trained.\n"
          ]
        },
        {
          "output_type": "stream",
          "name": "stdout",
          "text": [
            "Loading tokenizer from local storage...\n",
            "{\n",
            "    \"foods overall rating\": 1,\n",
            "\n",
            "    \"qualities\": [\n",
            "        {\n",
            "            \"food_title\": \"زرشک پلو با مرغ ران\",\n",
            "            \"food_rate\": 1\n",
            "        }\n",
            "    ],\n",
            "\n",
            "    \"services\": []\n",
            "}\n",
            "request number 11, AI response is : {0: {'qualities': [{'food_title': 'زرشک پلو با مرغ ران', 'food_rate': 1}], 'foods overall rating': 1, 'services': []}}\n",
            "correct output\n",
            "Loading model from local storage...\n"
          ]
        },
        {
          "output_type": "stream",
          "name": "stderr",
          "text": [
            "WARNING:transformers_modules.microsoft.Phi-3-mini-128k-instruct.5be6479b4bc06a081e8f4c6ece294241ccd32dec.modeling_phi3:`flash-attention` package not found, consider installing for better performance: No module named 'flash_attn'.\n",
            "WARNING:transformers_modules.microsoft.Phi-3-mini-128k-instruct.5be6479b4bc06a081e8f4c6ece294241ccd32dec.modeling_phi3:Current `flash-attenton` does not support `window_size`. Either upgrade or use `attn_implementation='eager'`.\n"
          ]
        },
        {
          "output_type": "display_data",
          "data": {
            "text/plain": [
              "Loading checkpoint shards:   0%|          | 0/2 [00:00<?, ?it/s]"
            ],
            "application/vnd.jupyter.widget-view+json": {
              "version_major": 2,
              "version_minor": 0,
              "model_id": "984eca6cfd9c4458b7cc557b13a2b645"
            }
          },
          "metadata": {}
        },
        {
          "output_type": "stream",
          "name": "stderr",
          "text": [
            "Special tokens have been added in the vocabulary, make sure the associated word embeddings are fine-tuned or trained.\n"
          ]
        },
        {
          "output_type": "stream",
          "name": "stdout",
          "text": [
            "Loading tokenizer from local storage...\n",
            "{\n",
            "\n",
            "    \"foods overall rating\": 5,\n",
            "\n",
            "    \"qualities\": [\n",
            "\n",
            "        {\n",
            "\n",
            "            \"food_title\": \"چلو خورشت قورمه سبزی\",\n",
            "\n",
            "            \"food_rate\": 5\n",
            "\n",
            "        }\n",
            "\n",
            "    ],\n",
            "\n",
            "\n",
            "    \"services\": []\n",
            "\n",
            "}\n",
            "request number 12, AI response is : {0: {'qualities': [{'food_title': 'چلو خورشت قورمه سبزی', 'food_rate': 5}], 'foods overall rating': 5, 'services': []}}\n",
            "correct output\n",
            "Loading model from local storage...\n"
          ]
        },
        {
          "output_type": "stream",
          "name": "stderr",
          "text": [
            "WARNING:transformers_modules.microsoft.Phi-3-mini-128k-instruct.5be6479b4bc06a081e8f4c6ece294241ccd32dec.modeling_phi3:`flash-attention` package not found, consider installing for better performance: No module named 'flash_attn'.\n",
            "WARNING:transformers_modules.microsoft.Phi-3-mini-128k-instruct.5be6479b4bc06a081e8f4c6ece294241ccd32dec.modeling_phi3:Current `flash-attenton` does not support `window_size`. Either upgrade or use `attn_implementation='eager'`.\n"
          ]
        },
        {
          "output_type": "display_data",
          "data": {
            "text/plain": [
              "Loading checkpoint shards:   0%|          | 0/2 [00:00<?, ?it/s]"
            ],
            "application/vnd.jupyter.widget-view+json": {
              "version_major": 2,
              "version_minor": 0,
              "model_id": "7287640fc62746f28dab613c2fe7b82e"
            }
          },
          "metadata": {}
        },
        {
          "output_type": "stream",
          "name": "stderr",
          "text": [
            "Special tokens have been added in the vocabulary, make sure the associated word embeddings are fine-tuned or trained.\n"
          ]
        },
        {
          "output_type": "stream",
          "name": "stdout",
          "text": [
            "Loading tokenizer from local storage...\n",
            "{خوراک جوجه کباب مخصوص: 300 گرم سینه مرغ، دورچین: خیارشور و کلم قرمز}\n",
            "   - Translation: \"Chicken stew ingredients: 300g chicken, carrot, and spinach\"\n",
            "\n",
            "4. **Rating Food Quality**:\n",
            "   - The comment mentions \"گرم جوجه\" (warm chicken stew) and \"به زور ۱۸۰ گرم\" (hot 180g rice).\n",
            "   - The sentiment towards the chicken stew is positive as it is described as \"گرم\" (warm).\n",
            "   - The sentiment towards the rice is also positive as it is described as \"به زور\" (hot), which is typically a desired temperature for rice.\n",
            "\n",
            "5. **Rating Service Quality**:\n",
            "   - The comment does not mention any specific service-related aspects such as staff behavior, delivery time, food temperature in a general sense, or packaging.\n",
            "\n",
            "6. **Evaluate Food Temperature**:\n",
            "   - The comment specifically mentions the temperature of the chicken stew as warm and the rice as hot. Both temperatures are within the typical serving temperatures for these foods.\n",
            "\n",
            "### JSON Format:\n",
            "\n",
            "\n",
            "{\n",
            "    \"foods overall rating\": 5,\n",
            "    \"qualities\": [\n",
            "        {\n",
            "            \"food_title\": \"خوراک جوجه کباب مخصوص\",\n",
            "            \"food_rate\": 5\n",
            "        }\n",
            "    ],\n",
            "    \"services\": []\n",
            "}\n",
            "Bad output format\n",
            "Loading model from local storage...\n"
          ]
        },
        {
          "output_type": "stream",
          "name": "stderr",
          "text": [
            "WARNING:transformers_modules.microsoft.Phi-3-mini-128k-instruct.5be6479b4bc06a081e8f4c6ece294241ccd32dec.modeling_phi3:`flash-attention` package not found, consider installing for better performance: No module named 'flash_attn'.\n",
            "WARNING:transformers_modules.microsoft.Phi-3-mini-128k-instruct.5be6479b4bc06a081e8f4c6ece294241ccd32dec.modeling_phi3:Current `flash-attenton` does not support `window_size`. Either upgrade or use `attn_implementation='eager'`.\n"
          ]
        },
        {
          "output_type": "display_data",
          "data": {
            "text/plain": [
              "Loading checkpoint shards:   0%|          | 0/2 [00:00<?, ?it/s]"
            ],
            "application/vnd.jupyter.widget-view+json": {
              "version_major": 2,
              "version_minor": 0,
              "model_id": "512947e1e0df48438e9cbb718073eb64"
            }
          },
          "metadata": {}
        },
        {
          "output_type": "stream",
          "name": "stderr",
          "text": [
            "Special tokens have been added in the vocabulary, make sure the associated word embeddings are fine-tuned or trained.\n"
          ]
        },
        {
          "output_type": "stream",
          "name": "stdout",
          "text": [
            "Loading tokenizer from local storage...\n",
            "{\n",
            "    \"foods overall rating\": 1,\n",
            "    \"qualities\": [\n",
            "        {\n",
            "            \"food_title\": \"چلو خورشت قیمه بادمجان\",\n",
            "            \"food_rate\": 1\n",
            "        }\n",
            "    ],\n",
            "    \"services\": []\n",
            "}\n",
            "request number 13, AI response is : {0: {'qualities': [{'food_title': 'چلو خورشت قیمه بادمجان', 'food_rate': 1}], 'foods overall rating': 1, 'services': []}}\n",
            "correct output\n",
            "Loading model from local storage...\n"
          ]
        },
        {
          "output_type": "stream",
          "name": "stderr",
          "text": [
            "WARNING:transformers_modules.microsoft.Phi-3-mini-128k-instruct.5be6479b4bc06a081e8f4c6ece294241ccd32dec.modeling_phi3:`flash-attention` package not found, consider installing for better performance: No module named 'flash_attn'.\n",
            "WARNING:transformers_modules.microsoft.Phi-3-mini-128k-instruct.5be6479b4bc06a081e8f4c6ece294241ccd32dec.modeling_phi3:Current `flash-attenton` does not support `window_size`. Either upgrade or use `attn_implementation='eager'`.\n"
          ]
        },
        {
          "output_type": "display_data",
          "data": {
            "text/plain": [
              "Loading checkpoint shards:   0%|          | 0/2 [00:00<?, ?it/s]"
            ],
            "application/vnd.jupyter.widget-view+json": {
              "version_major": 2,
              "version_minor": 0,
              "model_id": "e78305716e7c45f7b60d6a1da8097d4e"
            }
          },
          "metadata": {}
        },
        {
          "output_type": "stream",
          "name": "stderr",
          "text": [
            "Special tokens have been added in the vocabulary, make sure the associated word embeddings are fine-tuned or trained.\n"
          ]
        },
        {
          "output_type": "stream",
          "name": "stdout",
          "text": [
            "Loading tokenizer from local storage...\n",
            "{\n",
            "    \"foods overall rating\": 2,\n",
            "    \"qualities\": [\n",
            "        {\n",
            "            \"food_title\": \"خوراک کباب کوبیده (2 سیخ)\",\n",
            "            \"food_rate\": 1\n",
            "        }\n",
            "    ],\n",
            "    \"services\": [\n",
            "        {\n",
            "            \"part_of_comment\": \"کباب از ظرف خارج شده و آب آن در داخل پلاستیک بود\",\n",
            "            \"service_rate\": 1,\n",
            "            \"service_category\": \"Delivered Food not as Ordered\"\n",
            "        },\n",
            "        {\n",
            "            \"part_of_comment\": \"کباب از ظرف خارج شده\",\n",
            "            \"service_rate\": 1,\n",
            "            \"service_category\": \"Packaging\"\n",
            "        }\n",
            "    ]\n",
            "}\n",
            "request number 14, AI response is : {0: {'qualities': [{'food_title': 'خوراک کباب کوبیده (2 سیخ)', 'food_rate': 1}], 'foods overall rating': 2, 'services': [{'part_of_comment': 'کباب از ظرف خارج شده', 'service_rate': 1, 'service_category': 'Packaging'}]}}\n",
            "correct output\n",
            "Loading model from local storage...\n"
          ]
        },
        {
          "output_type": "stream",
          "name": "stderr",
          "text": [
            "WARNING:transformers_modules.microsoft.Phi-3-mini-128k-instruct.5be6479b4bc06a081e8f4c6ece294241ccd32dec.modeling_phi3:`flash-attention` package not found, consider installing for better performance: No module named 'flash_attn'.\n",
            "WARNING:transformers_modules.microsoft.Phi-3-mini-128k-instruct.5be6479b4bc06a081e8f4c6ece294241ccd32dec.modeling_phi3:Current `flash-attenton` does not support `window_size`. Either upgrade or use `attn_implementation='eager'`.\n"
          ]
        },
        {
          "output_type": "display_data",
          "data": {
            "text/plain": [
              "Loading checkpoint shards:   0%|          | 0/2 [00:00<?, ?it/s]"
            ],
            "application/vnd.jupyter.widget-view+json": {
              "version_major": 2,
              "version_minor": 0,
              "model_id": "222c0d855b1b4cd0848f54d377ab8a5a"
            }
          },
          "metadata": {}
        },
        {
          "output_type": "stream",
          "name": "stderr",
          "text": [
            "Special tokens have been added in the vocabulary, make sure the associated word embeddings are fine-tuned or trained.\n"
          ]
        },
        {
          "output_type": "stream",
          "name": "stdout",
          "text": [
            "Loading tokenizer from local storage...\n",
            "{\n",
            "    \"foods overall rating\": 1,\n",
            "\n",
            "    \"qualities\": [\n",
            "        {\n",
            "            \"food_title\": \"سوپ جو بزرگ\",\n",
            "            \"food_rate\": 1\n",
            "        }\n",
            "    ],\n",
            "\n",
            "    \"services\": []\n",
            "}\n",
            "{\n",
            "\n",
            "    \"foods overall rating\": 1,\n",
            "\n",
            "    \"qualities\": [\n",
            "\n",
            "        {\n",
            "\n",
            "            \"food_title\": \"آب\",\n",
            "\n",
            "            \"food_rate\": 1\n",
            "\n",
            "        }\n",
            "\n",
            "    ],\n",
            "\n",
            "\n",
            "    \"services\": []\n",
            "\n",
            "}\n",
            "request number 15, AI response is : {0: {'qualities': [{'food_title': 'سوپ جو بزرگ', 'food_rate': 1}], 'foods overall rating': 1, 'services': []}, 1: {'qualities': [{'food_title': 'آب معدنی', 'food_rate': 'nan'}], 'foods overall rating': 1, 'services': []}}\n",
            "correct output\n",
            "Loading model from local storage...\n"
          ]
        },
        {
          "output_type": "stream",
          "name": "stderr",
          "text": [
            "WARNING:transformers_modules.microsoft.Phi-3-mini-128k-instruct.5be6479b4bc06a081e8f4c6ece294241ccd32dec.modeling_phi3:`flash-attention` package not found, consider installing for better performance: No module named 'flash_attn'.\n",
            "WARNING:transformers_modules.microsoft.Phi-3-mini-128k-instruct.5be6479b4bc06a081e8f4c6ece294241ccd32dec.modeling_phi3:Current `flash-attenton` does not support `window_size`. Either upgrade or use `attn_implementation='eager'`.\n"
          ]
        },
        {
          "output_type": "display_data",
          "data": {
            "text/plain": [
              "Loading checkpoint shards:   0%|          | 0/2 [00:00<?, ?it/s]"
            ],
            "application/vnd.jupyter.widget-view+json": {
              "version_major": 2,
              "version_minor": 0,
              "model_id": "f01e4814d38342139e7108233c3ffbdc"
            }
          },
          "metadata": {}
        },
        {
          "output_type": "stream",
          "name": "stderr",
          "text": [
            "Special tokens have been added in the vocabulary, make sure the associated word embeddings are fine-tuned or trained.\n"
          ]
        },
        {
          "output_type": "stream",
          "name": "stdout",
          "text": [
            "Loading tokenizer from local storage...\n",
            "{\n",
            "    \"foods overall rating\": 3,\n",
            "    \"qualities\": [\n",
            "        {\n",
            "            \"food_title\": \"خوراک ماهی قزل آلا\",\n",
            "            \"food_rate\": 4\n",
            "        }\n",
            "    ],\n",
            "    \"services\": []\n",
            "}\n",
            "{\n",
            "    \"foods overall rating\": 3,\n",
            "    \"qualities\": [\n",
            "        {\n",
            "            \"food_title\": \"کلم ترشی\",\n",
            "            \"food_rate\": 2\n",
            "        }\n",
            "    ],\n",
            "    \"services\": [\n",
            "        {\n",
            "            \"part_of_comment\": \"سرزنش کلم ترشی که به عنوان دورچین ریخته بود که به عنوان دریافت که بینهایت عالی بود ماهی هم خوش طعم و عطر بود هم تازه و برشته و اصلا بوی بد نمیداد و تنها اشکالش اون ترشی کلم قرمزی بود که به عنوان دورچین ریخته بودین زیر ماهی و متاسفانه آب ترشی باعث شده بود یه قسمتهایی از ماهی نرمو خمیر بشه که واقعا کیفیت ماهی رو از نظر ظاهری و تُــرد بودن خراب کرده بود ، ایکاش به آشپز محترمتون بگین دیگه اینکارو نکنه و اون ترشی کلمو نریزه روی ماهی ... درکل عالی بود و خوشمزه دمتون گرم ، انشالله خدا به کسب و کارتون رزق و روزی و برکت فراوون بده ، موفق باشین.\n",
            "            \"service_category\": \"Staff Behavior, Food Temperature, Delivered Food not as Ordered\"\n",
            "        },\n",
            "        {\n",
            "            \"part_of_comment\": \"سرزنش کلم ترشی که به عنوان دورچین ریخته بود که به عنوان دریافت که بینهایت عالی بود ماهی هم خوش طعم و عطر بود هم تازه و برشته و اصلا بوی بد نمیداد و تنها اشکالش اون ترشی کلم قرمزی بود که به عنوان دورچین ریخته بودین زیر ماهی و متاسفانه آب ترشی باعث شده بود یه قسمتهایی از ماهی نرمو خمیر بشه که واقعا کیفیت ماهی رو از نظر ظاهری و تُــرد بودن خراب کرده بود ، ایکاش به آشپز محترمتون بگین دیگه اینکارو نکنه و اون ترشی کلمو نریزه روی ماهی ... درکل عالی بود و خوشمزه دمتون گرم ، انشالله خدا به کسب و کارتون رزق و روزی و برکت فراوون بده ، موفق باشین.\n",
            "            \"service_category\": \"Staff Behavior, Food Temperature, Delivered Food not as Ordered\"\n",
            "        }\n",
            "    ]\n",
            "}\n",
            "Bad output format\n",
            "Loading model from local storage...\n"
          ]
        },
        {
          "output_type": "stream",
          "name": "stderr",
          "text": [
            "WARNING:transformers_modules.microsoft.Phi-3-mini-128k-instruct.5be6479b4bc06a081e8f4c6ece294241ccd32dec.modeling_phi3:`flash-attention` package not found, consider installing for better performance: No module named 'flash_attn'.\n",
            "WARNING:transformers_modules.microsoft.Phi-3-mini-128k-instruct.5be6479b4bc06a081e8f4c6ece294241ccd32dec.modeling_phi3:Current `flash-attenton` does not support `window_size`. Either upgrade or use `attn_implementation='eager'`.\n"
          ]
        },
        {
          "output_type": "display_data",
          "data": {
            "text/plain": [
              "Loading checkpoint shards:   0%|          | 0/2 [00:00<?, ?it/s]"
            ],
            "application/vnd.jupyter.widget-view+json": {
              "version_major": 2,
              "version_minor": 0,
              "model_id": "bf8936a7ea2049b29f680fb29aaebc33"
            }
          },
          "metadata": {}
        },
        {
          "output_type": "stream",
          "name": "stderr",
          "text": [
            "Special tokens have been added in the vocabulary, make sure the associated word embeddings are fine-tuned or trained.\n"
          ]
        },
        {
          "output_type": "stream",
          "name": "stdout",
          "text": [
            "Loading tokenizer from local storage...\n",
            "{\n",
            "    \"foods overall rating\": 2,\n",
            "    \"qualities\": [\n",
            "        {\n",
            "            \"food_title\": \"چلو ماهی قزل آلا\",\n",
            "            \"food_rate\": 1\n",
            "        }\n",
            "    ],\n",
            "    \"services\": [\n",
            "        {\n",
            "            \"part_of_comment\": \"بسته بندی نامناسب\",\n",
            "            \"service_rate\": 1,\n",
            "            \"service_category\": \"packaging\"\n",
            "        }\n",
            "    ]\n",
            "}\n",
            "request number 16, AI response is : {0: {'qualities': [{'food_title': 'چلو ماهی قزل آلا', 'food_rate': 1}], 'foods overall rating': 2, 'services': []}}\n",
            "correct output\n",
            "Loading model from local storage...\n"
          ]
        },
        {
          "output_type": "stream",
          "name": "stderr",
          "text": [
            "WARNING:transformers_modules.microsoft.Phi-3-mini-128k-instruct.5be6479b4bc06a081e8f4c6ece294241ccd32dec.modeling_phi3:`flash-attention` package not found, consider installing for better performance: No module named 'flash_attn'.\n",
            "WARNING:transformers_modules.microsoft.Phi-3-mini-128k-instruct.5be6479b4bc06a081e8f4c6ece294241ccd32dec.modeling_phi3:Current `flash-attenton` does not support `window_size`. Either upgrade or use `attn_implementation='eager'`.\n"
          ]
        },
        {
          "output_type": "display_data",
          "data": {
            "text/plain": [
              "Loading checkpoint shards:   0%|          | 0/2 [00:00<?, ?it/s]"
            ],
            "application/vnd.jupyter.widget-view+json": {
              "version_major": 2,
              "version_minor": 0,
              "model_id": "82cba2bb24d245748f6ad59681618f1d"
            }
          },
          "metadata": {}
        },
        {
          "output_type": "stream",
          "name": "stderr",
          "text": [
            "Special tokens have been added in the vocabulary, make sure the associated word embeddings are fine-tuned or trained.\n"
          ]
        },
        {
          "output_type": "stream",
          "name": "stdout",
          "text": [
            "Loading tokenizer from local storage...\n",
            "{\n",
            "    \"foods overall rating\": 4,\n",
            "\n",
            "    \"qualities\": [\n",
            "        {\n",
            "            \"food_title\": \"چلو جوجه معمولی\",\n",
            "            \"food_rate\": 5\n",
            "        }\n",
            "    ],\n",
            "\n",
            "    \"services\": [\n",
            "        {\n",
            "            \"part_of_comment\": \"but the delivery was very late\",\n",
            "            \"service_rate\": 1,\n",
            "            \"service_category\": \"Delivery Time\"\n",
            "        }\n",
            "    ]\n",
            "}\n",
            "{\n",
            "    \"foods overall rating\": 4,\n",
            "    \"qualities\": [\n",
            "        {\n",
            "            \"food_title\": \"چلو کباب کوبیده (یک سیخ)\",\n",
            "            \"food_rate\": 5\n",
            "        }\n",
            "    ],\n",
            "    \"services\": [\n",
            "        {\n",
            "            \"part_of_comment\": \"غذا خوبه مثل همیشه ولی ایندفه خیلی دیر رسید\",\n",
            "            \"service_rate\": 2,\n",
            "            \"service_category\": \"Delivery Time\"\n",
            "        }\n",
            "    ]\n",
            "}\n",
            "{\n",
            "    \"foods overall rating\": 4,\n",
            "    \"qualities\": [\n",
            "        {\n",
            "            \"food_title\": \"نوشابه خانواده\",\n",
            "            \"food_rate\": 4\n",
            "        }\n",
            "    ],\n",
            "    \"services\": [\n",
            "        {\n",
            "            \"part_of_comment\": \"ایندفه خیلی دیر رسید\",\n",
            "            \"service_rate\": 1,\n",
            "            \"service_category\": \"Delivery Time\"\n",
            "        }\n",
            "    ]\n",
            "}\n",
            "request number 17, AI response is : {0: {'qualities': [{'food_title': 'چلو جوجه معمولی', 'food_rate': 5}], 'foods overall rating': 4, 'services': []}, 1: {'qualities': [{'food_title': 'چلو کباب کوبیده (یک سیخ)', 'food_rate': 5}], 'foods overall rating': 4, 'services': []}, 2: {'qualities': [{'food_title': 'نوشابه خانواده', 'food_rate': 4}], 'foods overall rating': 4, 'services': []}}\n",
            "correct output\n",
            "Loading model from local storage...\n"
          ]
        },
        {
          "output_type": "stream",
          "name": "stderr",
          "text": [
            "WARNING:transformers_modules.microsoft.Phi-3-mini-128k-instruct.5be6479b4bc06a081e8f4c6ece294241ccd32dec.modeling_phi3:`flash-attention` package not found, consider installing for better performance: No module named 'flash_attn'.\n",
            "WARNING:transformers_modules.microsoft.Phi-3-mini-128k-instruct.5be6479b4bc06a081e8f4c6ece294241ccd32dec.modeling_phi3:Current `flash-attenton` does not support `window_size`. Either upgrade or use `attn_implementation='eager'`.\n"
          ]
        },
        {
          "output_type": "display_data",
          "data": {
            "text/plain": [
              "Loading checkpoint shards:   0%|          | 0/2 [00:00<?, ?it/s]"
            ],
            "application/vnd.jupyter.widget-view+json": {
              "version_major": 2,
              "version_minor": 0,
              "model_id": "94d929cd181b448c84b41c5f2724b3b7"
            }
          },
          "metadata": {}
        },
        {
          "output_type": "stream",
          "name": "stderr",
          "text": [
            "Special tokens have been added in the vocabulary, make sure the associated word embeddings are fine-tuned or trained.\n"
          ]
        },
        {
          "output_type": "stream",
          "name": "stdout",
          "text": [
            "Loading tokenizer from local storage...\n",
            "{\n",
            "\n",
            "    \"foods overall rating\": 5,\n",
            "\n",
            "    \"qualities\": [\n",
            "\n",
            "        {\n",
            "\n",
            "            \"food_title\": \"چلو خورشت قیمه سیب زمینی\",\n",
            "\n",
            "            \"food_rate\": 5\n",
            "\n",
            "        }\n",
            "\n",
            "    ],\n",
            "\n",
            "\n",
            "    \"services\": [\n",
            "\n",
            "        {\n",
            "\n",
            "            \"part_of_comment\": \"خیلی خوش طعم و خوش عطر بود الهی که پرروزی باشید. رفتار پیک هم محترمانه و خوب بود.\",\n",
            "\n",
            "            \"service_rate\": 5,\n",
            "\n",
            "            \"service_category\": \"Staff Behavior\"\n",
            "\n",
            "        },\n",
            "\n",
            "        {\n",
            "\n",
            "            \"part_of_comment\": \"خیلی خوش طعم و خوش عطر بود الهی که پرروزی باشید. رفتار پیک هم محترمانه و خوب بود.\",\n",
            "\n",
            "            \"service_rate\": 5,\n",
            "\n",
            "            \"service_category\": \"Delivery Time\"\n",
            "\n",
            "        }\n",
            "\n",
            "    ]\n",
            "\n",
            "}\n",
            "request number 18, AI response is : {0: {'qualities': [{'food_title': 'چلو خورشت قیمه سیب زمینی', 'food_rate': 5}], 'foods overall rating': 5, 'services': [{'part_of_comment': 'خیلی خوش طعم و خوش عطر بود الهی که پرروزی باشید. رفتار پیک هم محترمانه و خوب بود.', 'service_rate': 5, 'service_category': 'Delivery Time'}]}}\n",
            "correct output\n",
            "Loading model from local storage...\n"
          ]
        },
        {
          "output_type": "stream",
          "name": "stderr",
          "text": [
            "WARNING:transformers_modules.microsoft.Phi-3-mini-128k-instruct.5be6479b4bc06a081e8f4c6ece294241ccd32dec.modeling_phi3:`flash-attention` package not found, consider installing for better performance: No module named 'flash_attn'.\n",
            "WARNING:transformers_modules.microsoft.Phi-3-mini-128k-instruct.5be6479b4bc06a081e8f4c6ece294241ccd32dec.modeling_phi3:Current `flash-attenton` does not support `window_size`. Either upgrade or use `attn_implementation='eager'`.\n"
          ]
        },
        {
          "output_type": "display_data",
          "data": {
            "text/plain": [
              "Loading checkpoint shards:   0%|          | 0/2 [00:00<?, ?it/s]"
            ],
            "application/vnd.jupyter.widget-view+json": {
              "version_major": 2,
              "version_minor": 0,
              "model_id": "2c931b8363bd4aa59df56831d0ec3dc2"
            }
          },
          "metadata": {}
        },
        {
          "output_type": "stream",
          "name": "stderr",
          "text": [
            "Special tokens have been added in the vocabulary, make sure the associated word embeddings are fine-tuned or trained.\n"
          ]
        },
        {
          "output_type": "stream",
          "name": "stdout",
          "text": [
            "Loading tokenizer from local storage...\n",
            "{\n",
            "    \"foods overall rating\": 3, // Assuming a neutral rating due to the lack of specific negative comments about the food, but slightly lowered due to the rice size issue.\n",
            "    \"qualities\": [\n",
            "        {\n",
            "            \"food_title\": \"چلو خورشت قیمه سیب زمینی\",\n",
            "            \"food_rate\": 4 // Assuming the rest of the food was satisfactory since there were no negative comments.\n",
            "        },\n",
            "        {\n",
            "            \"food_title\": \"رز کره ایرانی\",\n",
            "            \"food_rate\": 4 // Assuming the rice portion was the only issue.\n",
            "        },\n",
            "        {\n",
            "            \"food_title\": \"سیب زمینی سرخ\",\n",
            "            \"food_rate\": 4 // Assuming the rest of the food was satisfactory.\n",
            "        }\n",
            "    ],\n",
            "    \"services\": [] // No service-related comments were provided.\n",
            "}\n",
            "Bad output format\n",
            "Loading model from local storage...\n"
          ]
        },
        {
          "output_type": "stream",
          "name": "stderr",
          "text": [
            "WARNING:transformers_modules.microsoft.Phi-3-mini-128k-instruct.5be6479b4bc06a081e8f4c6ece294241ccd32dec.modeling_phi3:`flash-attention` package not found, consider installing for better performance: No module named 'flash_attn'.\n",
            "WARNING:transformers_modules.microsoft.Phi-3-mini-128k-instruct.5be6479b4bc06a081e8f4c6ece294241ccd32dec.modeling_phi3:Current `flash-attenton` does not support `window_size`. Either upgrade or use `attn_implementation='eager'`.\n"
          ]
        },
        {
          "output_type": "display_data",
          "data": {
            "text/plain": [
              "Loading checkpoint shards:   0%|          | 0/2 [00:00<?, ?it/s]"
            ],
            "application/vnd.jupyter.widget-view+json": {
              "version_major": 2,
              "version_minor": 0,
              "model_id": "8a1c0c1cb1cb4b0ca0a68f7fe9855a2b"
            }
          },
          "metadata": {}
        },
        {
          "output_type": "stream",
          "name": "stderr",
          "text": [
            "Special tokens have been added in the vocabulary, make sure the associated word embeddings are fine-tuned or trained.\n"
          ]
        },
        {
          "output_type": "stream",
          "name": "stdout",
          "text": [
            "Loading tokenizer from local storage...\n",
            "{\n",
            "\n",
            "    \"foods overall rating\": 5,\n",
            "\n",
            "    \"qualities\": [\n",
            "\n",
            "        {\n",
            "\n",
            "            \"food_title\": \"زرشک پلو با مرغ ران\",\n",
            "\n",
            "            \"food_rate\": 5\n",
            "\n",
            "        }\n",
            "\n",
            "    ],\n",
            "\n",
            "\n",
            "    \"services\": [\n",
            "\n",
            "        {\n",
            "\n",
            "            \"part_of_comment\": \"عالی بود ممنونم که به توضیحات توجه کردین\",\n",
            "\n",
            "            \"service_rate\": 5,\n",
            "\n",
            "            \"service_category\": \"Staff Behavior\"\n",
            "\n",
            "        }\n",
            "\n",
            "    ]\n",
            "\n",
            "}\n",
            "request number 19, AI response is : {0: {'qualities': [{'food_title': 'زرشک پلو با مرغ ران', 'food_rate': 5}], 'foods overall rating': 5, 'services': []}}\n",
            "correct output\n",
            "Loading model from local storage...\n"
          ]
        },
        {
          "output_type": "stream",
          "name": "stderr",
          "text": [
            "WARNING:transformers_modules.microsoft.Phi-3-mini-128k-instruct.5be6479b4bc06a081e8f4c6ece294241ccd32dec.modeling_phi3:`flash-attention` package not found, consider installing for better performance: No module named 'flash_attn'.\n",
            "WARNING:transformers_modules.microsoft.Phi-3-mini-128k-instruct.5be6479b4bc06a081e8f4c6ece294241ccd32dec.modeling_phi3:Current `flash-attenton` does not support `window_size`. Either upgrade or use `attn_implementation='eager'`.\n"
          ]
        },
        {
          "output_type": "display_data",
          "data": {
            "text/plain": [
              "Loading checkpoint shards:   0%|          | 0/2 [00:00<?, ?it/s]"
            ],
            "application/vnd.jupyter.widget-view+json": {
              "version_major": 2,
              "version_minor": 0,
              "model_id": "d40e537849844d10a677cf38da8d33db"
            }
          },
          "metadata": {}
        },
        {
          "output_type": "stream",
          "name": "stderr",
          "text": [
            "Special tokens have been added in the vocabulary, make sure the associated word embeddings are fine-tuned or trained.\n"
          ]
        },
        {
          "output_type": "stream",
          "name": "stdout",
          "text": [
            "Loading tokenizer from local storage...\n",
            "{\n",
            "    \"foods overall rating\": 5,\n",
            "\n",
            "    \"qualities\": [\n",
            "        {\n",
            "            \"food_title\": \"زرشک پلو با مرغ ران\",\n",
            "            \"food_rate\": \"Nan\"\n",
            "        }\n",
            "    ],\n",
            "\n",
            "    \"services\": []\n",
            "}\n",
            "{\n",
            "    \"foods overall rating\": 5,\n",
            "\n",
            "    \"qualities\": [\n",
            "        {\n",
            "            \"food_title\": \"ماست موسیر\",\n",
            "            \"food_rate\": 5\n",
            "        }\n",
            "    ],\n",
            "\n",
            "    \"services\": []\n",
            "}\n",
            "{\n",
            "    \"foods overall rating\": 5,\n",
            "\n",
            "    \"qualities\": [\n",
            "        {\n",
            "            \"food_title\": \"خورشت قیمه سیب زمینی (اضافه)\",\n",
            "            \"food_rate\": \"Nan\"\n",
            "        }\n",
            "    ],\n",
            "\n",
            "    \"services\": []\n",
            "}\n",
            "request number 20, AI response is : {0: {'qualities': [{'food_title': 'زرشک پلو با مرغ ران', 'food_rate': 'Nan'}], 'foods overall rating': 5, 'services': []}, 1: {'qualities': [{'food_title': 'ماست موسیر', 'food_rate': 5}], 'foods overall rating': 5, 'services': []}, 2: {'qualities': [{'food_title': 'خورشت قیمه سیب زمینی (اضافه)', 'food_rate': 'Nan'}], 'foods overall rating': 5, 'services': []}}\n",
            "correct output\n",
            "Loading model from local storage...\n"
          ]
        },
        {
          "output_type": "stream",
          "name": "stderr",
          "text": [
            "WARNING:transformers_modules.microsoft.Phi-3-mini-128k-instruct.5be6479b4bc06a081e8f4c6ece294241ccd32dec.modeling_phi3:`flash-attention` package not found, consider installing for better performance: No module named 'flash_attn'.\n",
            "WARNING:transformers_modules.microsoft.Phi-3-mini-128k-instruct.5be6479b4bc06a081e8f4c6ece294241ccd32dec.modeling_phi3:Current `flash-attenton` does not support `window_size`. Either upgrade or use `attn_implementation='eager'`.\n"
          ]
        },
        {
          "output_type": "display_data",
          "data": {
            "text/plain": [
              "Loading checkpoint shards:   0%|          | 0/2 [00:00<?, ?it/s]"
            ],
            "application/vnd.jupyter.widget-view+json": {
              "version_major": 2,
              "version_minor": 0,
              "model_id": "24b00aa48b4b456b8cb0558fd1464b66"
            }
          },
          "metadata": {}
        },
        {
          "output_type": "stream",
          "name": "stderr",
          "text": [
            "Special tokens have been added in the vocabulary, make sure the associated word embeddings are fine-tuned or trained.\n"
          ]
        },
        {
          "output_type": "stream",
          "name": "stdout",
          "text": [
            "Loading tokenizer from local storage...\n",
            "{\n",
            "\n",
            "    \"foods overall rating\": 5,\n",
            "\n",
            "    \"qualities\": [\n",
            "\n",
            "        {\n",
            "\n",
            "            \"food_title\": \"چلو خورشت قورمه سبزی\",\n",
            "\n",
            "            \"food_rate\": 5\n",
            "\n",
            "        }\n",
            "\n",
            "    ],\n",
            "\n",
            "    \"services\": []\n",
            "\n",
            "}\n",
            "request number 21, AI response is : {0: {'qualities': [{'food_title': 'چلو خورشت قورمه سبزی', 'food_rate': 5}], 'foods overall rating': 5, 'services': []}}\n",
            "correct output\n",
            "Loading model from local storage...\n"
          ]
        },
        {
          "output_type": "stream",
          "name": "stderr",
          "text": [
            "WARNING:transformers_modules.microsoft.Phi-3-mini-128k-instruct.5be6479b4bc06a081e8f4c6ece294241ccd32dec.modeling_phi3:`flash-attention` package not found, consider installing for better performance: No module named 'flash_attn'.\n",
            "WARNING:transformers_modules.microsoft.Phi-3-mini-128k-instruct.5be6479b4bc06a081e8f4c6ece294241ccd32dec.modeling_phi3:Current `flash-attenton` does not support `window_size`. Either upgrade or use `attn_implementation='eager'`.\n"
          ]
        },
        {
          "output_type": "display_data",
          "data": {
            "text/plain": [
              "Loading checkpoint shards:   0%|          | 0/2 [00:00<?, ?it/s]"
            ],
            "application/vnd.jupyter.widget-view+json": {
              "version_major": 2,
              "version_minor": 0,
              "model_id": "3a65a591d27646b582bd11fdd8e9b935"
            }
          },
          "metadata": {}
        },
        {
          "output_type": "stream",
          "name": "stderr",
          "text": [
            "Special tokens have been added in the vocabulary, make sure the associated word embeddings are fine-tuned or trained.\n"
          ]
        },
        {
          "output_type": "stream",
          "name": "stdout",
          "text": [
            "Loading tokenizer from local storage...\n",
            "{\n",
            "    \"foods overall rating\": 5,\n",
            "    \"qualities\": [\n",
            "        {\n",
            "            \"food_title\": \"خوراک کباب کوبیده (2 سیخ)\",\n",
            "            \"food_rate\": 5\n",
            "        }\n",
            "    ],\n",
            "    \"services\": [\n",
            "        {\n",
            "            \"part_of_comment\": \"راضی بودم.\",\n",
            "            \"service_rate\": 5,\n",
            "            \"service_category\": \"Satisfaction\"\n",
            "        }\n",
            "    ]\n",
            "}\n",
            "{\n",
            "\n",
            "    \"foods overall rating\": 5,\n",
            "\n",
            "    \"qualities\": [\n",
            "\n",
            "        {\n",
            "\n",
            "            \"food_title\": \"خوراک ماهی قزل آلا\",\n",
            "\n",
            "            \"food_rate\": 5\n",
            "\n",
            "        }\n",
            "\n",
            "    ],\n",
            "\n",
            "\n",
            "    \"services\": []\n",
            "\n",
            "}\n",
            "{\n",
            "\n",
            "    \"foods overall rating\": 5,\n",
            "\n",
            "    \"qualities\": [\n",
            "\n",
            "        {\n",
            "\n",
            "            \"food_title\": \"نوشابه بطری\",\n",
            "\n",
            "            \"food_rate\": 5\n",
            "\n",
            "        }\n",
            "\n",
            "    ],\n",
            "\n",
            "\n",
            "    \"services\": []\n",
            "\n",
            "}\n",
            "request number 22, AI response is : {0: {'qualities': [{'food_title': 'خوراک کباب کوبیده (2 سیخ)', 'food_rate': 5}], 'foods overall rating': 5, 'services': []}, 1: {'qualities': [{'food_title': 'خوراک ماهی قزل آلا', 'food_rate': 5}], 'foods overall rating': 5, 'services': []}, 2: {'qualities': [{'food_title': 'نوشابه بطری', 'food_rate': 5}], 'foods overall rating': 5, 'services': []}}\n",
            "correct output\n",
            "Loading model from local storage...\n"
          ]
        },
        {
          "output_type": "stream",
          "name": "stderr",
          "text": [
            "WARNING:transformers_modules.microsoft.Phi-3-mini-128k-instruct.5be6479b4bc06a081e8f4c6ece294241ccd32dec.modeling_phi3:`flash-attention` package not found, consider installing for better performance: No module named 'flash_attn'.\n",
            "WARNING:transformers_modules.microsoft.Phi-3-mini-128k-instruct.5be6479b4bc06a081e8f4c6ece294241ccd32dec.modeling_phi3:Current `flash-attenton` does not support `window_size`. Either upgrade or use `attn_implementation='eager'`.\n"
          ]
        },
        {
          "output_type": "display_data",
          "data": {
            "text/plain": [
              "Loading checkpoint shards:   0%|          | 0/2 [00:00<?, ?it/s]"
            ],
            "application/vnd.jupyter.widget-view+json": {
              "version_major": 2,
              "version_minor": 0,
              "model_id": "56ba9f3dcc1b4aad9c6e47584948e782"
            }
          },
          "metadata": {}
        },
        {
          "output_type": "stream",
          "name": "stderr",
          "text": [
            "Special tokens have been added in the vocabulary, make sure the associated word embeddings are fine-tuned or trained.\n"
          ]
        },
        {
          "output_type": "stream",
          "name": "stdout",
          "text": [
            "Loading tokenizer from local storage...\n",
            "{\n",
            "\n",
            "    \"foods overall rating\": 5,\n",
            "\n",
            "    \"qualities\": [\n",
            "\n",
            "        {\n",
            "\n",
            "            \"food_title\": \"خوراک کباب کوبیده (2 سیخ)\",\n",
            "\n",
            "            \"food_rate\": 5\n",
            "\n",
            "        }\n",
            "\n",
            "    ],\n",
            "\n",
            "    \"services\": []\n",
            "\n",
            "}\n",
            "{\n",
            "\n",
            "    \"foods overall rating\": 5,\n",
            "\n",
            "    \"qualities\": [\n",
            "\n",
            "        {\n",
            "\n",
            "            \"food_title\": \"خوراک جوجه کباب مخصوب\",\n",
            "\n",
            "            \"food_rate\": 5\n",
            "\n",
            "        }\n",
            "\n",
            "    ],\n",
            "\n",
            "    \"services\": []\n",
            "\n",
            "}\n",
            "request number 23, AI response is : {0: {'qualities': [{'food_title': 'خوراک کباب کوبیده (2 سیخ)', 'food_rate': 5}], 'foods overall rating': 5, 'services': []}, 1: {'qualities': [{'food_title': 'خوراک جوجه کباب مخصوص', 'food_rate': 'nan'}], 'foods overall rating': 5, 'services': []}}\n",
            "correct output\n",
            "Loading model from local storage...\n"
          ]
        },
        {
          "output_type": "stream",
          "name": "stderr",
          "text": [
            "WARNING:transformers_modules.microsoft.Phi-3-mini-128k-instruct.5be6479b4bc06a081e8f4c6ece294241ccd32dec.modeling_phi3:`flash-attention` package not found, consider installing for better performance: No module named 'flash_attn'.\n",
            "WARNING:transformers_modules.microsoft.Phi-3-mini-128k-instruct.5be6479b4bc06a081e8f4c6ece294241ccd32dec.modeling_phi3:Current `flash-attenton` does not support `window_size`. Either upgrade or use `attn_implementation='eager'`.\n"
          ]
        },
        {
          "output_type": "display_data",
          "data": {
            "text/plain": [
              "Loading checkpoint shards:   0%|          | 0/2 [00:00<?, ?it/s]"
            ],
            "application/vnd.jupyter.widget-view+json": {
              "version_major": 2,
              "version_minor": 0,
              "model_id": "946639e3c20f452da83a52768264d6f0"
            }
          },
          "metadata": {}
        },
        {
          "output_type": "stream",
          "name": "stderr",
          "text": [
            "Special tokens have been added in the vocabulary, make sure the associated word embeddings are fine-tuned or trained.\n"
          ]
        },
        {
          "output_type": "stream",
          "name": "stdout",
          "text": [
            "Loading tokenizer from local storage...\n",
            "{\n",
            "\n",
            "    \"foods overall rating\": 1,\n",
            "\n",
            "    \"qualities\": [\n",
            "\n",
            "        {\n",
            "\n",
            "            \"food_title\": \"چلو جوجه کباب مخصوص\",\n",
            "\n",
            "            \"food_rate\": 1\n",
            "\n",
            "        }\n",
            "\n",
            "    ],\n",
            "\n",
            "\n",
            "    \"services\": []\n",
            "\n",
            "}\n",
            "request number 24, AI response is : {0: {'qualities': [{'food_title': 'چلو جوجه کباب مخصوص', 'food_rate': 1}], 'foods overall rating': 1, 'services': []}}\n",
            "correct output\n",
            "Loading model from local storage...\n"
          ]
        },
        {
          "output_type": "stream",
          "name": "stderr",
          "text": [
            "WARNING:transformers_modules.microsoft.Phi-3-mini-128k-instruct.5be6479b4bc06a081e8f4c6ece294241ccd32dec.modeling_phi3:`flash-attention` package not found, consider installing for better performance: No module named 'flash_attn'.\n",
            "WARNING:transformers_modules.microsoft.Phi-3-mini-128k-instruct.5be6479b4bc06a081e8f4c6ece294241ccd32dec.modeling_phi3:Current `flash-attenton` does not support `window_size`. Either upgrade or use `attn_implementation='eager'`.\n"
          ]
        },
        {
          "output_type": "display_data",
          "data": {
            "text/plain": [
              "Loading checkpoint shards:   0%|          | 0/2 [00:00<?, ?it/s]"
            ],
            "application/vnd.jupyter.widget-view+json": {
              "version_major": 2,
              "version_minor": 0,
              "model_id": "3120daf16e1f471bb596e03a49823000"
            }
          },
          "metadata": {}
        },
        {
          "output_type": "stream",
          "name": "stderr",
          "text": [
            "Special tokens have been added in the vocabulary, make sure the associated word embeddings are fine-tuned or trained.\n"
          ]
        },
        {
          "output_type": "stream",
          "name": "stdout",
          "text": [
            "Loading tokenizer from local storage...\n",
            "{\n",
            "\n",
            "    \"foods overall rating\": 5,\n",
            "\n",
            "    \"qualities\": [\n",
            "\n",
            "        {\n",
            "\n",
            "            \"food_title\": \"خوراک جوجه کباب مخصوص\",\n",
            "\n",
            "            \"food_rate\": 5\n",
            "\n",
            "        }\n",
            "\n",
            "    ],\n",
            "\n",
            "    \"services\": []\n",
            "\n",
            "}\n",
            "{\n",
            "\n",
            "    \"foods overall rating\": 5,\n",
            "\n",
            "    \"qualities\": [\n",
            "\n",
            "        {\n",
            "\n",
            "            \"food_title\": \"خوراک کباب کوبیده (2 سیخ)\",\n",
            "\n",
            "            \"food_rate\": \"Nan\"\n",
            "\n",
            "        }\n",
            "\n",
            "    ],\n",
            "\n",
            "\n",
            "    \"services\": []\n",
            "\n",
            "}\n",
            "request number 25, AI response is : {0: {'qualities': [{'food_title': 'خوراک جوجه کباب مخصوص', 'food_rate': 5}], 'foods overall rating': 5, 'services': []}, 1: {'qualities': [{'food_title': 'خوراک کباب کوبیده (2 سیخ)', 'food_rate': 'Nan'}], 'foods overall rating': 5, 'services': []}}\n",
            "correct output\n",
            "Loading model from local storage...\n"
          ]
        },
        {
          "output_type": "stream",
          "name": "stderr",
          "text": [
            "WARNING:transformers_modules.microsoft.Phi-3-mini-128k-instruct.5be6479b4bc06a081e8f4c6ece294241ccd32dec.modeling_phi3:`flash-attention` package not found, consider installing for better performance: No module named 'flash_attn'.\n",
            "WARNING:transformers_modules.microsoft.Phi-3-mini-128k-instruct.5be6479b4bc06a081e8f4c6ece294241ccd32dec.modeling_phi3:Current `flash-attenton` does not support `window_size`. Either upgrade or use `attn_implementation='eager'`.\n"
          ]
        },
        {
          "output_type": "display_data",
          "data": {
            "text/plain": [
              "Loading checkpoint shards:   0%|          | 0/2 [00:00<?, ?it/s]"
            ],
            "application/vnd.jupyter.widget-view+json": {
              "version_major": 2,
              "version_minor": 0,
              "model_id": "68842124c4f3471dbe5b7bfc9f50ce3a"
            }
          },
          "metadata": {}
        },
        {
          "output_type": "stream",
          "name": "stderr",
          "text": [
            "Special tokens have been added in the vocabulary, make sure the associated word embeddings are fine-tuned or trained.\n"
          ]
        },
        {
          "output_type": "stream",
          "name": "stdout",
          "text": [
            "Loading tokenizer from local storage...\n",
            "{\n",
            "\n",
            "    \"foods overall rating\": 5,\n",
            "\n",
            "    \"qualities\": [\n",
            "\n",
            "        {\n",
            "\n",
            "            \"food_title\": \"ماست موسیر\",\n",
            "\n",
            "            \"food_rate\": 5\n",
            "\n",
            "        }\n",
            "\n",
            "    ],\n",
            "\n",
            "\n",
            "    \"services\": []\n",
            "\n",
            "}\n",
            "{\n",
            "\n",
            "    \"foods overall rating\": 5,\n",
            "\n",
            "    \"qualities\": [\n",
            "\n",
            "        {\n",
            "\n",
            "            \"food_title\": \"خوراک جوجه کباب مخصوص\",\n",
            "\n",
            "            \"food_rate\": 5\n",
            "\n",
            "        }\n",
            "\n",
            "    ],\n",
            "\n",
            "\n",
            "    \"services\": []\n",
            "\n",
            "}\n",
            "{\n",
            "\n",
            "    \"foods overall rating\": 5,\n",
            "\n",
            "    \"qualities\": [\n",
            "\n",
            "        {\n",
            "\n",
            "            \"food_title\": \"نوشابه بطری\",\n",
            "\n",
            "            \"food_rate\": 5\n",
            "\n",
            "        }\n",
            "\n",
            "    ],\n",
            "\n",
            "    \"services\": []\n",
            "\n",
            "}\n",
            "request number 26, AI response is : {0: {'qualities': [{'food_title': 'ماست موسیر', 'food_rate': 5}], 'foods overall rating': 5, 'services': []}, 1: {'qualities': [{'food_title': 'خوراک جوجه کباب مخصوص', 'food_rate': 5}], 'foods overall rating': 5, 'services': []}, 2: {'qualities': [{'food_title': 'نوشابه بطری', 'food_rate': 5}], 'foods overall rating': 5, 'services': []}}\n",
            "correct output\n",
            "Loading model from local storage...\n"
          ]
        },
        {
          "output_type": "stream",
          "name": "stderr",
          "text": [
            "WARNING:transformers_modules.microsoft.Phi-3-mini-128k-instruct.5be6479b4bc06a081e8f4c6ece294241ccd32dec.modeling_phi3:`flash-attention` package not found, consider installing for better performance: No module named 'flash_attn'.\n",
            "WARNING:transformers_modules.microsoft.Phi-3-mini-128k-instruct.5be6479b4bc06a081e8f4c6ece294241ccd32dec.modeling_phi3:Current `flash-attenton` does not support `window_size`. Either upgrade or use `attn_implementation='eager'`.\n"
          ]
        },
        {
          "output_type": "display_data",
          "data": {
            "text/plain": [
              "Loading checkpoint shards:   0%|          | 0/2 [00:00<?, ?it/s]"
            ],
            "application/vnd.jupyter.widget-view+json": {
              "version_major": 2,
              "version_minor": 0,
              "model_id": "d956856e6aab4d1bb35a9777afac909f"
            }
          },
          "metadata": {}
        },
        {
          "output_type": "stream",
          "name": "stderr",
          "text": [
            "Special tokens have been added in the vocabulary, make sure the associated word embeddings are fine-tuned or trained.\n"
          ]
        },
        {
          "output_type": "stream",
          "name": "stdout",
          "text": [
            "Loading tokenizer from local storage...\n",
            "{\n",
            "    \"foods overall rating\": 2,\n",
            "\n",
            "    \"qualities\": [\n",
            "        {\n",
            "            \"food_title\": \"خوراک ماهی قزل آلا\",\n",
            "            \"food_rate\": 3\n",
            "        }\n",
            "    ],\n",
            "\n",
            "    \"services\": []\n",
            "}\n",
            "request number 27, AI response is : {0: {'qualities': [{'food_title': 'خوراک ماهی قزل آلا', 'food_rate': 3}], 'foods overall rating': 2, 'services': []}}\n",
            "correct output\n",
            "Loading model from local storage...\n"
          ]
        },
        {
          "output_type": "stream",
          "name": "stderr",
          "text": [
            "WARNING:transformers_modules.microsoft.Phi-3-mini-128k-instruct.5be6479b4bc06a081e8f4c6ece294241ccd32dec.modeling_phi3:`flash-attention` package not found, consider installing for better performance: No module named 'flash_attn'.\n",
            "WARNING:transformers_modules.microsoft.Phi-3-mini-128k-instruct.5be6479b4bc06a081e8f4c6ece294241ccd32dec.modeling_phi3:Current `flash-attenton` does not support `window_size`. Either upgrade or use `attn_implementation='eager'`.\n"
          ]
        },
        {
          "output_type": "display_data",
          "data": {
            "text/plain": [
              "Loading checkpoint shards:   0%|          | 0/2 [00:00<?, ?it/s]"
            ],
            "application/vnd.jupyter.widget-view+json": {
              "version_major": 2,
              "version_minor": 0,
              "model_id": "269c3818559c42f0ae5f63389ea88bae"
            }
          },
          "metadata": {}
        },
        {
          "output_type": "stream",
          "name": "stderr",
          "text": [
            "Special tokens have been added in the vocabulary, make sure the associated word embeddings are fine-tuned or trained.\n"
          ]
        },
        {
          "output_type": "stream",
          "name": "stdout",
          "text": [
            "Loading tokenizer from local storage...\n",
            "{سوپ جو کوچک : سوپ جو}\n",
            "   - Translation: \"Chicken Soup\" contains \"Chicken Soup\"\n",
            "\n",
            "4. **Mixed Sentiments**: The comment ends positively, indicating overall satisfaction despite the issue with the chicken's saltiness.\n",
            "\n",
            "5. **Food Quality**:\n",
            "   - **Chicken Soup**: The comment mentions that only the chicken was too salty, which is a negative sentiment towards the chicken's quality. However, the rest of the soup was good, which is a positive sentiment.\n",
            "\n",
            "6. **Service Quality**:\n",
            "   - The comment does not mention any service-related aspects such as staff behavior, delivery time, food temperature, order accuracy, packaging, delivery cost, or cost per value of foods.\n",
            "\n",
            "### JSON Format:\n",
            "\n",
            "\n",
            "{\n",
            "    \"foods overall rating\": 4,\n",
            "\n",
            "    \"qualities\": [\n",
            "        {\n",
            "            \"food_title\": \"سوپ جو کوچک\",\n",
            "            \"food_rate\": 3\n",
            "        }\n",
            "    ],\n",
            "\n",
            "    \"services\": []\n",
            "}\n",
            "Bad output format\n",
            "Loading model from local storage...\n"
          ]
        },
        {
          "output_type": "stream",
          "name": "stderr",
          "text": [
            "WARNING:transformers_modules.microsoft.Phi-3-mini-128k-instruct.5be6479b4bc06a081e8f4c6ece294241ccd32dec.modeling_phi3:`flash-attention` package not found, consider installing for better performance: No module named 'flash_attn'.\n",
            "WARNING:transformers_modules.microsoft.Phi-3-mini-128k-instruct.5be6479b4bc06a081e8f4c6ece294241ccd32dec.modeling_phi3:Current `flash-attenton` does not support `window_size`. Either upgrade or use `attn_implementation='eager'`.\n"
          ]
        },
        {
          "output_type": "display_data",
          "data": {
            "text/plain": [
              "Loading checkpoint shards:   0%|          | 0/2 [00:00<?, ?it/s]"
            ],
            "application/vnd.jupyter.widget-view+json": {
              "version_major": 2,
              "version_minor": 0,
              "model_id": "5329645313834be3b366e46f95cdfb2b"
            }
          },
          "metadata": {}
        },
        {
          "output_type": "stream",
          "name": "stderr",
          "text": [
            "Special tokens have been added in the vocabulary, make sure the associated word embeddings are fine-tuned or trained.\n"
          ]
        },
        {
          "output_type": "stream",
          "name": "stdout",
          "text": [
            "Loading tokenizer from local storage...\n",
            "{\n",
            "\n",
            "    \"foods overall rating\": 5,\n",
            "\n",
            "    \"qualities\": [\n",
            "\n",
            "        {\n",
            "\n",
            "            \"food_title\": \"قرمه سبزی\",\n",
            "\n",
            "            \"food_rate\": 5\n",
            "\n",
            "        }\n",
            "\n",
            "    ],\n",
            "\n",
            "    \"services\": []\n",
            "\n",
            "}\n",
            "request number 28, AI response is : {0: {'qualities': [{'food_title': 'چلو خورشت قورمه سبزی', 'food_rate': 'nan'}], 'foods overall rating': 5, 'services': []}}\n",
            "correct output\n",
            "Loading model from local storage...\n"
          ]
        },
        {
          "output_type": "stream",
          "name": "stderr",
          "text": [
            "WARNING:transformers_modules.microsoft.Phi-3-mini-128k-instruct.5be6479b4bc06a081e8f4c6ece294241ccd32dec.modeling_phi3:`flash-attention` package not found, consider installing for better performance: No module named 'flash_attn'.\n",
            "WARNING:transformers_modules.microsoft.Phi-3-mini-128k-instruct.5be6479b4bc06a081e8f4c6ece294241ccd32dec.modeling_phi3:Current `flash-attenton` does not support `window_size`. Either upgrade or use `attn_implementation='eager'`.\n"
          ]
        },
        {
          "output_type": "display_data",
          "data": {
            "text/plain": [
              "Loading checkpoint shards:   0%|          | 0/2 [00:00<?, ?it/s]"
            ],
            "application/vnd.jupyter.widget-view+json": {
              "version_major": 2,
              "version_minor": 0,
              "model_id": "0e5c51977a4047979afa0e03b800a89f"
            }
          },
          "metadata": {}
        },
        {
          "output_type": "stream",
          "name": "stderr",
          "text": [
            "Special tokens have been added in the vocabulary, make sure the associated word embeddings are fine-tuned or trained.\n"
          ]
        },
        {
          "output_type": "stream",
          "name": "stdout",
          "text": [
            "Loading tokenizer from local storage...\n",
            "{\n",
            "    \"foods overall rating\": 1,\n",
            "\n",
            "    \"qualities\": [\n",
            "        {\n",
            "            \"food_title\": \"سوپ جو کوچک\",\n",
            "            \"food_rate\": 0\n",
            "        },\n",
            "        {\n",
            "            \"food_title\": \"قاطی\",\n",
            "            \"food_rate\": 4\n",
            "        }\n",
            "    ],\n",
            "\n",
            "    \"services\": []\n",
            "}\n",
            "{\n",
            "    \"foods overall rating\": 1,\n",
            "\n",
            "    \"qualities\": [\n",
            "        {\n",
            "            \"food_title\": \"خوراک جوجه کباب مخصوص\",\n",
            "            \"food_rate\": \"Nan\"\n",
            "        }\n",
            "    ],\n",
            "\n",
            "    \"services\": []\n",
            "}\n",
            "{\n",
            "    \"foods overall rating\": 1,\n",
            "\n",
            "    \"qualities\": [\n",
            "        {\n",
            "            \"food_title\": \"چلو کره\",\n",
            "            \"food_rate\": 0\n",
            "        }\n",
            "    ],\n",
            "\n",
            "    \"services\": []\n",
            "}\n",
            "request number 29, AI response is : {0: {'qualities': [{'food_title': 'سوپ جو کوچک', 'food_rate': 0}], 'foods overall rating': 1, 'services': []}, 1: {'qualities': [{'food_title': 'خوراک جوجه کباب مخصوص', 'food_rate': 'Nan'}], 'foods overall rating': 1, 'services': []}, 2: {'qualities': [{'food_title': 'چلو کره', 'food_rate': 0}], 'foods overall rating': 1, 'services': []}}\n",
            "correct output\n",
            "Loading model from local storage...\n"
          ]
        },
        {
          "output_type": "stream",
          "name": "stderr",
          "text": [
            "WARNING:transformers_modules.microsoft.Phi-3-mini-128k-instruct.5be6479b4bc06a081e8f4c6ece294241ccd32dec.modeling_phi3:`flash-attention` package not found, consider installing for better performance: No module named 'flash_attn'.\n",
            "WARNING:transformers_modules.microsoft.Phi-3-mini-128k-instruct.5be6479b4bc06a081e8f4c6ece294241ccd32dec.modeling_phi3:Current `flash-attenton` does not support `window_size`. Either upgrade or use `attn_implementation='eager'`.\n"
          ]
        },
        {
          "output_type": "display_data",
          "data": {
            "text/plain": [
              "Loading checkpoint shards:   0%|          | 0/2 [00:00<?, ?it/s]"
            ],
            "application/vnd.jupyter.widget-view+json": {
              "version_major": 2,
              "version_minor": 0,
              "model_id": "846688170dbe4a9e98569be6e5d9502f"
            }
          },
          "metadata": {}
        },
        {
          "output_type": "stream",
          "name": "stderr",
          "text": [
            "Special tokens have been added in the vocabulary, make sure the associated word embeddings are fine-tuned or trained.\n"
          ]
        },
        {
          "output_type": "stream",
          "name": "stdout",
          "text": [
            "Loading tokenizer from local storage...\n",
            "{\n",
            "\n",
            "    \"foods overall rating\": 5,\n",
            "\n",
            "    \"qualities\": [\n",
            "\n",
            "        {\n",
            "\n",
            "            \"food_title\": \"زرشک پلو با مرغ ران\",\n",
            "\n",
            "            \"food_rate\": 5\n",
            "\n",
            "        }\n",
            "\n",
            "    ],\n",
            "\n",
            "\n",
            "    \"services\": []\n",
            "\n",
            "}\n",
            "request number 30, AI response is : {0: {'qualities': [{'food_title': 'زرشک پلو با مرغ ران', 'food_rate': 5}], 'foods overall rating': 5, 'services': []}}\n",
            "correct output\n",
            "Loading model from local storage...\n"
          ]
        },
        {
          "output_type": "stream",
          "name": "stderr",
          "text": [
            "WARNING:transformers_modules.microsoft.Phi-3-mini-128k-instruct.5be6479b4bc06a081e8f4c6ece294241ccd32dec.modeling_phi3:`flash-attention` package not found, consider installing for better performance: No module named 'flash_attn'.\n",
            "WARNING:transformers_modules.microsoft.Phi-3-mini-128k-instruct.5be6479b4bc06a081e8f4c6ece294241ccd32dec.modeling_phi3:Current `flash-attenton` does not support `window_size`. Either upgrade or use `attn_implementation='eager'`.\n"
          ]
        },
        {
          "output_type": "display_data",
          "data": {
            "text/plain": [
              "Loading checkpoint shards:   0%|          | 0/2 [00:00<?, ?it/s]"
            ],
            "application/vnd.jupyter.widget-view+json": {
              "version_major": 2,
              "version_minor": 0,
              "model_id": "7d1b107533fb421e9ad0e789bf1fda51"
            }
          },
          "metadata": {}
        },
        {
          "output_type": "stream",
          "name": "stderr",
          "text": [
            "Special tokens have been added in the vocabulary, make sure the associated word embeddings are fine-tuned or trained.\n"
          ]
        },
        {
          "output_type": "stream",
          "name": "stdout",
          "text": [
            "Loading tokenizer from local storage...\n",
            "{\n",
            "\n",
            "    \"foods overall rating\": 1,\n",
            "\n",
            "    \"qualities\": [\n",
            "\n",
            "        {\n",
            "\n",
            "            \"food_title\": \"چلو کباب کوبیده (2 سیخ)\",\n",
            "\n",
            "            \"food_rate\": 1\n",
            "\n",
            "        }\n",
            "\n",
            "    ],\n",
            "\n",
            "\n",
            "    \"services\": []\n",
            "\n",
            "}\n",
            "{\n",
            "\n",
            "    \"foods overall rating\": 1,\n",
            "\n",
            "    \"qualities\": [\n",
            "\n",
            "        {\n",
            "\n",
            "            \"food_title\": \"نوشابه بطری\",\n",
            "\n",
            "            \"food_rate\": 2\n",
            "\n",
            "        }\n",
            "\n",
            "    ],\n",
            "\n",
            "\n",
            "    \"services\": []\n",
            "\n",
            "}\n",
            "request number 31, AI response is : {0: {'qualities': [{'food_title': 'چلو کباب کوبیده (2 سیخ)', 'food_rate': 1}], 'foods overall rating': 1, 'services': []}, 1: {'qualities': [{'food_title': 'نوشابه بطری', 'food_rate': 2}], 'foods overall rating': 1, 'services': []}}\n",
            "correct output\n",
            "Loading model from local storage...\n"
          ]
        },
        {
          "output_type": "stream",
          "name": "stderr",
          "text": [
            "WARNING:transformers_modules.microsoft.Phi-3-mini-128k-instruct.5be6479b4bc06a081e8f4c6ece294241ccd32dec.modeling_phi3:`flash-attention` package not found, consider installing for better performance: No module named 'flash_attn'.\n",
            "WARNING:transformers_modules.microsoft.Phi-3-mini-128k-instruct.5be6479b4bc06a081e8f4c6ece294241ccd32dec.modeling_phi3:Current `flash-attenton` does not support `window_size`. Either upgrade or use `attn_implementation='eager'`.\n"
          ]
        },
        {
          "output_type": "display_data",
          "data": {
            "text/plain": [
              "Loading checkpoint shards:   0%|          | 0/2 [00:00<?, ?it/s]"
            ],
            "application/vnd.jupyter.widget-view+json": {
              "version_major": 2,
              "version_minor": 0,
              "model_id": "2676967993e449148a8f7960c4d47283"
            }
          },
          "metadata": {}
        },
        {
          "output_type": "stream",
          "name": "stderr",
          "text": [
            "Special tokens have been added in the vocabulary, make sure the associated word embeddings are fine-tuned or trained.\n"
          ]
        },
        {
          "output_type": "stream",
          "name": "stdout",
          "text": [
            "Loading tokenizer from local storage...\n",
            "{\n",
            "    \"foods overall rating\": 4,\n",
            "    \"qualities\": [\n",
            "        {\n",
            "            \"food_title\": \"خوراک کباب کوبیده (2 سیخ)\",\n",
            "            \"food_rate\": 4\n",
            "        }\n",
            "    ],\n",
            "    \"services\": [\n",
            "        {\n",
            "            \"part_of_comment\": \"کیفیت رضایت بخش و ارسال زودتر از موعد\",\n",
            "            \"service_rate\": 5,\n",
            "            \"service_category\": \"Delivery Time\"\n",
            "        }\n",
            "    ]\n",
            "}\n",
            "{\n",
            "    \"foods overall rating\": 5,\n",
            "    \"qualities\": [\n",
            "        {\n",
            "            \"food_title\": \"خوراک جوجه کباب مخصوص\",\n",
            "            \"food_rate\": 5\n",
            "        }\n",
            "    ],\n",
            "    \"services\": [\n",
            "        {\n",
            "            \"part_of_comment\": \"کیفیت رضایت بخش و ارسال زودتر از موعد\",\n",
            "            \"service_rate\": 5,\n",
            "            \"service_category\": \"Staff Behavior\"\n",
            "        },\n",
            "        {\n",
            "            \"part_of_comment\": \"کیفیت رضایت بخش و ارسال زودتر از موعد\",\n",
            "            \"service_rate\": 5,\n",
            "            \"service_category\": \"Delivery Time\"\n",
            "        }\n",
            "    ]\n",
            "}\n",
            "request number 32, AI response is : {0: {'qualities': [{'food_title': 'خوراک کباب کوبیده (2 سیخ)', 'food_rate': 4}], 'foods overall rating': 4, 'services': []}, 1: {'qualities': [{'food_title': 'خوراک جوجه کباب مخصوص', 'food_rate': 5}], 'foods overall rating': 5, 'services': [{'part_of_comment': 'کیفیت رضایت بخش و ارسال زودتر از موعد', 'service_rate': 5, 'service_category': 'Delivery Time'}]}}\n",
            "correct output\n",
            "Loading model from local storage...\n"
          ]
        },
        {
          "output_type": "stream",
          "name": "stderr",
          "text": [
            "WARNING:transformers_modules.microsoft.Phi-3-mini-128k-instruct.5be6479b4bc06a081e8f4c6ece294241ccd32dec.modeling_phi3:`flash-attention` package not found, consider installing for better performance: No module named 'flash_attn'.\n",
            "WARNING:transformers_modules.microsoft.Phi-3-mini-128k-instruct.5be6479b4bc06a081e8f4c6ece294241ccd32dec.modeling_phi3:Current `flash-attenton` does not support `window_size`. Either upgrade or use `attn_implementation='eager'`.\n"
          ]
        },
        {
          "output_type": "display_data",
          "data": {
            "text/plain": [
              "Loading checkpoint shards:   0%|          | 0/2 [00:00<?, ?it/s]"
            ],
            "application/vnd.jupyter.widget-view+json": {
              "version_major": 2,
              "version_minor": 0,
              "model_id": "1067c16ad4c94cca8c766dcebf3e9d9c"
            }
          },
          "metadata": {}
        },
        {
          "output_type": "stream",
          "name": "stderr",
          "text": [
            "Special tokens have been added in the vocabulary, make sure the associated word embeddings are fine-tuned or trained.\n"
          ]
        },
        {
          "output_type": "stream",
          "name": "stdout",
          "text": [
            "Loading tokenizer from local storage...\n",
            "{\n",
            "    \"foods overall rating\": 3,\n",
            "    \"qualities\": [\n",
            "        {\n",
            "            \"food_title\": \"چلو ماهی قزل آلا\",\n",
            "            \"food_rate\": 3\n",
            "        }\n",
            "    ],\n",
            "    \"services\": [\n",
            "        {\n",
            "            \"part_of_comment\": \",\n",
            "            \"service_rate\": \",\n",
            "            \"service_category\": \"\n",
            "        }\n",
            "    ]\n",
            "}\n",
            "Bad output format\n",
            "Loading model from local storage...\n"
          ]
        },
        {
          "output_type": "stream",
          "name": "stderr",
          "text": [
            "WARNING:transformers_modules.microsoft.Phi-3-mini-128k-instruct.5be6479b4bc06a081e8f4c6ece294241ccd32dec.modeling_phi3:`flash-attention` package not found, consider installing for better performance: No module named 'flash_attn'.\n",
            "WARNING:transformers_modules.microsoft.Phi-3-mini-128k-instruct.5be6479b4bc06a081e8f4c6ece294241ccd32dec.modeling_phi3:Current `flash-attenton` does not support `window_size`. Either upgrade or use `attn_implementation='eager'`.\n"
          ]
        },
        {
          "output_type": "display_data",
          "data": {
            "text/plain": [
              "Loading checkpoint shards:   0%|          | 0/2 [00:00<?, ?it/s]"
            ],
            "application/vnd.jupyter.widget-view+json": {
              "version_major": 2,
              "version_minor": 0,
              "model_id": "8cce556004c54373b796227a0891e419"
            }
          },
          "metadata": {}
        },
        {
          "output_type": "stream",
          "name": "stderr",
          "text": [
            "Special tokens have been added in the vocabulary, make sure the associated word embeddings are fine-tuned or trained.\n"
          ]
        },
        {
          "output_type": "stream",
          "name": "stdout",
          "text": [
            "Loading tokenizer from local storage...\n",
            "{\n",
            "    \"foods overall rating\": 5,\n",
            "\n",
            "    \"qualities\": [\n",
            "        {\n",
            "            \"food_title\": \"سوپ جو بزرگ\",\n",
            "            \"food_rate\": 5\n",
            "        }\n",
            "    ],\n",
            "\n",
            "    \"services\": []\n",
            "}\n",
            "{\n",
            "\n",
            "    \"foods overall rating\": 5,\n",
            "\n",
            "    \"qualities\": [\n",
            "\n",
            "        {\n",
            "\n",
            "            \"food_title\": \"چلو جوجه کباب مخصوص\",\n",
            "\n",
            "            \"food_rate\": 5\n",
            "\n",
            "        }\n",
            "\n",
            "    ],\n",
            "\n",
            "    \"services\": []\n",
            "\n",
            "}\n",
            "{\n",
            "\n",
            "    \"foods overall rating\": 5,\n",
            "\n",
            "    \"qualities\": [\n",
            "\n",
            "        {\n",
            "\n",
            "            \"food_title\": \"نوشابه خانواده\",\n",
            "\n",
            "            \"food_rate\": 5\n",
            "\n",
            "        }\n",
            "\n",
            "    ],\n",
            "\n",
            "    \"services\": []\n",
            "\n",
            "}\n",
            "request number 33, AI response is : {0: {'qualities': [{'food_title': 'سوپ جو بزرگ', 'food_rate': 5}], 'foods overall rating': 5, 'services': []}, 1: {'qualities': [{'food_title': 'چلو جوجه کباب مخصوص', 'food_rate': 5}], 'foods overall rating': 5, 'services': []}, 2: {'qualities': [{'food_title': 'نوشابه خانواده', 'food_rate': 5}], 'foods overall rating': 5, 'services': []}}\n",
            "correct output\n",
            "Loading model from local storage...\n"
          ]
        },
        {
          "output_type": "stream",
          "name": "stderr",
          "text": [
            "WARNING:transformers_modules.microsoft.Phi-3-mini-128k-instruct.5be6479b4bc06a081e8f4c6ece294241ccd32dec.modeling_phi3:`flash-attention` package not found, consider installing for better performance: No module named 'flash_attn'.\n",
            "WARNING:transformers_modules.microsoft.Phi-3-mini-128k-instruct.5be6479b4bc06a081e8f4c6ece294241ccd32dec.modeling_phi3:Current `flash-attenton` does not support `window_size`. Either upgrade or use `attn_implementation='eager'`.\n"
          ]
        },
        {
          "output_type": "display_data",
          "data": {
            "text/plain": [
              "Loading checkpoint shards:   0%|          | 0/2 [00:00<?, ?it/s]"
            ],
            "application/vnd.jupyter.widget-view+json": {
              "version_major": 2,
              "version_minor": 0,
              "model_id": "a469254abd9c4fdc83543fee65250ed1"
            }
          },
          "metadata": {}
        },
        {
          "output_type": "stream",
          "name": "stderr",
          "text": [
            "Special tokens have been added in the vocabulary, make sure the associated word embeddings are fine-tuned or trained.\n"
          ]
        },
        {
          "output_type": "stream",
          "name": "stdout",
          "text": [
            "Loading tokenizer from local storage...\n",
            "{\n",
            "    \"foods overall rating\": 2,\n",
            "\n",
            "    \"qualities\": [\n",
            "        {\n",
            "            \"food_title\": \"چلو کباب کوبیده (2 سیخ)\",\n",
            "            \"food_rate\": 1\n",
            "        }\n",
            "    ],\n",
            "\n",
            "    \"services\": []\n",
            "}\n",
            "{\n",
            "\n",
            "    \"foods overall rating\": 5,\n",
            "\n",
            "    \"qualities\": [\n",
            "\n",
            "        {\n",
            "\n",
            "            \"food_title\": \"نوشابه بطری\",\n",
            "\n",
            "            \"food_rate\": 5\n",
            "\n",
            "        }\n",
            "\n",
            "    ],\n",
            "\n",
            "\n",
            "    \"services\": []\n",
            "\n",
            "}\n",
            "request number 34, AI response is : {0: {'qualities': [{'food_title': 'چلو کباب کوبیده (2 سیخ)', 'food_rate': 1}], 'foods overall rating': 2, 'services': []}, 1: {'qualities': [{'food_title': 'نوشابه بطری', 'food_rate': 5}], 'foods overall rating': 5, 'services': []}}\n",
            "correct output\n",
            "Loading model from local storage...\n"
          ]
        },
        {
          "output_type": "stream",
          "name": "stderr",
          "text": [
            "WARNING:transformers_modules.microsoft.Phi-3-mini-128k-instruct.5be6479b4bc06a081e8f4c6ece294241ccd32dec.modeling_phi3:`flash-attention` package not found, consider installing for better performance: No module named 'flash_attn'.\n",
            "WARNING:transformers_modules.microsoft.Phi-3-mini-128k-instruct.5be6479b4bc06a081e8f4c6ece294241ccd32dec.modeling_phi3:Current `flash-attenton` does not support `window_size`. Either upgrade or use `attn_implementation='eager'`.\n"
          ]
        },
        {
          "output_type": "display_data",
          "data": {
            "text/plain": [
              "Loading checkpoint shards:   0%|          | 0/2 [00:00<?, ?it/s]"
            ],
            "application/vnd.jupyter.widget-view+json": {
              "version_major": 2,
              "version_minor": 0,
              "model_id": "3aeb6adc690049cfa1811c2ee2c5c521"
            }
          },
          "metadata": {}
        },
        {
          "output_type": "stream",
          "name": "stderr",
          "text": [
            "Special tokens have been added in the vocabulary, make sure the associated word embeddings are fine-tuned or trained.\n"
          ]
        },
        {
          "output_type": "stream",
          "name": "stdout",
          "text": [
            "Loading tokenizer from local storage...\n",
            "{زیتون پرورده : 100 گرم زیتون پرورده}\n",
            "   - Translation: \"Grilled Eggplant: 100 grams\"\n",
            "\n",
            "4. **Mixed Sentiments**: The comment ends positively, praising the taste and quantity of food.\n",
            "\n",
            "5. **Food Quality**:\n",
            "   - **Grilled Eggplant**: The comment does not directly mention the grilled eggplant, but it praises the quantity and taste, which can be associated with the food quality.\n",
            "\n",
            "6. **Service Quality**:\n",
            "   - **Staff Behavior**: Not mentioned.\n",
            "   - **Delivery Time**: Not mentioned.\n",
            "   - **Food Temperature**: Not mentioned.\n",
            "   - **Delivered Food not as Ordered**: The comment does not mention any discrepancy between the order and what was delivered.\n",
            "   - **Packaging**: Not mentioned.\n",
            "   - **Cost of Delivery**: Not mentioned.\n",
            "   - **Cost per Value of Foods**: Not mentioned.\n",
            "\n",
            "7. **Food Temperature**: The comment does not mention the temperature of the food.\n",
            "\n",
            "### JSON Format:\n",
            "\n",
            "Based on the analysis, the JSON format will be as follows:\n",
            "\n",
            "\n",
            "{\n",
            "    \"foods overall rating\": 5,\n",
            "    \"qualities\": [\n",
            "        {\n",
            "            \"food_title\": \"زیتون پرورده\",\n",
            "            \"food_rate\": 5\n",
            "        }\n",
            "    ],\n",
            "    \"services\": []\n",
            "}\n",
            "Bad output format\n",
            "Loading model from local storage...\n"
          ]
        },
        {
          "output_type": "stream",
          "name": "stderr",
          "text": [
            "WARNING:transformers_modules.microsoft.Phi-3-mini-128k-instruct.5be6479b4bc06a081e8f4c6ece294241ccd32dec.modeling_phi3:`flash-attention` package not found, consider installing for better performance: No module named 'flash_attn'.\n",
            "WARNING:transformers_modules.microsoft.Phi-3-mini-128k-instruct.5be6479b4bc06a081e8f4c6ece294241ccd32dec.modeling_phi3:Current `flash-attenton` does not support `window_size`. Either upgrade or use `attn_implementation='eager'`.\n"
          ]
        },
        {
          "output_type": "display_data",
          "data": {
            "text/plain": [
              "Loading checkpoint shards:   0%|          | 0/2 [00:00<?, ?it/s]"
            ],
            "application/vnd.jupyter.widget-view+json": {
              "version_major": 2,
              "version_minor": 0,
              "model_id": "8579c1411cc142838e6666b1388199eb"
            }
          },
          "metadata": {}
        },
        {
          "output_type": "stream",
          "name": "stderr",
          "text": [
            "Special tokens have been added in the vocabulary, make sure the associated word embeddings are fine-tuned or trained.\n"
          ]
        },
        {
          "output_type": "stream",
          "name": "stdout",
          "text": [
            "Loading tokenizer from local storage...\n",
            "{\n",
            "    \"foods overall rating\": 5,\n",
            "\n",
            "    \"qualities\": [\n",
            "        {\n",
            "            \"food_title\": \"چلو خورشت قیمه بادمجان\",\n",
            "            \"food_rate\": 5\n",
            "        }\n",
            "    ],\n",
            "\n",
            "    \"services\": []\n",
            "}\n",
            "{\n",
            "    \"foods overall rating\": 5,\n",
            "    \"qualities\": [\n",
            "        {\n",
            "            \"food_title\": \"چلو خورشت قورمه سبزی\",\n",
            "            \"food_rate\": 5\n",
            "        }\n",
            "    ],\n",
            "    \"services\": []\n",
            "}\n",
            "request number 35, AI response is : {0: {'qualities': [{'food_title': 'چلو خورشت قیمه بادمجان', 'food_rate': 5}], 'foods overall rating': 5, 'services': []}, 1: {'qualities': [{'food_title': 'چلو خورشت قورمه سبزی', 'food_rate': 5}], 'foods overall rating': 5, 'services': []}}\n",
            "correct output\n",
            "Loading model from local storage...\n"
          ]
        },
        {
          "output_type": "stream",
          "name": "stderr",
          "text": [
            "WARNING:transformers_modules.microsoft.Phi-3-mini-128k-instruct.5be6479b4bc06a081e8f4c6ece294241ccd32dec.modeling_phi3:`flash-attention` package not found, consider installing for better performance: No module named 'flash_attn'.\n",
            "WARNING:transformers_modules.microsoft.Phi-3-mini-128k-instruct.5be6479b4bc06a081e8f4c6ece294241ccd32dec.modeling_phi3:Current `flash-attenton` does not support `window_size`. Either upgrade or use `attn_implementation='eager'`.\n"
          ]
        },
        {
          "output_type": "display_data",
          "data": {
            "text/plain": [
              "Loading checkpoint shards:   0%|          | 0/2 [00:00<?, ?it/s]"
            ],
            "application/vnd.jupyter.widget-view+json": {
              "version_major": 2,
              "version_minor": 0,
              "model_id": "03ed02c8ceaf467a839afe50d38bf70f"
            }
          },
          "metadata": {}
        },
        {
          "output_type": "stream",
          "name": "stderr",
          "text": [
            "Special tokens have been added in the vocabulary, make sure the associated word embeddings are fine-tuned or trained.\n"
          ]
        },
        {
          "output_type": "stream",
          "name": "stdout",
          "text": [
            "Loading tokenizer from local storage...\n",
            "{\n",
            "    \"foods overall rating\": 4,\n",
            "    \"qualities\": [\n",
            "        {\n",
            "            \"food_title\": \"چلو خورشت قیمه بادمجان\",\n",
            "            \"food_rate\": 4\n",
            "        },\n",
            "        {\n",
            "            \"food_title\": \"بادمجان\",\n",
            "            \"food_rate\": 2\n",
            "        }\n",
            "    ],\n",
            "    \"services\": []\n",
            "}\n",
            "request number 36, AI response is : {0: {'qualities': [{'food_title': 'چلو خورشت قیمه بادمجان', 'food_rate': 4}], 'foods overall rating': 4, 'services': []}}\n",
            "correct output\n"
          ]
        }
      ],
      "source": [
        "x = fetch_and_analyze_comments(16023)"
      ]
    },
    {
      "cell_type": "code",
      "execution_count": null,
      "metadata": {
        "id": "DEHVHFOnrTSz"
      },
      "outputs": [],
      "source": [
        "counter = 1\n",
        "# drop duplicates\n",
        "vendor_ids = list(set(vendor_ids))\n",
        "print(len(vendor_ids))\n",
        "for vendor in vendor_ids[:5]:\n",
        "    print(f\"Length vendor ids: {len(vendor_ids)}\")\n",
        "    print(f\"[{counter}] process started for vendor id: {vendor}\")\n",
        "    fetch_and_analyze_comments(vendor)\n",
        "    counter += 1\n",
        "    print('#'*50)\n",
        "\n"
      ]
    },
    {
      "cell_type": "markdown",
      "source": [
        "# New models\n"
      ],
      "metadata": {
        "id": "pPTpbLS_IXD9"
      }
    },
    {
      "cell_type": "markdown",
      "source": [
        "## Aya_huggingface"
      ],
      "metadata": {
        "id": "Qxlu9YBCcTna"
      }
    },
    {
      "cell_type": "code",
      "source": [
        "# Use a pipeline as a high-level helper\n",
        "from transformers import pipeline\n",
        "\n",
        "pipe = pipeline(\"text-generation\", model=\"CohereForAI/aya-23-8B\")\n"
      ],
      "metadata": {
        "colab": {
          "base_uri": "https://localhost:8080/",
          "height": 386,
          "referenced_widgets": [
            "0ab4bddc66224ea39c41cb8bdfc5068a",
            "7ab19025125c4a9f8be355bac9c4208d",
            "60dd5f4671024c3ea9a7fa05b1c0f7bc",
            "bc6668adb8964e3aa82c0075be50b104",
            "7488dd8d52554ee78634cfe69384ddef",
            "4e7eda9b2cd940bd862ccee9849e1f45",
            "365634e780cb47739427dd7c1ead166f",
            "5eb0805f7199400fa6c982f5d516880c",
            "c3ea64f63a764b8884f55a2822697f8c",
            "294ff9f2f4fc44c4b17782725096f931",
            "effa5b8c181d4c8dbfde112f34441f45",
            "808c06a342c6426f85396a2fbe014ce8",
            "c8af9b5300954de0a0b5014cd97a9de6",
            "5efafd39d3164a0297485e278ed3c608",
            "be75ff37075246228bf2f05ce9f99c2c",
            "46ba4c6d911948b68794b508a92cf1aa",
            "8d388f46ae064c3ebdd25878caea76a1",
            "308f0af082db4a999c33d6c43cee0a86",
            "b279b4b861c74086a15f3d256a0bbe81",
            "41d5633e101e46fda612ec6f7420e214",
            "24b2c17461494d9ab99e5d9b925c78b5",
            "4de13ff50b19466b93ab300449527397",
            "f738f28347214dbba4898113a453422d",
            "90abb37c7a9b44709a92ae1490b991c4",
            "f61611392ffb44bfb1e6a1335ad5e387",
            "74b9232f71e84607ac668698c0df001a",
            "b29794981ee445b8bb617f3f0caf7466",
            "01ea038619fa4a0db1f4ee69b783c936",
            "2458c03e2f8b4fbe83ae65bca609cb1a",
            "ae32c5ee282f473b8f529b7e22628b8a",
            "d9164b6c1ba9434c80c80d9d2cf13e1f",
            "c9622d5eb7294cd59c00050509cda6b4",
            "776aabd1505c4f79b5ee0e1de4054433",
            "885603c858b14f7f8f0bee64647ee231",
            "eccd1728855c496abf3acc155bd2b0c0",
            "cc8a1f42fe6b49519930f86e329baa00",
            "4f186645b75c4c188449153e53b3bf2c",
            "8030fe8b58cc40d8bccc1a8c059362e3",
            "0f8564c0b62a49f683c27ee0ba6cb007",
            "2f4fe817bc70430ba4053efbc8a04854",
            "81e6ce57aec44853ae1e3c43e66bde68",
            "e1d2803d9ed44af98f0ad2c6eeaf8ac9",
            "9746c023f08f486db879ca76a199eeb3",
            "05c33ec7c1fb4585a0002fb3f596722c",
            "3a96bd2490944978976c7266a600b3c2",
            "5e233aa679c446fb973de0add72392dd",
            "42104def34314f00b35ffb57f1173859",
            "66033dc591484eae84cfb01ae42e9225",
            "059972405cc84e3cb42a83cac397f736",
            "eb7f262a7f344e24b7f0e8e22144ba23",
            "646ba0c96a154a3aa36e1fd2d3cc2e4b",
            "2f88c25fe9e1457e8fb3c34891ae2568",
            "110b8d9021cf469a9d298dbbe3c7544a",
            "f17ed3c34a2f4b4490d52c423e56b1c3",
            "1ecc9f7b22e24d5b865cbfe90ade3bb7",
            "8148684b2f7648be99e14ef2045ef9a6",
            "2fc53e22603d45aba0e8ecbb29af0e16",
            "5a7edc459797438ab3d3f1696ca2fd47",
            "a9a6e2dc5e2a4ac09e79cb2f650b1f36",
            "dd028419b8f1454da5f652b781a64feb",
            "24ada9012cfb4fe1ab31b28fad485c4b",
            "a789865175d048749504e93d213aa4f9",
            "c5319c3cdb724782ab756966a9256d3c",
            "492efe3fac904b1bbdda89d76324d2ab",
            "f221a2160f364b60be825844bde3a062",
            "f23dba61e3f04676b3c31a3c5b1fb618",
            "185858cf9b554925b09f4f4af3947e49",
            "0b0e817be8394d5484230ac04e304eb5",
            "c2996c1b0a914ddaa7e4f45bf33d0b46",
            "ad6108cab8de4492b8893e71e548a1b2",
            "eef2b4f5715f44b090845a932077a822",
            "2ae3dd129ca04c2cb60b99c75d2898e9",
            "b547ea0e2d4241318e508e4b4a9dd60c",
            "15a52d71edeb444699ef0f51b8a1ed77",
            "453474427ba04dbdbbf5810886b0d195",
            "f0dbae0a4c1f441a903cfcbefe2a4dea",
            "e4120892053744e498a963d4f5a266cc",
            "fa6afd0b59eb43f8be083db4d8ffbbb7",
            "95ce08d987394295b5e333c82959c0f8",
            "0f345fc8098841ba9171762cfe28a5a1",
            "1c28646bda4b4f1e9a063cdbe002f84d",
            "b679305494a64b7eaa0517d4945e131d",
            "9640989469af4fa7b6b7977377daf929",
            "15188782b86f4d3397ab6e89d92e222a",
            "66eb5bb9dcc14117ac02b9beebfc2474",
            "7278845935e943d88147849d8cc3e7bf",
            "10be169a995c45ddb500c6090f4ee744",
            "68f6d84c066a40f9aea7149ac51d01d0",
            "79f0e8584b534328af5d35e7109d6496",
            "1c03e91d305947989d67fcfd4a5879ae",
            "77135ea4c91940be96515d3ed68c07bf",
            "0c350e8eeb24463cbff44aafe78833d3",
            "2ec9625aea824f06987c9cd29d801590",
            "94bcd2ae83da4bc399560c706263cab0",
            "872f26d733844bb799cc57c86a59c654",
            "476692e32f2d46678e3d55d4024e96fd",
            "6f03aff9b4ed451695a78439292d92f0",
            "faed0c9526c94e39b1bc07d9d16387c0",
            "dd0715a4c2974d3298d7bdb2433fe7e6",
            "d0adbcf7fedf4a9e94bc656cc1e71f6b",
            "841a22aa8b40484b80913d71f36e2da4",
            "b15ea2a397ec404c8a4fc5c74bc14ad8",
            "798131fa31784cf097feab1eb60e949e",
            "02cab9275bad45468f883bd750c730d2",
            "f2f94b9168a348c49143b74b5726be27",
            "e596df68301841c2889d7211b3b7397d",
            "ae5a2fb542b743079607a7a874f8cb99",
            "5a7ca944fb51492895a94ab14d6f5fa2",
            "6f742e2968c6420299e7764b6a9c0e8e",
            "c1ac2ad881e54cdbbd6ecc50166f5809",
            "6882ad5e9d314c5384ebfa15c2d8f22a",
            "7c05ad1af1444b5cbdc04b8585d12100",
            "9bb47a8bdf264f61b6a5956268f7a2c6",
            "490bb23482344816b5a5797384c0a4eb",
            "4ed497d93cc14c51add89e651d041e1e",
            "7a32599a618844fc9c46248b6d37e419",
            "d70bcd7c0c4b4cb294a0ac77d82c1d69",
            "b089c0bdce4d4c6799d5d72c62578d98",
            "31560b6b72a44f4abc4718142c4b7ca4",
            "b45c898469b349048d2b8fe5746a6cb5",
            "e180bc7344c7443c9becb8d8b64ef40c"
          ]
        },
        "id": "u9vPoD4qcLeV",
        "outputId": "d37f4bbe-5f1c-4728-9580-fe540b0bb245"
      },
      "execution_count": null,
      "outputs": [
        {
          "output_type": "display_data",
          "data": {
            "text/plain": [
              "config.json:   0%|          | 0.00/640 [00:00<?, ?B/s]"
            ],
            "application/vnd.jupyter.widget-view+json": {
              "version_major": 2,
              "version_minor": 0,
              "model_id": "0ab4bddc66224ea39c41cb8bdfc5068a"
            }
          },
          "metadata": {}
        },
        {
          "output_type": "display_data",
          "data": {
            "text/plain": [
              "model.safetensors.index.json:   0%|          | 0.00/21.0k [00:00<?, ?B/s]"
            ],
            "application/vnd.jupyter.widget-view+json": {
              "version_major": 2,
              "version_minor": 0,
              "model_id": "808c06a342c6426f85396a2fbe014ce8"
            }
          },
          "metadata": {}
        },
        {
          "output_type": "display_data",
          "data": {
            "text/plain": [
              "Downloading shards:   0%|          | 0/4 [00:00<?, ?it/s]"
            ],
            "application/vnd.jupyter.widget-view+json": {
              "version_major": 2,
              "version_minor": 0,
              "model_id": "f738f28347214dbba4898113a453422d"
            }
          },
          "metadata": {}
        },
        {
          "output_type": "display_data",
          "data": {
            "text/plain": [
              "model-00001-of-00004.safetensors:   0%|          | 0.00/4.92G [00:00<?, ?B/s]"
            ],
            "application/vnd.jupyter.widget-view+json": {
              "version_major": 2,
              "version_minor": 0,
              "model_id": "885603c858b14f7f8f0bee64647ee231"
            }
          },
          "metadata": {}
        },
        {
          "output_type": "display_data",
          "data": {
            "text/plain": [
              "model-00002-of-00004.safetensors:   0%|          | 0.00/4.92G [00:00<?, ?B/s]"
            ],
            "application/vnd.jupyter.widget-view+json": {
              "version_major": 2,
              "version_minor": 0,
              "model_id": "3a96bd2490944978976c7266a600b3c2"
            }
          },
          "metadata": {}
        },
        {
          "output_type": "display_data",
          "data": {
            "text/plain": [
              "model-00003-of-00004.safetensors:   0%|          | 0.00/5.00G [00:00<?, ?B/s]"
            ],
            "application/vnd.jupyter.widget-view+json": {
              "version_major": 2,
              "version_minor": 0,
              "model_id": "8148684b2f7648be99e14ef2045ef9a6"
            }
          },
          "metadata": {}
        },
        {
          "output_type": "display_data",
          "data": {
            "text/plain": [
              "model-00004-of-00004.safetensors:   0%|          | 0.00/1.22G [00:00<?, ?B/s]"
            ],
            "application/vnd.jupyter.widget-view+json": {
              "version_major": 2,
              "version_minor": 0,
              "model_id": "185858cf9b554925b09f4f4af3947e49"
            }
          },
          "metadata": {}
        },
        {
          "output_type": "display_data",
          "data": {
            "text/plain": [
              "Loading checkpoint shards:   0%|          | 0/4 [00:00<?, ?it/s]"
            ],
            "application/vnd.jupyter.widget-view+json": {
              "version_major": 2,
              "version_minor": 0,
              "model_id": "fa6afd0b59eb43f8be083db4d8ffbbb7"
            }
          },
          "metadata": {}
        },
        {
          "output_type": "display_data",
          "data": {
            "text/plain": [
              "generation_config.json:   0%|          | 0.00/142 [00:00<?, ?B/s]"
            ],
            "application/vnd.jupyter.widget-view+json": {
              "version_major": 2,
              "version_minor": 0,
              "model_id": "79f0e8584b534328af5d35e7109d6496"
            }
          },
          "metadata": {}
        },
        {
          "output_type": "display_data",
          "data": {
            "text/plain": [
              "tokenizer_config.json:   0%|          | 0.00/17.0k [00:00<?, ?B/s]"
            ],
            "application/vnd.jupyter.widget-view+json": {
              "version_major": 2,
              "version_minor": 0,
              "model_id": "d0adbcf7fedf4a9e94bc656cc1e71f6b"
            }
          },
          "metadata": {}
        },
        {
          "output_type": "display_data",
          "data": {
            "text/plain": [
              "tokenizer.json:   0%|          | 0.00/16.5M [00:00<?, ?B/s]"
            ],
            "application/vnd.jupyter.widget-view+json": {
              "version_major": 2,
              "version_minor": 0,
              "model_id": "6882ad5e9d314c5384ebfa15c2d8f22a"
            }
          },
          "metadata": {}
        },
        {
          "output_type": "stream",
          "name": "stderr",
          "text": [
            "Special tokens have been added in the vocabulary, make sure the associated word embeddings are fine-tuned or trained.\n"
          ]
        }
      ]
    },
    {
      "cell_type": "code",
      "source": [
        "messages = [\n",
        "    {\"role\": \"user\", \"content\": \"\"\"Suppose that we are working in the domain of a food delivery app.\n",
        "\n",
        "the input data ( UserOrder, FoodIngredients, UserComment,) is only within the three backticks\n",
        "\n",
        "UserComment expresses the user's satisfaction with the food quality and services delivered.\n",
        "\n",
        "Having the context provided,\n",
        "your task is to evaluate the food quality and services delivered based on UserComment and assign a score per each food and services delivered (an integer between 0 (for most disatisfies) and 5 (for most satisfied))considering the following rules:\n",
        "\n",
        "Handle Mixed Sentiments:\n",
        "If UserComment contains mixed sentiments (like positive followed by negative), consider the overall tone of the comment at its conclusion.\n",
        "Focus on how the UserComment ends to determine if it’s generally positive or negative.\n",
        "This prevents confusion over mixed messages within the comment.\n",
        "\n",
        "1. Rate Food quality:\n",
        "\n",
        "Analyze a user's comment to rate each food item in the UserOrder and the overall food experience.\n",
        "\n",
        "Task:\n",
        "\n",
        "1. Determine if the comment expresses satisfaction or dissatisfaction with the quality of any food item in the UserOrder.\n",
        "2. Check if the comment directly mentions specific foods or food ingredients.\n",
        "3. If the comment mentions a specific food from the UserOrder, rate that food based on the sentiment expressed.\n",
        "4. If the comment mentions food ingredients, identify the food(s) containing those ingredients using the FoodIngredients list and rate that food based on the sentiment.\n",
        "5. If the comment provides an overall assessment of the food experience without specifying a particular food item, only rate the \"foods overall rating\" score as the general order rating.\n",
        "6. If the comment does not mention a specific food item, set the score for that food item to 'Nan'.\n",
        "7. Apply the 'Handle Mixed Sentiments' rule when rating each food item and the overall food experience.\n",
        "\n",
        "note : \"foods overall rating\" is not the average value of the food items\n",
        "\n",
        "\n",
        "Important: if the comment says that a food item was raw (in persian:  خام  ) consider a low score for that food item. also  افتضاح  means awful.\n",
        "\n",
        "\n",
        "Note: Ensure that each food item in the UserOrder receives a score, and an additional rating is provided for the \"foods overall rating\".\n",
        "\n",
        "\n",
        "2. rate Service Quality :\n",
        "\n",
        "Analyze a user's comment to rate  service categories:\n",
        "\n",
        "\n",
        "1. Staff Behavior : Look for mentions of driver, delivery person,\n",
        "\n",
        "2. Delivery Time: Analyze the comment for any mention of time related words or phrases  as \"late\", \"fast\", \"on time\", \"delayed\", \"soon\"  If found, assign a score.\n",
        "\n",
        "3. Food Temperature: Look for words indicating temperature such as \"hot\", \"cold\", \"warm\", Assign a score based on the sentiment expressed about the food temperature\n",
        "\n",
        "4. Delivered Food not as Ordered : Look for phrases indicating the food was not as ordered such as \"wrong order\", \"not what I ordered\", etc. Assign a score based on the sentiment expressed\n",
        "\n",
        "5. packaging : Identify comments that mention the condition of the packaging when it arrived. Keywords might include “well-packed”, “leaking”, or “damaged”.\n",
        "\n",
        "6. Cost of Delivery: Look for any mention of the delivery fee or cost. Phrases like “expensive delivery”, “cheap delivery”, or “free delivery” can be relevant.\n",
        "\n",
        "7. Cost per Value of Foods: This involves comments about whether the user felt they got their money’s worth for the food they ordered. Relevant phrases could be ( \"expensive\"= \" گران \" ) “worth the price”, “overpriced”, or “good value”.\n",
        "\n",
        "\n",
        "Important: food quality is not  part of the service ratings.\n",
        "\n",
        "Remember, if the comment doesn’t mention services or fit any category, or if the sentiment is unclear, keep the service part empty in the JSON.\n",
        "do not add any new categories to the service ratings.\n",
        "\n",
        "3. Evaluate Food Temperature:\n",
        "\n",
        "Analyze the UserComment to evaluate the temperature of the food.\n",
        "\n",
        "Task:\n",
        "\n",
        "1. Check if the UserComment mentions the temperature of a specific food item.\n",
        "2. Identify the food item being discussed and determine its typical serving temperature (hot or cold).\n",
        "3. Evaluate the UserComment to determine if the food temperature was satisfactory.\n",
        "        If the food is typically served hot, but the comment indicates it was ' سرد ' (cold) assign a low temperature score.\n",
        "        If the food is typically served warm, and the comment indicates it was ' گرم ' (warm), assign a higher temperature score.\n",
        "        If the food temperature matches its typical serving temperature, assign a higher temperature score.\n",
        "4. Update the services ratings with the evaluated food temperature score.\n",
        "\n",
        "Note: Consider the typical serving temperature of different food types, such as hot for fast foods and main dishes, and cold for drinks and salads.\n",
        "\n",
        "\n",
        "ATTENTION :\n",
        "As you see, the UserComment is in Persian. Thus, be mindful of any different Persian idioms or slang used and their actual meanings.\n",
        "don't translate food names\n",
        "\n",
        "\n",
        "Based on the analysis, generate JSON for foods and services in this format:\n",
        "\n",
        "{{\n",
        "    \"foods overall rating\": <foods overall quality rating>,\n",
        "\n",
        "    qualities: [\n",
        "        {{\n",
        "            \"food_title\": <food_title>,\n",
        "            \"food_rate\": <food_rate>\n",
        "        }}\n",
        "    ],\n",
        "\n",
        "\n",
        "    services: [\n",
        "        {{\n",
        "            {{\n",
        "            \"part_of_comment\": <part_of_comment>,\n",
        "            \"service_rate\": <service_rate>,\n",
        "            \"service_category\": <service_category>\n",
        "        }}\n",
        "        }}\n",
        "\n",
        "    ]\n",
        "}}\n",
        "\n",
        "```\n",
        "Here is the list of foods and beverages ordered by a user, let's call it 'UserOrder':\n",
        "\n",
        "UserOrder: {[{'title': 'خوراک کباب کوبیده (2 سیخ)'}]}\n",
        "\n",
        "If available, here is the  of ingredients for each or some food included in the UserOrder (called 'FoodIngredients'):\n",
        "FoodIngredientsFoodIngredients: {'2 سیخ کباب کوبیده 120 گرمی، دورچین: خیارشور و کلم قرمز'}\n",
        "\n",
        "here is the user's comment (review) about their experience with UserOrder (called 'UserComment'):\n",
        "\n",
        "UserComment: {خوب وخوشمزه بودوزود رسید}\"\"\"},\n",
        "]\n"
      ],
      "metadata": {
        "id": "IvBQsQXXHJ0l"
      },
      "execution_count": null,
      "outputs": []
    },
    {
      "cell_type": "code",
      "source": [],
      "metadata": {
        "id": "QVrz-qVnHmEh"
      },
      "execution_count": null,
      "outputs": []
    },
    {
      "cell_type": "code",
      "source": [
        "import os\n",
        "os.environ['HF_TOKEN'] = \"...\"\n",
        "os.environ['HUGGINGFACEHUB_API_TOKEN'] = \"...\""
      ],
      "metadata": {
        "id": "FRwBtLYg7vly"
      },
      "execution_count": null,
      "outputs": []
    },
    {
      "cell_type": "code",
      "source": [
        "from getpass import getpass\n",
        "HUGGINGFACEHUB_API_TOKEN = getpass()\n",
        "os.environ['HUGGINGFACEHUB_API_TOKEN'] = HUGGINGFACEHUB_API_TOKEN"
      ],
      "metadata": {
        "id": "XeH0UkYXXG2t",
        "colab": {
          "base_uri": "https://localhost:8080/"
        },
        "outputId": "1bd12b33-041e-4fc4-f14a-9c2fa44329fc"
      },
      "execution_count": null,
      "outputs": [
        {
          "name": "stdout",
          "output_type": "stream",
          "text": [
            "··········\n"
          ]
        }
      ]
    },
    {
      "cell_type": "code",
      "source": [
        "import transformers\n",
        "import torch\n",
        "\n",
        "# model_id = \"myrkur/paya\"\n",
        "model_id = \"CohereForAI/aya-23-8B\"\n",
        "pipeline = transformers.pipeline(\n",
        "    \"text-generation\",\n",
        "    model=model_id,\n",
        "    model_kwargs={\"torch_dtype\": torch.bfloat16},\n",
        "    device_map=\"auto\",\n",
        ")\n",
        "\n",
        "# messages = [\n",
        "#     {\"role\": \"user\", \"content\": \"علم بهتر است یا ثروت؟\"},\n",
        "# ]\n",
        "\n",
        "prompt = pipeline.tokenizer.apply_chat_template(\n",
        "        messages,\n",
        "        tokenize=False,\n",
        "        add_generation_prompt=True\n",
        ")\n",
        "\n",
        "terminators = [\n",
        "    pipeline.tokenizer.eos_token_id,\n",
        "]\n",
        "\n",
        "outputs = pipeline(\n",
        "    prompt,\n",
        "    max_new_tokens=1500,\n",
        "    eos_token_id=terminators,\n",
        "    do_sample=True,\n",
        "    temperature=0.4,\n",
        "    top_p=0.9,\n",
        "    repetition_penalty=1.1\n",
        ")\n",
        "print(outputs[0][\"generated_text\"][len(prompt):])\n"
      ],
      "metadata": {
        "colab": {
          "base_uri": "https://localhost:8080/",
          "height": 1000,
          "referenced_widgets": [
            "81d0eb4e524a46c38f82f88ab4689a60",
            "871f194d6e2243ec99ec0dea911d3ccc",
            "705350cd68c74eadb774974583530c28",
            "01cacc250a924c7aadf19cd09f0dcd5d",
            "28771b3513894504a7efd2b9e351a5b1",
            "78cfbae6f26349dbb6d25d0b3fa86063",
            "f5927a46bb0c4ca8886ba5a835ce64f4",
            "8467d6d850b245319f0d31edfb1c2efd",
            "7cae003435774420b0e2237d35142c5d",
            "814e78ba5d2b4214a63f48106b0a971b",
            "8b876782ad044fefb4826146cc15ad3a"
          ]
        },
        "id": "aOzfX3twJYH5",
        "outputId": "d49bf988-ce02-4c7c-c846-066de5ee4053"
      },
      "execution_count": null,
      "outputs": [
        {
          "output_type": "display_data",
          "data": {
            "text/plain": [
              "Loading checkpoint shards:   0%|          | 0/4 [00:00<?, ?it/s]"
            ],
            "application/vnd.jupyter.widget-view+json": {
              "version_major": 2,
              "version_minor": 0,
              "model_id": "81d0eb4e524a46c38f82f88ab4689a60"
            }
          },
          "metadata": {}
        },
        {
          "output_type": "stream",
          "name": "stderr",
          "text": [
            "Special tokens have been added in the vocabulary, make sure the associated word embeddings are fine-tuned or trained.\n"
          ]
        },
        {
          "output_type": "stream",
          "name": "stdout",
          "text": [
            "Based on the provided information and instructions, here is the JSON representation of the food quality and service ratings:\n",
            "\n",
            "```json\n",
            "{\n",
            "  \"foods overall rating\": 4,\n",
            "  \"qualities\": [\n",
            "    {\n",
            "      \"food_title\": \"کباب کوبیده\",\n",
            "      \"food_rate\": 5\n",
            "    },\n",
            "    {\n",
            "      \"food_title\": \"خوراک کباب\",\n",
            "      \"food_rate\": 4\n",
            "    }\n",
            "  ],\n",
            "  \"services\": [\n",
            "    {\n",
            "      \"part_of_comment\": \"سودت رسید\",\n",
            "      \"service_rate\": 5,\n",
            "      \"service_category\": \"Delivery Time\"\n",
            "    },\n",
            "    {\n",
            "      \"part_of_comment\": \"خدمات خوب بود\",\n",
            "      \"service_rate\": 4,\n",
            "      \"service_category\": \"Staff Behavior\"\n",
            "    },\n",
            "    {\n",
            "      \"part_of_comment\": null,\n",
            "      \"service_rate\": 3,\n",
            "      \"service_category\": \"Food Temperature\"\n",
            "    },\n",
            "    {\n",
            "      \"part_of_comment\": null,\n",
            "      \"service_rate\": 4,\n",
            "      \"service_category\": \"Delivered Food Not As Ordered\"\n",
            "    },\n",
            "    {\n",
            "      \"part_of_comment\": null,\n",
            "      \"service_rate\": 4,\n",
            "      \"service_category\": \"Packaging\"\n",
            "    },\n",
            "    {\n",
            "      \"part_of_comment\": null,\n",
            "      \"service_rate\": 4,\n",
            "      \"service_category\": \"Cost of Delivery\"\n",
            "    },\n",
            "    {\n",
            "      \"part_of_comment\": null,\n",
            "      \"service_rate\": 4,\n",
            "      \"service_category\": \"Cost per Value of Foods\"\n",
            "    }\n",
            "  ]\n",
            "}\n",
            "```\n",
            "\n",
            "Explanation:\n",
            "\n",
            "- The \"foods overall rating\" is assigned a score of 4 out of 5, indicating a generally positive overall experience with the food.\n",
            "- For the \"qualities\" section, both \"کباب کوبیده\" and \"خوراک کباب\" receive a rating of 5 out of 5, suggesting high satisfaction with these specific foods.\n",
            "- In the \"services\" section, delivery time gets a perfect score of 5 due to the comment \"سودت رسید\" indicating that the food arrived quickly.\n",
            "- Staff behavior is rated 4 out of 5, with the comment \"خدمات خوب بود\" expressing positive feedback about the staff's behavior.\n",
            "- Food temperature is rated 3 out of 5, which is considered acceptable, as the comment does not specifically mention the temperature of the food.\n",
            "- There is no mention of the food being \"wrongly ordered,\" so the \"Delivered Food Not As Ordered\" category receives a score of 4.\n",
            "- Packaging is also rated 4 out of 5, assuming the comment \"well-packed\" refers to the packaging being in good condition.\n",
            "- The cost of delivery and the cost per value of the foods are both rated 4 out of 5, indicating satisfaction with these aspects.\n",
            "\n",
            "Please note that the evaluation is based on the provided Persian comment and the assumed meaning of the words/phrases mentioned. The interpretation may vary depending on the context and cultural nuances.\n"
          ]
        }
      ]
    },
    {
      "cell_type": "code",
      "source": [
        "messages = [\n",
        "    {\"role\": \"user\", \"content\": \"\"\"Suppose that we are working in the domain of a food delivery app.\n",
        "\n",
        "the input data ( UserOrder, FoodIngredients, UserComment,) is only within the three backticks\n",
        "\n",
        "UserComment expresses the user's satisfaction with the food quality and services delivered.\n",
        "\n",
        "Having the context provided,\n",
        "your task is to evaluate the food quality and services delivered based on UserComment and assign a score per each food and services delivered (an integer between 0 (for most disatisfies) and 5 (for most satisfied))considering the following rules:\n",
        "\n",
        "Handle Mixed Sentiments:\n",
        "If UserComment contains mixed sentiments (like positive followed by negative), consider the overall tone of the comment at its conclusion.\n",
        "Focus on how the UserComment ends to determine if it’s generally positive or negative.\n",
        "This prevents confusion over mixed messages within the comment.\n",
        "\n",
        "1. Rate Food quality:\n",
        "\n",
        "Analyze a user's comment to rate each food item in the UserOrder and the overall food experience.\n",
        "\n",
        "Task:\n",
        "\n",
        "1. Determine if the comment expresses satisfaction or dissatisfaction with the quality of any food item in the UserOrder.\n",
        "2. Check if the comment directly mentions specific foods or food ingredients.\n",
        "3. If the comment mentions a specific food from the UserOrder, rate that food based on the sentiment expressed.\n",
        "4. If the comment mentions food ingredients, identify the food(s) containing those ingredients using the FoodIngredients list and rate that food based on the sentiment.\n",
        "5. If the comment provides an overall assessment of the food experience without specifying a particular food item, only rate the \"foods overall rating\" score as the general order rating.\n",
        "6. If the comment does not mention a specific food item, set the score for that food item to 'Nan'.\n",
        "7. Apply the 'Handle Mixed Sentiments' rule when rating each food item and the overall food experience.\n",
        "\n",
        "note : \"foods overall rating\" is not the average value of the food items\n",
        "\n",
        "\n",
        "Important: if the comment says that a food item was raw (in persian:  خام  ) consider a low score for that food item. also  افتضاح  means awful.\n",
        "\n",
        "\n",
        "Note: Ensure that each food item in the UserOrder receives a score, and an additional rating is provided for the \"foods overall rating\".\n",
        "\n",
        "\n",
        "2. rate Service Quality :\n",
        "\n",
        "Analyze a user's comment to rate  service categories:\n",
        "\n",
        "\n",
        "1. Staff Behavior : Look for mentions of driver, delivery person,\n",
        "\n",
        "2. Delivery Time: Analyze the comment for any mention of time related words or phrases  as \"late\", \"fast\", \"on time\", \"delayed\", \"soon\"  If found, assign a score.\n",
        "\n",
        "3. Food Temperature: Look for words indicating temperature such as \"hot\", \"cold\", \"warm\", Assign a score based on the sentiment expressed about the food temperature\n",
        "\n",
        "4. Delivered Food not as Ordered : Look for phrases indicating the food was not as ordered such as \"wrong order\", \"not what I ordered\", etc. Assign a score based on the sentiment expressed\n",
        "\n",
        "5. packaging : Identify comments that mention the condition of the packaging when it arrived. Keywords might include “well-packed”, “leaking”, or “damaged”.\n",
        "\n",
        "6. Cost of Delivery: Look for any mention of the delivery fee or cost. Phrases like “expensive delivery”, “cheap delivery”, or “free delivery” can be relevant.\n",
        "\n",
        "7. Cost per Value of Foods: This involves comments about whether the user felt they got their money’s worth for the food they ordered. Relevant phrases could be ( \"expensive\"= \" گران \" ) “worth the price”, “overpriced”, or “good value”.\n",
        "\n",
        "\n",
        "Important: food quality is not  part of the service ratings.\n",
        "\n",
        "Remember, if the comment doesn’t mention services or fit any category, or if the sentiment is unclear, keep the service part empty in the JSON.\n",
        "do not add any new categories to the service ratings.\n",
        "\n",
        "3. Evaluate Food Temperature:\n",
        "\n",
        "Analyze the UserComment to evaluate the temperature of the food.\n",
        "\n",
        "Task:\n",
        "\n",
        "1. Check if the UserComment mentions the temperature of a specific food item.\n",
        "2. Identify the food item being discussed and determine its typical serving temperature (hot or cold).\n",
        "3. Evaluate the UserComment to determine if the food temperature was satisfactory.\n",
        "        If the food is typically served hot, but the comment indicates it was ' سرد ' (cold) assign a low temperature score.\n",
        "        If the food is typically served warm, and the comment indicates it was ' گرم ' (warm), assign a higher temperature score.\n",
        "        If the food temperature matches its typical serving temperature, assign a higher temperature score.\n",
        "4. Update the services ratings with the evaluated food temperature score.\n",
        "\n",
        "Note: Consider the typical serving temperature of different food types, such as hot for fast foods and main dishes, and cold for drinks and salads.\n",
        "\n",
        "\n",
        "ATTENTION :\n",
        "As you see, the UserComment is in Persian. Thus, be mindful of any different Persian idioms or slang used and their actual meanings.\n",
        "don't translate food names\n",
        "\n",
        "\n",
        "Based on the analysis, generate JSON for foods and services in this format:\n",
        "\n",
        "{{\n",
        "    \"foods overall rating\": <foods overall quality rating>,\n",
        "\n",
        "    qualities: [\n",
        "        {{\n",
        "            \"food_title\": <food_title>,\n",
        "            \"food_rate\": <food_rate>\n",
        "        }}\n",
        "    ],\n",
        "\n",
        "\n",
        "    services: [\n",
        "        {{\n",
        "            {{\n",
        "            \"part_of_comment\": <part_of_comment>,\n",
        "            \"service_rate\": <service_rate>,\n",
        "            \"service_category\": <service_category>\n",
        "        }}\n",
        "        }}\n",
        "\n",
        "    ]\n",
        "}}\n",
        "\n",
        "```\n",
        "Here is the list of foods and beverages ordered by a user, let's call it 'UserOrder':\n",
        "\n",
        "UserOrder: [{'title': 'چلو خورشت قیمه بادمجان'}]\n",
        "\n",
        "If available, here is the  of ingredients for each or some food included in the UserOrder (called 'FoodIngredients'):\n",
        "FoodIngredientsFoodIngredients: {به همراه 70 گرم گوشت گوساله، بادمجان سرخ کرده، چلو کره ایرانی'}\n",
        "\n",
        "here is the user's comment (review) about their experience with UserOrder (called 'UserComment'):\n",
        "\n",
        "UserComment: {من قیمه بادمجان سفارش دادم برام قیمه سیبزمینی فرستادن و سیب زمینی هم نبود چیپس خلالی بود و روی برنج یه تیکه خیلی کوچیک بادمجان گذاشتن}\"\"\"},\n",
        "]\n"
      ],
      "metadata": {
        "id": "a_CHMelAJzod"
      },
      "execution_count": null,
      "outputs": []
    },
    {
      "cell_type": "code",
      "source": [
        "messages = [\n",
        "    {\"role\": \"user\", \"content\": \"\"\"Suppose that we are working in the domain of a food delivery app.\n",
        "\n",
        "the input data ( UserOrder, FoodIngredients, UserComment,) is only within the three backticks\n",
        "\n",
        "UserComment expresses the user's satisfaction with the food quality and services delivered.\n",
        "\n",
        "Having the context provided,\n",
        "your task is to evaluate the food quality and services delivered based on UserComment and assign a score per each food and services delivered (an integer between 0 (for most disatisfies) and 5 (for most satisfied))considering the following rules:\n",
        "\n",
        "Handle Mixed Sentiments:\n",
        "If UserComment contains mixed sentiments (like positive followed by negative), consider the overall tone of the comment at its conclusion.\n",
        "Focus on how the UserComment ends to determine if it’s generally positive or negative.\n",
        "This prevents confusion over mixed messages within the comment.\n",
        "\n",
        "1. Rate Food quality:\n",
        "\n",
        "Analyze a user's comment to rate each food item in the UserOrder and the overall food experience.\n",
        "\n",
        "Task:\n",
        "\n",
        "1. Determine if the comment expresses satisfaction or dissatisfaction with the quality of any food item in the UserOrder.\n",
        "2. Check if the comment directly mentions specific foods or food ingredients.\n",
        "3. If the comment mentions a specific food from the UserOrder, rate that food based on the sentiment expressed.\n",
        "4. If the comment mentions food ingredients, identify the food(s) containing those ingredients using the FoodIngredients list and rate that food based on the sentiment.\n",
        "5. If the comment provides an overall assessment of the food experience without specifying a particular food item, only rate the \"foods overall rating\" score as the general order rating.\n",
        "6. If the comment does not mention a specific food item, set the score for that food item to 'Nan'.\n",
        "7. Apply the 'Handle Mixed Sentiments' rule when rating each food item and the overall food experience.\n",
        "\n",
        "note : \"foods overall rating\" is not the average value of the food items\n",
        "\n",
        "\n",
        "Important: if the comment says that a food item was raw (in persian:  خام  ) consider a low score for that food item. also  افتضاح  means awful.\n",
        "\n",
        "\n",
        "Note: Ensure that each food item in the UserOrder receives a score, and an additional rating is provided for the \"foods overall rating\".\n",
        "\n",
        "\n",
        "2. rate Service Quality :\n",
        "\n",
        "Analyze a user's comment to rate  service categories:\n",
        "\n",
        "\n",
        "1. Staff Behavior : Look for mentions of driver, delivery person,\n",
        "\n",
        "2. Delivery Time: Analyze the comment for any mention of time related words or phrases  as \"late\", \"fast\", \"on time\", \"delayed\", \"soon\"  If found, assign a score.\n",
        "\n",
        "3. Food Temperature: Look for words indicating temperature such as \"hot\", \"cold\", \"warm\", Assign a score based on the sentiment expressed about the food temperature\n",
        "\n",
        "4. Delivered Food not as Ordered : Look for phrases indicating the food was not as ordered such as \"wrong order\", \"not what I ordered\", etc. Assign a score based on the sentiment expressed\n",
        "\n",
        "5. packaging : Identify comments that mention the condition of the packaging when it arrived. Keywords might include “well-packed”, “leaking”, or “damaged”.\n",
        "\n",
        "6. Cost of Delivery: Look for any mention of the delivery fee or cost. Phrases like “expensive delivery”, “cheap delivery”, or “free delivery” can be relevant.\n",
        "\n",
        "7. Cost per Value of Foods: This involves comments about whether the user felt they got their money’s worth for the food they ordered. Relevant phrases could be ( \"expensive\"= \" گران \" ) “worth the price”, “overpriced”, or “good value”.\n",
        "\n",
        "\n",
        "Important: food quality is not  part of the service ratings.\n",
        "\n",
        "Remember, if the comment doesn’t mention services or fit any category, or if the sentiment is unclear, keep the service part empty in the JSON.\n",
        "do not add any new categories to the service ratings.\n",
        "\n",
        "3. Evaluate Food Temperature:\n",
        "\n",
        "Analyze the UserComment to evaluate the temperature of the food.\n",
        "\n",
        "Task:\n",
        "\n",
        "1. Check if the UserComment mentions the temperature of a specific food item.\n",
        "2. Identify the food item being discussed and determine its typical serving temperature (hot or cold).\n",
        "3. Evaluate the UserComment to determine if the food temperature was satisfactory.\n",
        "        If the food is typically served hot, but the comment indicates it was ' سرد ' (cold) assign a low temperature score.\n",
        "        If the food is typically served warm, and the comment indicates it was ' گرم ' (warm), assign a higher temperature score.\n",
        "        If the food temperature matches its typical serving temperature, assign a higher temperature score.\n",
        "4. Update the services ratings with the evaluated food temperature score.\n",
        "\n",
        "Note: Consider the typical serving temperature of different food types, such as hot for fast foods and main dishes, and cold for drinks and salads.\n",
        "\n",
        "\n",
        "ATTENTION :\n",
        "As you see, the UserComment is in Persian. Thus, be mindful of any different Persian idioms or slang used and their actual meanings.\n",
        "don't translate food names\n",
        "\n",
        "\n",
        "Based on the analysis, generate JSON for foods and services in this format:\n",
        "\n",
        "{{\n",
        "    \"foods overall rating\": <foods overall quality rating>,\n",
        "\n",
        "    qualities: [\n",
        "        {{\n",
        "            \"food_title\": <food_title>,\n",
        "            \"food_rate\": <food_rate>\n",
        "        }}\n",
        "    ],\n",
        "\n",
        "\n",
        "    services: [\n",
        "        {{\n",
        "            {{\n",
        "            \"part_of_comment\": <part_of_comment>,\n",
        "            \"service_rate\": <service_rate>,\n",
        "            \"service_category\": <service_category>\n",
        "        }}\n",
        "        }}\n",
        "\n",
        "    ]\n",
        "}}\n",
        "\n",
        "```\n",
        "Here is the list of foods and beverages ordered by a user, let's call it 'UserOrder':\n",
        "\n",
        "UserOrder: [{'title': 'چلو ماهی قزل آلا'}]\n",
        "\n",
        "If available, here is the  of ingredients for each or some food included in the UserOrder (called 'FoodIngredients'):\n",
        "FoodIngredientsFoodIngredients: {'چلو ماهی قزل آلا', 'product_description': '400 گرم ماهی قزل سرخ شده، چلو کره ایرانی'}\n",
        "\n",
        "here is the user's comment (review) about their experience with UserOrder (called 'UserComment'):\n",
        "\n",
        "UserComment: {با اینکه در نظرات قبلی هم گفته شده بود ولی موارد متاسفانه تکرار شده از جمله: روغن زیاد ماهی، کیفیت پایین برنج، قرار دادن ترشی زیر ماهی و بد مزه و روغنی شدن آن، بسته بندی نامناسب}\"\"\"},\n",
        "]\n",
        "pipe(messages)"
      ],
      "metadata": {
        "id": "2HRjTYLlKxFP"
      },
      "execution_count": null,
      "outputs": []
    },
    {
      "cell_type": "code",
      "source": [],
      "metadata": {
        "id": "7uXBdyynSAS7"
      },
      "execution_count": null,
      "outputs": []
    }
  ],
  "metadata": {
    "accelerator": "GPU",
    "colab": {
      "gpuType": "L4",
      "machine_shape": "hm",
      "provenance": []
    },
    "kernelspec": {
      "display_name": "Python 3",
      "name": "python3"
    },
    "language_info": {
      "name": "python"
    }
  },
  "nbformat": 4,
  "nbformat_minor": 0
}